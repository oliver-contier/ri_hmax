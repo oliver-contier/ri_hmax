{
 "cells": [
  {
   "cell_type": "code",
   "execution_count": 1,
   "metadata": {},
   "outputs": [
    {
     "name": "stderr",
     "output_type": "stream",
     "text": [
      "Loading required package: Matrix\n"
     ]
    }
   ],
   "source": [
    "library(lme4)"
   ]
  },
  {
   "cell_type": "markdown",
   "metadata": {},
   "source": [
    "# Load data"
   ]
  },
  {
   "cell_type": "code",
   "execution_count": 7,
   "metadata": {},
   "outputs": [],
   "source": [
    "load(\"./lme4_modelfit.RData\", ex <- new.env())\n",
    "# data frame\n",
    "df <- ex$df\n",
    "# model results\n",
    "answer_bothNT <- ex$answer_bothNT\n",
    "rt_bothNT <- ex$rt_bothNT"
   ]
  },
  {
   "cell_type": "code",
   "execution_count": 8,
   "metadata": {},
   "outputs": [
    {
     "name": "stdout",
     "output_type": "stream",
     "text": [
      "'data.frame':\t11683 obs. of  19 variables:\n",
      " $ Answer      : Factor w/ 2 levels \"0\",\"1\": 2 1 2 2 2 1 1 2 2 2 ...\n",
      " $ Block       : Factor w/ 3 levels \"0\",\"1\",\"2\": 1 2 3 1 3 1 2 3 1 2 ...\n",
      " $ CD          : num  1.14 1.14 1.14 1.14 1.14 ...\n",
      " $ Choice      : int  0 1 0 0 0 1 2 0 0 0 ...\n",
      " $ ED          : num  15.3 15.3 15.3 15.3 15.3 ...\n",
      " $ RT          : num  1.76 2.24 1.77 2.56 2.42 ...\n",
      " $ Trlnum      : int  0 33 39 38 51 2 51 46 31 6 ...\n",
      " $ conNT       : num  8.71 8.71 8.71 8.71 8.71 ...\n",
      " $ conNT_cent  : num  -0.0295 -0.0295 -0.0295 -0.0295 -0.0295 ...\n",
      " $ item_id     : Factor w/ 64 levels \"0.0\",\"1.0\",\"10.0\",..: 9 9 9 9 9 9 9 9 9 9 ...\n",
      " $ newNT       : num  7 7 7 7 7 ...\n",
      " $ newNT_cent  : num  0.00254 0.00254 0.00254 0.00254 0.00254 ...\n",
      " $ sub         : Factor w/ 32 levels \"1\",\"10\",\"11\",..: 1 1 1 12 12 23 23 23 27 27 ...\n",
      " $ task        : Factor w/ 2 levels \"disc\",\"name\": 1 1 1 1 1 1 1 1 1 1 ...\n",
      " $ task_order  : Factor w/ 2 levels \"ver1\",\"ver2\": 1 1 1 1 1 2 2 2 2 2 ...\n",
      " $ ec_b2       : num  -1 1 0 -1 0 -1 1 0 -1 1 ...\n",
      " $ ec_b3       : num  -1 0 1 -1 1 -1 0 1 -1 0 ...\n",
      " $ ec_task     : num  -1 -1 -1 -1 -1 -1 -1 -1 -1 -1 ...\n",
      " $ ec_taskorder: num  1 1 1 1 1 -1 -1 -1 -1 -1 ...\n"
     ]
    }
   ],
   "source": [
    "str(df)"
   ]
  },
  {
   "cell_type": "code",
   "execution_count": 9,
   "metadata": {},
   "outputs": [
    {
     "data": {
      "text/html": [
       "<table>\n",
       "<thead><tr><th scope=col>Answer</th><th scope=col>Block</th><th scope=col>CD</th><th scope=col>Choice</th><th scope=col>ED</th><th scope=col>RT</th><th scope=col>Trlnum</th><th scope=col>conNT</th><th scope=col>conNT_cent</th><th scope=col>item_id</th><th scope=col>newNT</th><th scope=col>newNT_cent</th><th scope=col>sub</th><th scope=col>task</th><th scope=col>task_order</th><th scope=col>ec_b2</th><th scope=col>ec_b3</th><th scope=col>ec_task</th><th scope=col>ec_taskorder</th></tr></thead>\n",
       "<tbody>\n",
       "\t<tr><td>1          </td><td>0          </td><td>1.140978   </td><td>0          </td><td>15.32376   </td><td>1.762020   </td><td> 0         </td><td>8.711341   </td><td>-0.02945527</td><td>16.0       </td><td>6.996014   </td><td>0.002536885</td><td>1          </td><td>disc       </td><td>ver1       </td><td>-1         </td><td>-1         </td><td>-1         </td><td> 1         </td></tr>\n",
       "\t<tr><td>0          </td><td>1          </td><td>1.140978   </td><td>1          </td><td>15.32376   </td><td>2.242939   </td><td>33         </td><td>8.711341   </td><td>-0.02945527</td><td>16.0       </td><td>6.996014   </td><td>0.002536885</td><td>1          </td><td>disc       </td><td>ver1       </td><td> 1         </td><td> 0         </td><td>-1         </td><td> 1         </td></tr>\n",
       "\t<tr><td>1          </td><td>2          </td><td>1.140978   </td><td>0          </td><td>15.32376   </td><td>1.766368   </td><td>39         </td><td>8.711341   </td><td>-0.02945527</td><td>16.0       </td><td>6.996014   </td><td>0.002536885</td><td>1          </td><td>disc       </td><td>ver1       </td><td> 0         </td><td> 1         </td><td>-1         </td><td> 1         </td></tr>\n",
       "\t<tr><td>1          </td><td>0          </td><td>1.140978   </td><td>0          </td><td>15.32376   </td><td>2.559490   </td><td>38         </td><td>8.711341   </td><td>-0.02945527</td><td>16.0       </td><td>6.996014   </td><td>0.002536885</td><td>2          </td><td>disc       </td><td>ver1       </td><td>-1         </td><td>-1         </td><td>-1         </td><td> 1         </td></tr>\n",
       "\t<tr><td>1          </td><td>2          </td><td>1.140978   </td><td>0          </td><td>15.32376   </td><td>2.417423   </td><td>51         </td><td>8.711341   </td><td>-0.02945527</td><td>16.0       </td><td>6.996014   </td><td>0.002536885</td><td>2          </td><td>disc       </td><td>ver1       </td><td> 0         </td><td> 1         </td><td>-1         </td><td> 1         </td></tr>\n",
       "\t<tr><td>0          </td><td>0          </td><td>1.140978   </td><td>1          </td><td>15.32376   </td><td>1.718840   </td><td> 2         </td><td>8.711341   </td><td>-0.02945527</td><td>16.0       </td><td>6.996014   </td><td>0.002536885</td><td>3          </td><td>disc       </td><td>ver2       </td><td>-1         </td><td>-1         </td><td>-1         </td><td>-1         </td></tr>\n",
       "</tbody>\n",
       "</table>\n"
      ],
      "text/latex": [
       "\\begin{tabular}{r|lllllllllllllllllll}\n",
       " Answer & Block & CD & Choice & ED & RT & Trlnum & conNT & conNT\\_cent & item\\_id & newNT & newNT\\_cent & sub & task & task\\_order & ec\\_b2 & ec\\_b3 & ec\\_task & ec\\_taskorder\\\\\n",
       "\\hline\n",
       "\t 1           & 0           & 1.140978    & 0           & 15.32376    & 1.762020    &  0          & 8.711341    & -0.02945527 & 16.0        & 6.996014    & 0.002536885 & 1           & disc        & ver1        & -1          & -1          & -1          &  1         \\\\\n",
       "\t 0           & 1           & 1.140978    & 1           & 15.32376    & 2.242939    & 33          & 8.711341    & -0.02945527 & 16.0        & 6.996014    & 0.002536885 & 1           & disc        & ver1        &  1          &  0          & -1          &  1         \\\\\n",
       "\t 1           & 2           & 1.140978    & 0           & 15.32376    & 1.766368    & 39          & 8.711341    & -0.02945527 & 16.0        & 6.996014    & 0.002536885 & 1           & disc        & ver1        &  0          &  1          & -1          &  1         \\\\\n",
       "\t 1           & 0           & 1.140978    & 0           & 15.32376    & 2.559490    & 38          & 8.711341    & -0.02945527 & 16.0        & 6.996014    & 0.002536885 & 2           & disc        & ver1        & -1          & -1          & -1          &  1         \\\\\n",
       "\t 1           & 2           & 1.140978    & 0           & 15.32376    & 2.417423    & 51          & 8.711341    & -0.02945527 & 16.0        & 6.996014    & 0.002536885 & 2           & disc        & ver1        &  0          &  1          & -1          &  1         \\\\\n",
       "\t 0           & 0           & 1.140978    & 1           & 15.32376    & 1.718840    &  2          & 8.711341    & -0.02945527 & 16.0        & 6.996014    & 0.002536885 & 3           & disc        & ver2        & -1          & -1          & -1          & -1         \\\\\n",
       "\\end{tabular}\n"
      ],
      "text/markdown": [
       "\n",
       "Answer | Block | CD | Choice | ED | RT | Trlnum | conNT | conNT_cent | item_id | newNT | newNT_cent | sub | task | task_order | ec_b2 | ec_b3 | ec_task | ec_taskorder | \n",
       "|---|---|---|---|---|---|\n",
       "| 1           | 0           | 1.140978    | 0           | 15.32376    | 1.762020    |  0          | 8.711341    | -0.02945527 | 16.0        | 6.996014    | 0.002536885 | 1           | disc        | ver1        | -1          | -1          | -1          |  1          | \n",
       "| 0           | 1           | 1.140978    | 1           | 15.32376    | 2.242939    | 33          | 8.711341    | -0.02945527 | 16.0        | 6.996014    | 0.002536885 | 1           | disc        | ver1        |  1          |  0          | -1          |  1          | \n",
       "| 1           | 2           | 1.140978    | 0           | 15.32376    | 1.766368    | 39          | 8.711341    | -0.02945527 | 16.0        | 6.996014    | 0.002536885 | 1           | disc        | ver1        |  0          |  1          | -1          |  1          | \n",
       "| 1           | 0           | 1.140978    | 0           | 15.32376    | 2.559490    | 38          | 8.711341    | -0.02945527 | 16.0        | 6.996014    | 0.002536885 | 2           | disc        | ver1        | -1          | -1          | -1          |  1          | \n",
       "| 1           | 2           | 1.140978    | 0           | 15.32376    | 2.417423    | 51          | 8.711341    | -0.02945527 | 16.0        | 6.996014    | 0.002536885 | 2           | disc        | ver1        |  0          |  1          | -1          |  1          | \n",
       "| 0           | 0           | 1.140978    | 1           | 15.32376    | 1.718840    |  2          | 8.711341    | -0.02945527 | 16.0        | 6.996014    | 0.002536885 | 3           | disc        | ver2        | -1          | -1          | -1          | -1          | \n",
       "\n",
       "\n"
      ],
      "text/plain": [
       "  Answer Block CD       Choice ED       RT       Trlnum conNT    conNT_cent \n",
       "1 1      0     1.140978 0      15.32376 1.762020  0     8.711341 -0.02945527\n",
       "2 0      1     1.140978 1      15.32376 2.242939 33     8.711341 -0.02945527\n",
       "3 1      2     1.140978 0      15.32376 1.766368 39     8.711341 -0.02945527\n",
       "4 1      0     1.140978 0      15.32376 2.559490 38     8.711341 -0.02945527\n",
       "5 1      2     1.140978 0      15.32376 2.417423 51     8.711341 -0.02945527\n",
       "6 0      0     1.140978 1      15.32376 1.718840  2     8.711341 -0.02945527\n",
       "  item_id newNT    newNT_cent  sub task task_order ec_b2 ec_b3 ec_task\n",
       "1 16.0    6.996014 0.002536885 1   disc ver1       -1    -1    -1     \n",
       "2 16.0    6.996014 0.002536885 1   disc ver1        1     0    -1     \n",
       "3 16.0    6.996014 0.002536885 1   disc ver1        0     1    -1     \n",
       "4 16.0    6.996014 0.002536885 2   disc ver1       -1    -1    -1     \n",
       "5 16.0    6.996014 0.002536885 2   disc ver1        0     1    -1     \n",
       "6 16.0    6.996014 0.002536885 3   disc ver2       -1    -1    -1     \n",
       "  ec_taskorder\n",
       "1  1          \n",
       "2  1          \n",
       "3  1          \n",
       "4  1          \n",
       "5  1          \n",
       "6 -1          "
      ]
     },
     "metadata": {},
     "output_type": "display_data"
    }
   ],
   "source": [
    "head(df)"
   ]
  },
  {
   "cell_type": "markdown",
   "metadata": {},
   "source": [
    "# GLM"
   ]
  },
  {
   "cell_type": "markdown",
   "metadata": {},
   "source": [
    "Having Block*conNT*newNT yields Errors:\n",
    "\n",
    "    “Some predictor variables are on very different scales: consider rescaling”\n",
    "    (maxstephalfit) PIRLS step-halvings failed to reduce deviance in pwrssUpdate\n"
   ]
  },
  {
   "cell_type": "code",
   "execution_count": 10,
   "metadata": {},
   "outputs": [
    {
     "name": "stderr",
     "output_type": "stream",
     "text": [
      "Warning message in vcov.merMod(object, use.hessian = use.hessian):\n",
      "“variance-covariance matrix computed from finite-difference Hessian is\n",
      "not positive definite or contains NA values: falling back to var-cov estimated from RX”Warning message in vcov.merMod(object, correlation = correlation, sigm = sig):\n",
      "“variance-covariance matrix computed from finite-difference Hessian is\n",
      "not positive definite or contains NA values: falling back to var-cov estimated from RX”Warning message:\n",
      "“'rBind' is deprecated.\n",
      " Since R version 3.2.0, base's rbind() should work fine with S4 objects”"
     ]
    },
    {
     "data": {
      "text/plain": [
       "Generalized linear mixed model fit by maximum likelihood (Laplace\n",
       "  Approximation) [glmerMod]\n",
       " Family: binomial  ( logit )\n",
       "Formula: Answer ~ conNT + newNT + Block + task + task_order + (conNT +  \n",
       "    newNT + Block + task + task_order | sub) + (1 | item_id)\n",
       "   Data: df\n",
       "Control: glmerControl(optimizer = \"bobyqa\")\n",
       "\n",
       "     AIC      BIC   logLik deviance df.resid \n",
       " 13798.7  14063.9  -6863.3  13726.7    11647 \n",
       "\n",
       "Scaled residuals: \n",
       "    Min      1Q  Median      3Q     Max \n",
       "-3.8504 -0.8270  0.4035  0.7133  5.6677 \n",
       "\n",
       "Random effects:\n",
       " Groups  Name           Variance Std.Dev. Corr                               \n",
       " item_id (Intercept)    0.85536  0.9249                                      \n",
       " sub     (Intercept)    0.44713  0.6687                                      \n",
       "         conNT          2.52085  1.5877    0.03                              \n",
       "         newNT          3.93766  1.9844   -0.06 -1.00                        \n",
       "         Block1         0.08172  0.2859    0.07  0.31 -0.33                  \n",
       "         Block2         0.10484  0.3238    0.41  0.39 -0.42  0.92            \n",
       "         taskname       0.12040  0.3470   -0.66  0.35 -0.31  0.43  0.24      \n",
       "         task_orderver2 0.41187  0.6418    0.00 -0.48  0.46  0.59  0.40 -0.11\n",
       "Number of obs: 11683, groups:  item_id, 64; sub, 32\n",
       "\n",
       "Fixed effects:\n",
       "                Estimate Std. Error z value Pr(>|z|)    \n",
       "(Intercept)    342.37619  254.70673   1.344  0.17888    \n",
       "conNT            1.62646    2.34091   0.695  0.48718    \n",
       "newNT          -50.92278   35.07264  -1.452  0.14652    \n",
       "Block1           0.13526    0.07193   1.880  0.06006 .  \n",
       "Block2           0.26142    0.07695   3.398  0.00068 ***\n",
       "taskname        -0.18369    0.07430  -2.472  0.01343 *  \n",
       "task_orderver2  -0.43675    0.17477  -2.499  0.01246 *  \n",
       "---\n",
       "Signif. codes:  0 ‘***’ 0.001 ‘**’ 0.01 ‘*’ 0.05 ‘.’ 0.1 ‘ ’ 1\n",
       "\n",
       "Correlation of Fixed Effects:\n",
       "            (Intr) conNT  newNT  Block1 Block2 tasknm\n",
       "conNT       -0.492                                   \n",
       "newNT       -0.997  0.428                            \n",
       "Block1       0.000  0.027 -0.003                     \n",
       "Block2       0.000  0.037 -0.004  0.721              \n",
       "taskname    -0.001  0.034 -0.002  0.245  0.147       \n",
       "task_rdrvr2 -0.001 -0.037  0.003  0.272  0.196 -0.059\n",
       "convergence code: 1\n",
       "unable to evaluate scaled gradient\n",
       "Model failed to converge: degenerate  Hessian with 3 negative eigenvalues\n",
       "maxfun < 10 * length(par)^2 is not recommended.\n"
      ]
     },
     "metadata": {},
     "output_type": "display_data"
    }
   ],
   "source": [
    "summary(answer_bothNT)"
   ]
  },
  {
   "cell_type": "code",
   "execution_count": 11,
   "metadata": {},
   "outputs": [
    {
     "data": {
      "text/plain": [
       "Linear mixed model fit by REML ['lmerMod']\n",
       "Formula: RT ~ conNT + newNT + Block + task + task_order + (conNT + newNT +  \n",
       "    Block + task + task_order | sub) + (1 | item_id)\n",
       "   Data: df\n",
       "\n",
       "REML criterion at convergence: 14610.2\n",
       "\n",
       "Scaled residuals: \n",
       "    Min      1Q  Median      3Q     Max \n",
       "-4.8462 -0.7387 -0.0850  0.6650  3.8902 \n",
       "\n",
       "Random effects:\n",
       " Groups   Name           Variance Std.Dev. Corr                               \n",
       " item_id  (Intercept)    0.016396 0.12805                                     \n",
       " sub      (Intercept)    0.167287 0.40901                                     \n",
       "          conNT          0.500273 0.70730  -0.25                              \n",
       "          newNT          0.772178 0.87874   0.15 -0.99                        \n",
       "          Block1         0.006141 0.07836   0.40 -0.47  0.44                  \n",
       "          Block2         0.017949 0.13397  -0.13 -0.46  0.48  0.71            \n",
       "          taskname       0.017320 0.13161   0.56 -0.06  0.00 -0.15 -0.22      \n",
       "          task_orderver2 0.183781 0.42870   0.55  0.10 -0.16 -0.37 -0.73  0.61\n",
       " Residual                0.195442 0.44209                                     \n",
       "Number of obs: 11683, groups:  item_id, 64; sub, 32\n",
       "\n",
       "Fixed effects:\n",
       "                 Estimate Std. Error t value\n",
       "(Intercept)    -72.990936  35.728150  -2.043\n",
       "conNT           -0.793953   0.349486  -2.272\n",
       "newNT           11.689249   4.920861   2.375\n",
       "Block1          -0.087961   0.017139  -5.132\n",
       "Block2          -0.129192   0.025738  -5.019\n",
       "taskname         0.086983   0.024673   3.525\n",
       "task_orderver2  -0.007036   0.099664  -0.071\n",
       "\n",
       "Correlation of Fixed Effects:\n",
       "            (Intr) conNT  newNT  Block1 Block2 tasknm\n",
       "conNT       -0.465                                   \n",
       "newNT       -0.997  0.394                            \n",
       "Block1       0.000 -0.136  0.011                     \n",
       "Block2      -0.001 -0.150  0.014  0.646              \n",
       "taskname     0.001 -0.019  0.000 -0.119 -0.194       \n",
       "task_rdrvr2  0.000  0.027 -0.004 -0.228 -0.512  0.437\n",
       "convergence code: 1\n",
       "unable to evaluate scaled gradient\n",
       "Model failed to converge: degenerate  Hessian with 4 negative eigenvalues\n"
      ]
     },
     "metadata": {},
     "output_type": "display_data"
    }
   ],
   "source": [
    "summary(rt_bothNT)"
   ]
  },
  {
   "cell_type": "code",
   "execution_count": null,
   "metadata": {},
   "outputs": [
    {
     "name": "stderr",
     "output_type": "stream",
     "text": [
      "refitting model(s) with ML (instead of REML)\n"
     ]
    }
   ],
   "source": [
    "anova(rt_bothNT, answer_bothNT)"
   ]
  },
  {
   "cell_type": "code",
   "execution_count": null,
   "metadata": {},
   "outputs": [],
   "source": []
  }
 ],
 "metadata": {
  "kernelspec": {
   "display_name": "R",
   "language": "R",
   "name": "ir"
  },
  "language_info": {
   "codemirror_mode": "r",
   "file_extension": ".r",
   "mimetype": "text/x-r-source",
   "name": "R",
   "pygments_lexer": "r",
   "version": "3.4.1"
  }
 },
 "nbformat": 4,
 "nbformat_minor": 2
}
