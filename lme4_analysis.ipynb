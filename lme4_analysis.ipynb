{
 "cells": [
  {
   "cell_type": "code",
   "execution_count": 1,
   "metadata": {},
   "outputs": [
    {
     "name": "stderr",
     "output_type": "stream",
     "text": [
      "Loading required package: Matrix\n"
     ]
    }
   ],
   "source": [
    "library(lme4)\n",
    "#library(lmerTest)"
   ]
  },
  {
   "cell_type": "code",
   "execution_count": 2,
   "metadata": {},
   "outputs": [],
   "source": [
    "# load workspace image\n",
    "load(\"./lme4_modelfit.RData\", ex <- new.env())\n",
    "\n",
    "# load data\n",
    "df <- ex$df"
   ]
  },
  {
   "cell_type": "code",
   "execution_count": 3,
   "metadata": {},
   "outputs": [
    {
     "name": "stdout",
     "output_type": "stream",
     "text": [
      "'data.frame':\t11683 obs. of  21 variables:\n",
      " $ Answer      : Factor w/ 2 levels \"0\",\"1\": 2 1 2 2 2 1 1 2 2 2 ...\n",
      " $ Block       : Factor w/ 3 levels \"0\",\"1\",\"2\": 1 2 3 1 3 1 2 3 1 2 ...\n",
      " $ CD          : num  1.14 1.14 1.14 1.14 1.14 ...\n",
      " $ Choice      : int  0 1 0 0 0 1 2 0 0 0 ...\n",
      " $ ED          : num  15.3 15.3 15.3 15.3 15.3 ...\n",
      " $ RT          : num  1.76 2.24 1.77 2.56 2.42 ...\n",
      " $ Trlnum      : int  0 33 39 38 51 2 51 46 31 6 ...\n",
      " $ conNT       : num  8.71 8.71 8.71 8.71 8.71 ...\n",
      " $ conNT_cent  : num  -0.0295 -0.0295 -0.0295 -0.0295 -0.0295 ...\n",
      " $ conNT_z     : num  -0.524 -0.524 -0.524 -0.524 -0.524 ...\n",
      " $ item_id     : Factor w/ 64 levels \"0.0\",\"1.0\",\"10.0\",..: 9 9 9 9 9 9 9 9 9 9 ...\n",
      " $ newNT       : num  7 7 7 7 7 ...\n",
      " $ newNT_cent  : num  0.00254 0.00254 0.00254 0.00254 0.00254 ...\n",
      " $ newNT_z     : num  0.681 0.681 0.681 0.681 0.681 ...\n",
      " $ sub         : Factor w/ 32 levels \"1\",\"10\",\"11\",..: 1 1 1 12 12 23 23 23 27 27 ...\n",
      " $ task        : Factor w/ 2 levels \"disc\",\"name\": 1 1 1 1 1 1 1 1 1 1 ...\n",
      " $ task_order  : Factor w/ 2 levels \"ver1\",\"ver2\": 1 1 1 1 1 2 2 2 2 2 ...\n",
      " $ ec_b2       : num  -1 1 0 -1 0 -1 1 0 -1 1 ...\n",
      " $ ec_b3       : num  -1 0 1 -1 1 -1 0 1 -1 0 ...\n",
      " $ ec_task     : num  -1 -1 -1 -1 -1 -1 -1 -1 -1 -1 ...\n",
      " $ ec_taskorder: num  1 1 1 1 1 -1 -1 -1 -1 -1 ...\n"
     ]
    }
   ],
   "source": [
    "str(df)"
   ]
  },
  {
   "cell_type": "code",
   "execution_count": 4,
   "metadata": {},
   "outputs": [
    {
     "data": {
      "text/html": [
       "<table>\n",
       "<thead><tr><th scope=col>Answer</th><th scope=col>Block</th><th scope=col>CD</th><th scope=col>Choice</th><th scope=col>ED</th><th scope=col>RT</th><th scope=col>Trlnum</th><th scope=col>conNT</th><th scope=col>conNT_cent</th><th scope=col>conNT_z</th><th scope=col>⋯</th><th scope=col>newNT</th><th scope=col>newNT_cent</th><th scope=col>newNT_z</th><th scope=col>sub</th><th scope=col>task</th><th scope=col>task_order</th><th scope=col>ec_b2</th><th scope=col>ec_b3</th><th scope=col>ec_task</th><th scope=col>ec_taskorder</th></tr></thead>\n",
       "<tbody>\n",
       "\t<tr><td>1          </td><td>0          </td><td>1.140978   </td><td>0          </td><td>15.32376   </td><td>1.762020   </td><td> 0         </td><td>8.711341   </td><td>-0.02945527</td><td>-0.5242762 </td><td>⋯          </td><td>6.996014   </td><td>0.002536885</td><td>0.6807588  </td><td>1          </td><td>disc       </td><td>ver1       </td><td>-1         </td><td>-1         </td><td>-1         </td><td> 1         </td></tr>\n",
       "\t<tr><td>0          </td><td>1          </td><td>1.140978   </td><td>1          </td><td>15.32376   </td><td>2.242939   </td><td>33         </td><td>8.711341   </td><td>-0.02945527</td><td>-0.5242762 </td><td>⋯          </td><td>6.996014   </td><td>0.002536885</td><td>0.6807588  </td><td>1          </td><td>disc       </td><td>ver1       </td><td> 1         </td><td> 0         </td><td>-1         </td><td> 1         </td></tr>\n",
       "\t<tr><td>1          </td><td>2          </td><td>1.140978   </td><td>0          </td><td>15.32376   </td><td>1.766368   </td><td>39         </td><td>8.711341   </td><td>-0.02945527</td><td>-0.5242762 </td><td>⋯          </td><td>6.996014   </td><td>0.002536885</td><td>0.6807588  </td><td>1          </td><td>disc       </td><td>ver1       </td><td> 0         </td><td> 1         </td><td>-1         </td><td> 1         </td></tr>\n",
       "\t<tr><td>1          </td><td>0          </td><td>1.140978   </td><td>0          </td><td>15.32376   </td><td>2.559490   </td><td>38         </td><td>8.711341   </td><td>-0.02945527</td><td>-0.5242762 </td><td>⋯          </td><td>6.996014   </td><td>0.002536885</td><td>0.6807588  </td><td>2          </td><td>disc       </td><td>ver1       </td><td>-1         </td><td>-1         </td><td>-1         </td><td> 1         </td></tr>\n",
       "\t<tr><td>1          </td><td>2          </td><td>1.140978   </td><td>0          </td><td>15.32376   </td><td>2.417423   </td><td>51         </td><td>8.711341   </td><td>-0.02945527</td><td>-0.5242762 </td><td>⋯          </td><td>6.996014   </td><td>0.002536885</td><td>0.6807588  </td><td>2          </td><td>disc       </td><td>ver1       </td><td> 0         </td><td> 1         </td><td>-1         </td><td> 1         </td></tr>\n",
       "\t<tr><td>0          </td><td>0          </td><td>1.140978   </td><td>1          </td><td>15.32376   </td><td>1.718840   </td><td> 2         </td><td>8.711341   </td><td>-0.02945527</td><td>-0.5242762 </td><td>⋯          </td><td>6.996014   </td><td>0.002536885</td><td>0.6807588  </td><td>3          </td><td>disc       </td><td>ver2       </td><td>-1         </td><td>-1         </td><td>-1         </td><td>-1         </td></tr>\n",
       "</tbody>\n",
       "</table>\n"
      ],
      "text/latex": [
       "\\begin{tabular}{r|lllllllllllllllllllll}\n",
       " Answer & Block & CD & Choice & ED & RT & Trlnum & conNT & conNT\\_cent & conNT\\_z & ⋯ & newNT & newNT\\_cent & newNT\\_z & sub & task & task\\_order & ec\\_b2 & ec\\_b3 & ec\\_task & ec\\_taskorder\\\\\n",
       "\\hline\n",
       "\t 1           & 0           & 1.140978    & 0           & 15.32376    & 1.762020    &  0          & 8.711341    & -0.02945527 & -0.5242762  & ⋯           & 6.996014    & 0.002536885 & 0.6807588   & 1           & disc        & ver1        & -1          & -1          & -1          &  1         \\\\\n",
       "\t 0           & 1           & 1.140978    & 1           & 15.32376    & 2.242939    & 33          & 8.711341    & -0.02945527 & -0.5242762  & ⋯           & 6.996014    & 0.002536885 & 0.6807588   & 1           & disc        & ver1        &  1          &  0          & -1          &  1         \\\\\n",
       "\t 1           & 2           & 1.140978    & 0           & 15.32376    & 1.766368    & 39          & 8.711341    & -0.02945527 & -0.5242762  & ⋯           & 6.996014    & 0.002536885 & 0.6807588   & 1           & disc        & ver1        &  0          &  1          & -1          &  1         \\\\\n",
       "\t 1           & 0           & 1.140978    & 0           & 15.32376    & 2.559490    & 38          & 8.711341    & -0.02945527 & -0.5242762  & ⋯           & 6.996014    & 0.002536885 & 0.6807588   & 2           & disc        & ver1        & -1          & -1          & -1          &  1         \\\\\n",
       "\t 1           & 2           & 1.140978    & 0           & 15.32376    & 2.417423    & 51          & 8.711341    & -0.02945527 & -0.5242762  & ⋯           & 6.996014    & 0.002536885 & 0.6807588   & 2           & disc        & ver1        &  0          &  1          & -1          &  1         \\\\\n",
       "\t 0           & 0           & 1.140978    & 1           & 15.32376    & 1.718840    &  2          & 8.711341    & -0.02945527 & -0.5242762  & ⋯           & 6.996014    & 0.002536885 & 0.6807588   & 3           & disc        & ver2        & -1          & -1          & -1          & -1         \\\\\n",
       "\\end{tabular}\n"
      ],
      "text/markdown": [
       "\n",
       "Answer | Block | CD | Choice | ED | RT | Trlnum | conNT | conNT_cent | conNT_z | ⋯ | newNT | newNT_cent | newNT_z | sub | task | task_order | ec_b2 | ec_b3 | ec_task | ec_taskorder | \n",
       "|---|---|---|---|---|---|\n",
       "| 1           | 0           | 1.140978    | 0           | 15.32376    | 1.762020    |  0          | 8.711341    | -0.02945527 | -0.5242762  | ⋯           | 6.996014    | 0.002536885 | 0.6807588   | 1           | disc        | ver1        | -1          | -1          | -1          |  1          | \n",
       "| 0           | 1           | 1.140978    | 1           | 15.32376    | 2.242939    | 33          | 8.711341    | -0.02945527 | -0.5242762  | ⋯           | 6.996014    | 0.002536885 | 0.6807588   | 1           | disc        | ver1        |  1          |  0          | -1          |  1          | \n",
       "| 1           | 2           | 1.140978    | 0           | 15.32376    | 1.766368    | 39          | 8.711341    | -0.02945527 | -0.5242762  | ⋯           | 6.996014    | 0.002536885 | 0.6807588   | 1           | disc        | ver1        |  0          |  1          | -1          |  1          | \n",
       "| 1           | 0           | 1.140978    | 0           | 15.32376    | 2.559490    | 38          | 8.711341    | -0.02945527 | -0.5242762  | ⋯           | 6.996014    | 0.002536885 | 0.6807588   | 2           | disc        | ver1        | -1          | -1          | -1          |  1          | \n",
       "| 1           | 2           | 1.140978    | 0           | 15.32376    | 2.417423    | 51          | 8.711341    | -0.02945527 | -0.5242762  | ⋯           | 6.996014    | 0.002536885 | 0.6807588   | 2           | disc        | ver1        |  0          |  1          | -1          |  1          | \n",
       "| 0           | 0           | 1.140978    | 1           | 15.32376    | 1.718840    |  2          | 8.711341    | -0.02945527 | -0.5242762  | ⋯           | 6.996014    | 0.002536885 | 0.6807588   | 3           | disc        | ver2        | -1          | -1          | -1          | -1          | \n",
       "\n",
       "\n"
      ],
      "text/plain": [
       "  Answer Block CD       Choice ED       RT       Trlnum conNT    conNT_cent \n",
       "1 1      0     1.140978 0      15.32376 1.762020  0     8.711341 -0.02945527\n",
       "2 0      1     1.140978 1      15.32376 2.242939 33     8.711341 -0.02945527\n",
       "3 1      2     1.140978 0      15.32376 1.766368 39     8.711341 -0.02945527\n",
       "4 1      0     1.140978 0      15.32376 2.559490 38     8.711341 -0.02945527\n",
       "5 1      2     1.140978 0      15.32376 2.417423 51     8.711341 -0.02945527\n",
       "6 0      0     1.140978 1      15.32376 1.718840  2     8.711341 -0.02945527\n",
       "  conNT_z    ⋯ newNT    newNT_cent  newNT_z   sub task task_order ec_b2 ec_b3\n",
       "1 -0.5242762 ⋯ 6.996014 0.002536885 0.6807588 1   disc ver1       -1    -1   \n",
       "2 -0.5242762 ⋯ 6.996014 0.002536885 0.6807588 1   disc ver1        1     0   \n",
       "3 -0.5242762 ⋯ 6.996014 0.002536885 0.6807588 1   disc ver1        0     1   \n",
       "4 -0.5242762 ⋯ 6.996014 0.002536885 0.6807588 2   disc ver1       -1    -1   \n",
       "5 -0.5242762 ⋯ 6.996014 0.002536885 0.6807588 2   disc ver1        0     1   \n",
       "6 -0.5242762 ⋯ 6.996014 0.002536885 0.6807588 3   disc ver2       -1    -1   \n",
       "  ec_task ec_taskorder\n",
       "1 -1       1          \n",
       "2 -1       1          \n",
       "3 -1       1          \n",
       "4 -1       1          \n",
       "5 -1       1          \n",
       "6 -1      -1          "
      ]
     },
     "metadata": {},
     "output_type": "display_data"
    }
   ],
   "source": [
    "head(df)"
   ]
  },
  {
   "cell_type": "markdown",
   "metadata": {},
   "source": [
    "# NT models"
   ]
  },
  {
   "cell_type": "markdown",
   "metadata": {},
   "source": [
    "## Model summaries"
   ]
  },
  {
   "cell_type": "code",
   "execution_count": 46,
   "metadata": {},
   "outputs": [],
   "source": [
    "# load fitted models\n",
    "answer_bothNT <- ex$answer_bothNT\n",
    "answer_conNT <- ex$answer_conNT\n",
    "answer_newNT <- ex$answer_newNT\n",
    "answer_null <- ex$answer_null\n",
    "rt_bothNT <- ex$rt_bothNT\n",
    "rt_conNT <- ex$rt_conNT\n",
    "rt_newNT <- ex$rt_newNT\n",
    "rt_null <- ex$rt_null"
   ]
  },
  {
   "cell_type": "markdown",
   "metadata": {},
   "source": [
    "### Accuracies"
   ]
  },
  {
   "cell_type": "code",
   "execution_count": 5,
   "metadata": {},
   "outputs": [],
   "source": [
    "#summary(answer_bothNT)"
   ]
  },
  {
   "cell_type": "code",
   "execution_count": 68,
   "metadata": {},
   "outputs": [],
   "source": [
    "#summary(answer_newNT)"
   ]
  },
  {
   "cell_type": "code",
   "execution_count": 7,
   "metadata": {},
   "outputs": [],
   "source": [
    "#summary(answer_conNT)"
   ]
  },
  {
   "cell_type": "code",
   "execution_count": 8,
   "metadata": {},
   "outputs": [],
   "source": [
    "#summary(answer_null)"
   ]
  },
  {
   "cell_type": "markdown",
   "metadata": {},
   "source": [
    "The newNT predictor is marginally significant (p <.1) in the bothNT and neNT model. Nothing else interesting going on."
   ]
  },
  {
   "cell_type": "markdown",
   "metadata": {},
   "source": [
    "### RT"
   ]
  },
  {
   "cell_type": "code",
   "execution_count": 13,
   "metadata": {},
   "outputs": [],
   "source": [
    "#summary(rt_bothNT)"
   ]
  },
  {
   "cell_type": "code",
   "execution_count": 14,
   "metadata": {},
   "outputs": [],
   "source": [
    "#summary(rt_conNT)"
   ]
  },
  {
   "cell_type": "code",
   "execution_count": 72,
   "metadata": {},
   "outputs": [],
   "source": [
    "#summary(rt_newNT)"
   ]
  },
  {
   "cell_type": "code",
   "execution_count": 17,
   "metadata": {},
   "outputs": [],
   "source": [
    "#summary(rt_null)"
   ]
  },
  {
   "cell_type": "markdown",
   "metadata": {},
   "source": [
    "The lme4 package does not give us p-values for linear models. Hence, we have to interpret our effects based on model comparison"
   ]
  },
  {
   "cell_type": "markdown",
   "metadata": {},
   "source": [
    "## Model comparison"
   ]
  },
  {
   "cell_type": "code",
   "execution_count": 52,
   "metadata": {},
   "outputs": [],
   "source": [
    "# load results of likelihood ratio tests between models\n",
    "answer_nullboth <- ex$answer_nullboth\n",
    "answer_nullnew <- ex$answer_nullnew\n",
    "answer_nullcon <- ex$answer_nullcon\n",
    "answer_bothcon <- ex$answer_bothcon\n",
    "answer_bothnew <- ex$answer_bothnew\n",
    "\n",
    "rt_nullboth <- ex$rt_nullboth\n",
    "rt_nullnew <- ex$rt_nullnew\n",
    "rt_nullcon <- ex$rt_nullcon\n",
    "rt_bothcon <- ex$rt_bothcon\n",
    "rt_bothnew <- ex$rt_bothnew"
   ]
  },
  {
   "cell_type": "markdown",
   "metadata": {},
   "source": [
    "### Accuracies"
   ]
  },
  {
   "cell_type": "code",
   "execution_count": 50,
   "metadata": {},
   "outputs": [
    {
     "name": "stdout",
     "output_type": "stream",
     "text": [
      "Data: df\n",
      "Models:\n",
      "answer_null: Answer ~ Block + task + task_order + (Block + task + task_order | \n",
      "answer_null:     sub) + (1 | item_id)\n",
      "answer_bothNT: Answer ~ conNT_z + newNT_z + Block + task + task_order + (conNT_z + \n",
      "answer_bothNT:     newNT_z + Block + task + task_order | sub) + (1 | item_id)\n",
      "              Df   AIC   BIC  logLik deviance Chisq Chi Df Pr(>Chisq)\n",
      "answer_null   21 13782 13937 -6870.0    13740                        \n",
      "answer_bothNT 36 13823 14088 -6875.6    13751     0     15          1\n"
     ]
    }
   ],
   "source": [
    "print(answer_nullboth)"
   ]
  },
  {
   "cell_type": "code",
   "execution_count": 53,
   "metadata": {},
   "outputs": [
    {
     "name": "stdout",
     "output_type": "stream",
     "text": [
      "Data: df\n",
      "Models:\n",
      "answer_null: Answer ~ Block + task + task_order + (Block + task + task_order | \n",
      "answer_null:     sub) + (1 | item_id)\n",
      "answer_newNT: Answer ~ newNT_z + Block + task + task_order + (newNT_z + Block + \n",
      "answer_newNT:     task + task_order | sub) + (1 | item_id)\n",
      "             Df   AIC   BIC  logLik deviance  Chisq Chi Df Pr(>Chisq)  \n",
      "answer_null  21 13782 13937 -6870.0    13740                           \n",
      "answer_newNT 28 13781 13987 -6862.6    13725 14.776      7    0.03898 *\n",
      "---\n",
      "Signif. codes:  0 ‘***’ 0.001 ‘**’ 0.01 ‘*’ 0.05 ‘.’ 0.1 ‘ ’ 1\n"
     ]
    }
   ],
   "source": [
    "print(answer_nullnew)"
   ]
  },
  {
   "cell_type": "code",
   "execution_count": 54,
   "metadata": {},
   "outputs": [
    {
     "name": "stdout",
     "output_type": "stream",
     "text": [
      "Data: df\n",
      "Models:\n",
      "answer_null: Answer ~ Block + task + task_order + (Block + task + task_order | \n",
      "answer_null:     sub) + (1 | item_id)\n",
      "answer_conNT: Answer ~ conNT_z + Block + task + task_order + (conNT_z + Block + \n",
      "answer_conNT:     task + task_order | sub) + (1 | item_id)\n",
      "             Df   AIC   BIC logLik deviance  Chisq Chi Df Pr(>Chisq)\n",
      "answer_null  21 13782 13937  -6870    13740                         \n",
      "answer_conNT 28 13786 13992  -6865    13730 9.9386      7     0.1921\n"
     ]
    }
   ],
   "source": [
    "print(answer_nullcon)"
   ]
  },
  {
   "cell_type": "code",
   "execution_count": 55,
   "metadata": {},
   "outputs": [
    {
     "name": "stdout",
     "output_type": "stream",
     "text": [
      "Data: df\n",
      "Models:\n",
      "answer_conNT: Answer ~ conNT_z + Block + task + task_order + (conNT_z + Block + \n",
      "answer_conNT:     task + task_order | sub) + (1 | item_id)\n",
      "answer_bothNT: Answer ~ conNT_z + newNT_z + Block + task + task_order + (conNT_z + \n",
      "answer_bothNT:     newNT_z + Block + task + task_order | sub) + (1 | item_id)\n",
      "              Df   AIC   BIC  logLik deviance Chisq Chi Df Pr(>Chisq)\n",
      "answer_conNT  28 13786 13992 -6865.0    13730                        \n",
      "answer_bothNT 36 13823 14088 -6875.6    13751     0      8          1\n"
     ]
    }
   ],
   "source": [
    "print(answer_bothcon)"
   ]
  },
  {
   "cell_type": "code",
   "execution_count": 56,
   "metadata": {},
   "outputs": [
    {
     "name": "stdout",
     "output_type": "stream",
     "text": [
      "Data: df\n",
      "Models:\n",
      "answer_conNT: Answer ~ conNT_z + Block + task + task_order + (conNT_z + Block + \n",
      "answer_conNT:     task + task_order | sub) + (1 | item_id)\n",
      "answer_bothNT: Answer ~ conNT_z + newNT_z + Block + task + task_order + (conNT_z + \n",
      "answer_bothNT:     newNT_z + Block + task + task_order | sub) + (1 | item_id)\n",
      "              Df   AIC   BIC  logLik deviance Chisq Chi Df Pr(>Chisq)\n",
      "answer_conNT  28 13786 13992 -6865.0    13730                        \n",
      "answer_bothNT 36 13823 14088 -6875.6    13751     0      8          1\n"
     ]
    }
   ],
   "source": [
    "print(answer_bothnew)"
   ]
  },
  {
   "cell_type": "markdown",
   "metadata": {},
   "source": [
    "The newNT model is better than the null model and better than the conNT model"
   ]
  },
  {
   "cell_type": "markdown",
   "metadata": {},
   "source": [
    "### RT"
   ]
  },
  {
   "cell_type": "code",
   "execution_count": 60,
   "metadata": {},
   "outputs": [
    {
     "name": "stdout",
     "output_type": "stream",
     "text": [
      "Data: df\n",
      "Models:\n",
      "rt_null: RT ~ conNT_z + Block + task + task_order + (conNT_z + Block + \n",
      "rt_null:     task + task_order | sub) + (1 | item_id)\n",
      "rt_bothNT: RT ~ conNT_z + newNT_z + Block + task + task_order + (conNT_z + \n",
      "rt_bothNT:     newNT_z + Block + task + task_order | sub) + (1 | item_id)\n",
      "          Df   AIC   BIC  logLik deviance  Chisq Chi Df Pr(>Chisq)    \n",
      "rt_null   29 14661 14874 -7301.3    14603                             \n",
      "rt_bothNT 37 14625 14898 -7275.6    14551 51.344      8  2.252e-08 ***\n",
      "---\n",
      "Signif. codes:  0 ‘***’ 0.001 ‘**’ 0.01 ‘*’ 0.05 ‘.’ 0.1 ‘ ’ 1\n"
     ]
    }
   ],
   "source": [
    "print(rt_nullboth)"
   ]
  },
  {
   "cell_type": "code",
   "execution_count": 61,
   "metadata": {},
   "outputs": [
    {
     "name": "stdout",
     "output_type": "stream",
     "text": [
      "Data: df\n",
      "Models:\n",
      "rt_null: RT ~ conNT_z + Block + task + task_order + (conNT_z + Block + \n",
      "rt_null:     task + task_order | sub) + (1 | item_id)\n",
      "rt_newNT: RT ~ newNT_z + Block + task + task_order + (newNT_z + Block + \n",
      "rt_newNT:     task + task_order | sub) + (1 | item_id)\n",
      "         Df   AIC   BIC  logLik deviance  Chisq Chi Df Pr(>Chisq)    \n",
      "rt_null  29 14661 14874 -7301.3    14603                             \n",
      "rt_newNT 29 14642 14856 -7292.3    14584 18.122      0  < 2.2e-16 ***\n",
      "---\n",
      "Signif. codes:  0 ‘***’ 0.001 ‘**’ 0.01 ‘*’ 0.05 ‘.’ 0.1 ‘ ’ 1\n"
     ]
    }
   ],
   "source": [
    "print(rt_nullnew)"
   ]
  },
  {
   "cell_type": "code",
   "execution_count": 62,
   "metadata": {},
   "outputs": [
    {
     "name": "stdout",
     "output_type": "stream",
     "text": [
      "Data: df\n",
      "Models:\n",
      "rt_null: RT ~ conNT_z + Block + task + task_order + (conNT_z + Block + \n",
      "rt_null:     task + task_order | sub) + (1 | item_id)\n",
      "rt_conNT: RT ~ conNT_z + Block + task + task_order + (conNT_z + Block + \n",
      "rt_conNT:     task + task_order | sub) + (1 | item_id)\n",
      "         Df   AIC   BIC  logLik deviance Chisq Chi Df Pr(>Chisq)\n",
      "rt_null  29 14661 14874 -7301.3    14603                        \n",
      "rt_conNT 29 14661 14874 -7301.3    14603     0      0          1\n"
     ]
    }
   ],
   "source": [
    "print(rt_nullcon)"
   ]
  },
  {
   "cell_type": "code",
   "execution_count": 63,
   "metadata": {},
   "outputs": [
    {
     "name": "stdout",
     "output_type": "stream",
     "text": [
      "Data: df\n",
      "Models:\n",
      "rt_conNT: RT ~ conNT_z + Block + task + task_order + (conNT_z + Block + \n",
      "rt_conNT:     task + task_order | sub) + (1 | item_id)\n",
      "rt_bothNT: RT ~ conNT_z + newNT_z + Block + task + task_order + (conNT_z + \n",
      "rt_bothNT:     newNT_z + Block + task + task_order | sub) + (1 | item_id)\n",
      "          Df   AIC   BIC  logLik deviance  Chisq Chi Df Pr(>Chisq)    \n",
      "rt_conNT  29 14661 14874 -7301.3    14603                             \n",
      "rt_bothNT 37 14625 14898 -7275.6    14551 51.344      8  2.252e-08 ***\n",
      "---\n",
      "Signif. codes:  0 ‘***’ 0.001 ‘**’ 0.01 ‘*’ 0.05 ‘.’ 0.1 ‘ ’ 1\n"
     ]
    }
   ],
   "source": [
    "print(rt_bothcon)"
   ]
  },
  {
   "cell_type": "code",
   "execution_count": 65,
   "metadata": {},
   "outputs": [
    {
     "name": "stdout",
     "output_type": "stream",
     "text": [
      "Data: df\n",
      "Models:\n",
      "rt_conNT: RT ~ conNT_z + Block + task + task_order + (conNT_z + Block + \n",
      "rt_conNT:     task + task_order | sub) + (1 | item_id)\n",
      "rt_bothNT: RT ~ conNT_z + newNT_z + Block + task + task_order + (conNT_z + \n",
      "rt_bothNT:     newNT_z + Block + task + task_order | sub) + (1 | item_id)\n",
      "          Df   AIC   BIC  logLik deviance  Chisq Chi Df Pr(>Chisq)    \n",
      "rt_conNT  29 14661 14874 -7301.3    14603                             \n",
      "rt_bothNT 37 14625 14898 -7275.6    14551 51.344      8  2.252e-08 ***\n",
      "---\n",
      "Signif. codes:  0 ‘***’ 0.001 ‘**’ 0.01 ‘*’ 0.05 ‘.’ 0.1 ‘ ’ 1\n"
     ]
    }
   ],
   "source": [
    "# that's wrong, the output sais conNT where it should be newNT.\n",
    "# mistake in my anova script!\n",
    "# rerun!\n",
    "print(rt_bothnew)"
   ]
  },
  {
   "cell_type": "markdown",
   "metadata": {},
   "source": [
    "newNT model is significantly better than the null model. In line with that, the bothNT model is significantly better than the conNT or the null model."
   ]
  },
  {
   "cell_type": "markdown",
   "metadata": {},
   "source": [
    "## Conclusion"
   ]
  },
  {
   "cell_type": "markdown",
   "metadata": {},
   "source": [
    "The modelled neural typicality among the RI percepts explains the data better than models without this measure."
   ]
  },
  {
   "cell_type": "markdown",
   "metadata": {},
   "source": [
    "# ED and CD models"
   ]
  },
  {
   "cell_type": "code",
   "execution_count": 6,
   "metadata": {},
   "outputs": [],
   "source": [
    "# load models\n",
    "answer_bothD <- ex$answer_bothD\n",
    "answer_ED <- ex$answer_ED\n",
    "answer_CD <- ex$answer_CD\n",
    "\n",
    "rt_bothD <- ex$rt_bothD\n",
    "rt_ED <- ex$rt_ED\n",
    "rt_CD <- ex$rt_CD"
   ]
  },
  {
   "cell_type": "markdown",
   "metadata": {},
   "source": [
    "## Model summaries"
   ]
  },
  {
   "cell_type": "markdown",
   "metadata": {},
   "source": [
    "### Accuracies"
   ]
  },
  {
   "cell_type": "code",
   "execution_count": 43,
   "metadata": {
    "scrolled": false
   },
   "outputs": [
    {
     "data": {
      "text/plain": [
       "Generalized linear mixed model fit by maximum likelihood (Laplace\n",
       "  Approximation) [glmerMod]\n",
       " Family: binomial  ( logit )\n",
       "Formula: Answer ~ ED + CD + Block + task + task_order + (ED + CD + Block +  \n",
       "    task + task_order | sub) + (1 | item_id)\n",
       "   Data: df\n",
       "Control: glmerControl(optimizer = \"Nelder_Mead\")\n",
       "\n",
       "     AIC      BIC   logLik deviance df.resid \n",
       " 13802.0  14067.2  -6865.0  13730.0    11647 \n",
       "\n",
       "Scaled residuals: \n",
       "    Min      1Q  Median      3Q     Max \n",
       "-4.4406 -0.8237  0.3920  0.7157  5.4381 \n",
       "\n",
       "Random effects:\n",
       " Groups  Name           Variance Std.Dev. Corr                               \n",
       " item_id (Intercept)    0.80361  0.8964                                      \n",
       " sub     (Intercept)    2.53142  1.5910                                      \n",
       "         ED             0.01626  0.1275   -1.00                              \n",
       "         CD             0.02231  0.1494   -0.63  0.67                        \n",
       "         Block1         0.13731  0.3705    0.67 -0.66 -0.23                  \n",
       "         Block2         0.14557  0.3815    0.51 -0.49  0.12  0.92            \n",
       "         taskname       0.13907  0.3729    0.36 -0.34 -0.06  0.33  0.21      \n",
       "         task_orderver2 2.37211  1.5402    0.57 -0.56 -0.17  0.67  0.71 -0.17\n",
       "Number of obs: 11683, groups:  item_id, 64; sub, 32\n",
       "\n",
       "Fixed effects:\n",
       "               Estimate Std. Error z value Pr(>|z|)    \n",
       "(Intercept)    -3.48999    1.77077  -1.971 0.048737 *  \n",
       "ED              0.21525    0.10750   2.002 0.045250 *  \n",
       "CD              0.52861    0.14345   3.685 0.000229 ***\n",
       "Block1          0.13087    0.08367   1.564 0.117807    \n",
       "Block2          0.25009    0.08538   2.929 0.003400 ** \n",
       "taskname       -0.16931    0.07856  -2.155 0.031135 *  \n",
       "task_orderver2 -0.43286    0.44172  -0.980 0.327116    \n",
       "---\n",
       "Signif. codes:  0 ‘***’ 0.001 ‘**’ 0.01 ‘*’ 0.05 ‘.’ 0.1 ‘ ’ 1\n",
       "\n",
       "Correlation of Fixed Effects:\n",
       "            (Intr) ED     CD     Block1 Block2 tasknm\n",
       "ED          -0.993                                   \n",
       "CD          -0.761  0.728                            \n",
       "Block1       0.075 -0.110 -0.033                     \n",
       "Block2       0.055 -0.081  0.019  0.765              \n",
       "taskname     0.044 -0.061 -0.011  0.218  0.135       \n",
       "task_rdrvr2  0.044 -0.073 -0.020  0.316  0.334 -0.080\n",
       "convergence code: 0\n",
       "unable to evaluate scaled gradient\n",
       "Model failed to converge: degenerate  Hessian with 2 negative eigenvalues\n",
       "failure to converge in 10000 evaluations\n"
      ]
     },
     "metadata": {},
     "output_type": "display_data"
    }
   ],
   "source": [
    "summary(answer_bothD)"
   ]
  },
  {
   "cell_type": "code",
   "execution_count": 12,
   "metadata": {},
   "outputs": [],
   "source": [
    "#summary(answer_ED)"
   ]
  },
  {
   "cell_type": "code",
   "execution_count": 13,
   "metadata": {},
   "outputs": [],
   "source": [
    "#summary(answer_CD)"
   ]
  },
  {
   "cell_type": "markdown",
   "metadata": {},
   "source": [
    "ED and CD have a significant effect on accuracies when included in the same model or individual models. (thogh ED only has marginal influence in its individual model).\n",
    "\n",
    "Weirdly, both their parameter estimates are positive, i.e. participants are more likely to respond correctly, the greater the distance from the centroid is (plausible, because it's a measure of uniqueness), but also the greater the distance from the original is.\n",
    "\n",
    "However, these parameters are on a log scale and should be interpreted with caution."
   ]
  },
  {
   "cell_type": "markdown",
   "metadata": {},
   "source": [
    "### RT"
   ]
  },
  {
   "cell_type": "code",
   "execution_count": 44,
   "metadata": {},
   "outputs": [
    {
     "data": {
      "text/plain": [
       "Linear mixed model fit by maximum likelihood  ['lmerMod']\n",
       "Formula: RT ~ ED + CD + Block + task + task_order + (ED + CD + Block +  \n",
       "    task + task_order | sub) + (1 | item_id)\n",
       "   Data: df\n",
       "Control: lmerControl(optimizer = \"Nelder_Mead\")\n",
       "\n",
       "     AIC      BIC   logLik deviance df.resid \n",
       " 14843.0  15115.5  -7384.5  14769.0    11646 \n",
       "\n",
       "Scaled residuals: \n",
       "    Min      1Q  Median      3Q     Max \n",
       "-4.7944 -0.7416 -0.0792  0.6637  4.0586 \n",
       "\n",
       "Random effects:\n",
       " Groups   Name           Variance  Std.Dev. Corr                               \n",
       " item_id  (Intercept)    0.0178900 0.13375                                     \n",
       " sub      (Intercept)    0.1200327 0.34646                                     \n",
       "          ED             0.0004175 0.02043  -0.78                              \n",
       "          CD             0.0006197 0.02489  -0.51  0.15                        \n",
       "          Block1         0.1692905 0.41145  -0.21  0.17  0.13                  \n",
       "          Block2         0.4909416 0.70067   0.04  0.01 -0.08 -0.02            \n",
       "          taskname       0.0296792 0.17228  -0.10  0.03  0.01  0.10  0.56      \n",
       "          task_orderver2 0.4094408 0.63988   0.09 -0.01 -0.16 -0.01 -0.03 -0.09\n",
       " Residual                0.1938222 0.44025                                     \n",
       "Number of obs: 11683, groups:  item_id, 64; sub, 32\n",
       "\n",
       "Fixed effects:\n",
       "               Estimate Std. Error t value\n",
       "(Intercept)     1.72204    0.27057   6.364\n",
       "ED              0.01019    0.01616   0.631\n",
       "CD             -0.04102    0.02158  -1.901\n",
       "Block1         -0.08677    0.07343  -1.182\n",
       "Block2         -0.12902    0.12427  -1.038\n",
       "taskname        0.08695    0.03154   2.757\n",
       "task_orderver2 -0.08275    0.17440  -0.474\n",
       "\n",
       "Correlation of Fixed Effects:\n",
       "            (Intr) ED     CD     Block1 Block2 tasknm\n",
       "ED          -0.978                                   \n",
       "CD          -0.753  0.707                            \n",
       "Block1      -0.050  0.038  0.027                     \n",
       "Block2       0.007  0.001 -0.017 -0.017              \n",
       "taskname    -0.025  0.008  0.003  0.093  0.541       \n",
       "task_rdrvr2 -0.035 -0.002 -0.022 -0.006 -0.021 -0.054\n",
       "convergence code: 0\n",
       "unable to evaluate scaled gradient\n",
       "Model failed to converge: degenerate  Hessian with 5 negative eigenvalues\n",
       "failure to converge in 10000 evaluations\n"
      ]
     },
     "metadata": {},
     "output_type": "display_data"
    }
   ],
   "source": [
    "summary(rt_bothD)"
   ]
  },
  {
   "cell_type": "code",
   "execution_count": 18,
   "metadata": {},
   "outputs": [],
   "source": [
    "#summary(rt_ED)"
   ]
  },
  {
   "cell_type": "code",
   "execution_count": 20,
   "metadata": {},
   "outputs": [],
   "source": [
    "#summary(rt_CD)"
   ]
  },
  {
   "cell_type": "markdown",
   "metadata": {},
   "source": [
    "Again, LME4 does not assign p-values to linear models. Hence, we must rely on model comparison for assessing significance.\n",
    "\n",
    "Not though that the ED parameter is positive, indicating longer RT for greater ED while the CD parameter is negative, indicating shorter RT with greater CD."
   ]
  },
  {
   "cell_type": "markdown",
   "metadata": {},
   "source": [
    "## Model comparison"
   ]
  },
  {
   "cell_type": "code",
   "execution_count": 25,
   "metadata": {},
   "outputs": [],
   "source": [
    "# load likelihood ratio test results\n",
    "answer_nullbothD <- ex$answer_nullbothD\n",
    "answer_nullCD <- ex$answer_nullCD\n",
    "answer_nullED <- ex$answer_nullED\n",
    "answer_bothCD <- ex$answer_bothCD\n",
    "answer_bothED <- ex$answer_bothED\n",
    "\n",
    "rt_nullbothD <- ex$rt_nullbothD\n",
    "rt_nullCD <- ex$rt_nullCD\n",
    "rt_nullED <- ex$rt_nullED\n",
    "rt_bothCD <- ex$rt_bothCD\n",
    "rt_bothED <- ex$rt_bothED"
   ]
  },
  {
   "cell_type": "markdown",
   "metadata": {},
   "source": [
    "### Accuracies"
   ]
  },
  {
   "cell_type": "code",
   "execution_count": 29,
   "metadata": {},
   "outputs": [
    {
     "name": "stdout",
     "output_type": "stream",
     "text": [
      "Data: df\n",
      "Models:\n",
      "answer_null: Answer ~ Block + task + task_order + (Block + task + task_order | \n",
      "answer_null:     sub) + (1 | item_id)\n",
      "answer_bothD: Answer ~ ED + CD + Block + task + task_order + (ED + CD + Block + \n",
      "answer_bothD:     task + task_order | sub) + (1 | item_id)\n",
      "             Df   AIC   BIC logLik deviance  Chisq Chi Df Pr(>Chisq)\n",
      "answer_null  21 13782 13937  -6870    13740                         \n",
      "answer_bothD 36 13802 14067  -6865    13730 9.9482     15      0.823\n"
     ]
    }
   ],
   "source": [
    "print(answer_nullbothD)"
   ]
  },
  {
   "cell_type": "code",
   "execution_count": 31,
   "metadata": {},
   "outputs": [
    {
     "name": "stdout",
     "output_type": "stream",
     "text": [
      "Data: df\n",
      "Models:\n",
      "answer_null: Answer ~ Block + task + task_order + (Block + task + task_order | \n",
      "answer_null:     sub) + (1 | item_id)\n",
      "answer_CD: Answer ~ CD + Block + task + task_order + (CD + Block + task + \n",
      "answer_CD:     task_order | sub) + (1 | item_id)\n",
      "            Df   AIC   BIC  logLik deviance  Chisq Chi Df Pr(>Chisq)   \n",
      "answer_null 21 13782 13937 -6870.0    13740                            \n",
      "answer_CD   28 13776 13982 -6859.8    13720 20.393      7    0.00478 **\n",
      "---\n",
      "Signif. codes:  0 ‘***’ 0.001 ‘**’ 0.01 ‘*’ 0.05 ‘.’ 0.1 ‘ ’ 1\n"
     ]
    }
   ],
   "source": [
    "print(answer_nullCD)"
   ]
  },
  {
   "cell_type": "code",
   "execution_count": 33,
   "metadata": {},
   "outputs": [
    {
     "name": "stdout",
     "output_type": "stream",
     "text": [
      "Data: df\n",
      "Models:\n",
      "answer_null: Answer ~ Block + task + task_order + (Block + task + task_order | \n",
      "answer_null:     sub) + (1 | item_id)\n",
      "answer_ED: Answer ~ ED + Block + task + task_order + (ED + Block + task + \n",
      "answer_ED:     task_order | sub) + (1 | item_id)\n",
      "            Df   AIC   BIC  logLik deviance  Chisq Chi Df Pr(>Chisq)\n",
      "answer_null 21 13782 13937 -6870.0    13740                         \n",
      "answer_ED   28 13788 13994 -6866.1    13732 7.6768      7      0.362\n"
     ]
    }
   ],
   "source": [
    "print(answer_nullED)"
   ]
  },
  {
   "cell_type": "code",
   "execution_count": 34,
   "metadata": {},
   "outputs": [
    {
     "name": "stdout",
     "output_type": "stream",
     "text": [
      "Data: df\n",
      "Models:\n",
      "answer_CD: Answer ~ CD + Block + task + task_order + (CD + Block + task + \n",
      "answer_CD:     task_order | sub) + (1 | item_id)\n",
      "answer_bothD: Answer ~ ED + CD + Block + task + task_order + (ED + CD + Block + \n",
      "answer_bothD:     task + task_order | sub) + (1 | item_id)\n",
      "             Df   AIC   BIC  logLik deviance Chisq Chi Df Pr(>Chisq)\n",
      "answer_CD    28 13776 13982 -6859.8    13720                        \n",
      "answer_bothD 36 13802 14067 -6865.0    13730     0      8          1\n"
     ]
    }
   ],
   "source": [
    "print(answer_bothCD)"
   ]
  },
  {
   "cell_type": "code",
   "execution_count": 35,
   "metadata": {},
   "outputs": [
    {
     "name": "stdout",
     "output_type": "stream",
     "text": [
      "Data: df\n",
      "Models:\n",
      "answer_ED: Answer ~ ED + Block + task + task_order + (ED + Block + task + \n",
      "answer_ED:     task_order | sub) + (1 | item_id)\n",
      "answer_bothD: Answer ~ ED + CD + Block + task + task_order + (ED + CD + Block + \n",
      "answer_bothD:     task + task_order | sub) + (1 | item_id)\n",
      "             Df   AIC   BIC  logLik deviance  Chisq Chi Df Pr(>Chisq)\n",
      "answer_ED    28 13788 13994 -6866.1    13732                         \n",
      "answer_bothD 36 13802 14067 -6865.0    13730 2.2714      8     0.9715\n"
     ]
    }
   ],
   "source": [
    "print(answer_bothED)"
   ]
  },
  {
   "cell_type": "markdown",
   "metadata": {},
   "source": [
    "The CD model is better than the null model. Else, there are no differences.\n",
    "\n",
    "This is mostly in line with the model results, but alleviates the importance of ED (which showed a significant effect when in the same model as ED, but not in an individual model).\n",
    "\n",
    "So we could summarize that only CD has a positive influence on accuracies."
   ]
  },
  {
   "cell_type": "markdown",
   "metadata": {},
   "source": [
    "### RT"
   ]
  },
  {
   "cell_type": "code",
   "execution_count": 36,
   "metadata": {},
   "outputs": [
    {
     "name": "stdout",
     "output_type": "stream",
     "text": [
      "Data: df\n",
      "Models:\n",
      "rt_null: RT ~ conNT_z + Block + task + task_order + (conNT_z + Block + \n",
      "rt_null:     task + task_order | sub) + (1 | item_id)\n",
      "rt_bothD: RT ~ ED + CD + Block + task + task_order + (ED + CD + Block + \n",
      "rt_bothD:     task + task_order | sub) + (1 | item_id)\n",
      "         Df   AIC   BIC  logLik deviance Chisq Chi Df Pr(>Chisq)\n",
      "rt_null  29 14730 14944 -7336.0    14672                        \n",
      "rt_bothD 37 14843 15116 -7384.5    14769     0      8          1\n"
     ]
    }
   ],
   "source": [
    "print(rt_nullbothD)"
   ]
  },
  {
   "cell_type": "code",
   "execution_count": 37,
   "metadata": {},
   "outputs": [
    {
     "name": "stdout",
     "output_type": "stream",
     "text": [
      "Data: df\n",
      "Models:\n",
      "rt_null: RT ~ conNT_z + Block + task + task_order + (conNT_z + Block + \n",
      "rt_null:     task + task_order | sub) + (1 | item_id)\n",
      "rt_ED: RT ~ ED + Block + task + task_order + (ED + Block + task + task_order | \n",
      "rt_ED:     sub) + (1 | item_id)\n",
      "        Df   AIC   BIC  logLik deviance  Chisq Chi Df Pr(>Chisq)    \n",
      "rt_null 29 14730 14944 -7336.0    14672                             \n",
      "rt_ED   29 14727 14940 -7334.3    14669 3.3685      0  < 2.2e-16 ***\n",
      "---\n",
      "Signif. codes:  0 ‘***’ 0.001 ‘**’ 0.01 ‘*’ 0.05 ‘.’ 0.1 ‘ ’ 1\n"
     ]
    }
   ],
   "source": [
    "print(rt_nullED)"
   ]
  },
  {
   "cell_type": "code",
   "execution_count": 38,
   "metadata": {},
   "outputs": [
    {
     "name": "stdout",
     "output_type": "stream",
     "text": [
      "Data: df\n",
      "Models:\n",
      "rt_null: RT ~ conNT_z + Block + task + task_order + (conNT_z + Block + \n",
      "rt_null:     task + task_order | sub) + (1 | item_id)\n",
      "rt_CD: RT ~ CD + Block + task + task_order + (CD + Block + task + task_order | \n",
      "rt_CD:     sub) + (1 | item_id)\n",
      "        Df   AIC   BIC  logLik deviance Chisq Chi Df Pr(>Chisq)\n",
      "rt_null 29 14730 14944 -7336.0    14672                        \n",
      "rt_CD   29 14754 14968 -7347.9    14696     0      0          1\n"
     ]
    }
   ],
   "source": [
    "print(rt_nullCD)"
   ]
  },
  {
   "cell_type": "code",
   "execution_count": 40,
   "metadata": {},
   "outputs": [
    {
     "name": "stdout",
     "output_type": "stream",
     "text": [
      "Data: df\n",
      "Models:\n",
      "rt_ED: RT ~ ED + Block + task + task_order + (ED + Block + task + task_order | \n",
      "rt_ED:     sub) + (1 | item_id)\n",
      "rt_bothD: RT ~ ED + CD + Block + task + task_order + (ED + CD + Block + \n",
      "rt_bothD:     task + task_order | sub) + (1 | item_id)\n",
      "         Df   AIC   BIC  logLik deviance Chisq Chi Df Pr(>Chisq)\n",
      "rt_ED    29 14727 14940 -7334.3    14669                        \n",
      "rt_bothD 37 14843 15116 -7384.5    14769     0      8          1\n"
     ]
    }
   ],
   "source": [
    "print(rt_bothED)"
   ]
  },
  {
   "cell_type": "code",
   "execution_count": 42,
   "metadata": {},
   "outputs": [
    {
     "name": "stdout",
     "output_type": "stream",
     "text": [
      "Data: df\n",
      "Models:\n",
      "rt_CD: RT ~ CD + Block + task + task_order + (CD + Block + task + task_order | \n",
      "rt_CD:     sub) + (1 | item_id)\n",
      "rt_bothD: RT ~ ED + CD + Block + task + task_order + (ED + CD + Block + \n",
      "rt_bothD:     task + task_order | sub) + (1 | item_id)\n",
      "         Df   AIC   BIC  logLik deviance Chisq Chi Df Pr(>Chisq)\n",
      "rt_CD    29 14754 14968 -7347.9    14696                        \n",
      "rt_bothD 37 14843 15116 -7384.5    14769     0      8          1\n"
     ]
    }
   ],
   "source": [
    "print(rt_bothCD)"
   ]
  },
  {
   "cell_type": "markdown",
   "metadata": {},
   "source": [
    "The ED model is better than the null model, else there are no differences.\n",
    "This is interesting since when the accuracies were affected by CD instead."
   ]
  },
  {
   "cell_type": "markdown",
   "metadata": {},
   "source": [
    "# Sandbox"
   ]
  },
  {
   "cell_type": "code",
   "execution_count": 78,
   "metadata": {},
   "outputs": [],
   "source": [
    "# plot variability of slopes across subjects and item_ids\n",
    "\n",
    "#lattice::dotplot(ranef(rt_newNT, condVar=TRUE))"
   ]
  },
  {
   "cell_type": "code",
   "execution_count": 51,
   "metadata": {},
   "outputs": [
    {
     "name": "stdout",
     "output_type": "stream",
     "text": [
      "Data: df\n",
      "Models:\n",
      "rt_newNT: RT ~ newNT_z + Block + task + task_order + (newNT_z + Block + \n",
      "rt_newNT:     task + task_order | sub) + (1 | item_id)\n",
      "rt_conNT: RT ~ conNT_z + Block + task + task_order + (conNT_z + Block + \n",
      "rt_conNT:     task + task_order | sub) + (1 | item_id)\n",
      "         Df   AIC   BIC  logLik deviance Chisq Chi Df Pr(>Chisq)\n",
      "rt_newNT 29 14699 14912 -7320.3    14641                        \n",
      "rt_conNT 29 14730 14944 -7336.0    14672     0      0          1\n",
      "Data: df\n",
      "Models:\n",
      "rt_conNT: RT ~ conNT_z + Block + task + task_order + (conNT_z + Block + \n",
      "rt_conNT:     task + task_order | sub) + (1 | item_id)\n",
      "rt_newNT: RT ~ newNT_z + Block + task + task_order + (newNT_z + Block + \n",
      "rt_newNT:     task + task_order | sub) + (1 | item_id)\n",
      "         Df   AIC   BIC  logLik deviance  Chisq Chi Df Pr(>Chisq)    \n",
      "rt_conNT 29 14730 14944 -7336.0    14672                             \n",
      "rt_newNT 29 14699 14912 -7320.3    14641 31.245      0  < 2.2e-16 ***\n",
      "---\n",
      "Signif. codes:  0 ‘***’ 0.001 ‘**’ 0.01 ‘*’ 0.05 ‘.’ 0.1 ‘ ’ 1\n"
     ]
    }
   ],
   "source": [
    "# does ordering matter in anova command?\n",
    "\n",
    "print(anova(rt_newNT, rt_conNT))\n",
    "print(anova(rt_conNT, rt_newNT))\n",
    "\n",
    "# OH YES IT DOES!"
   ]
  },
  {
   "cell_type": "code",
   "execution_count": null,
   "metadata": {},
   "outputs": [],
   "source": []
  }
 ],
 "metadata": {
  "kernelspec": {
   "display_name": "R",
   "language": "R",
   "name": "ir"
  },
  "language_info": {
   "codemirror_mode": "r",
   "file_extension": ".r",
   "mimetype": "text/x-r-source",
   "name": "R",
   "pygments_lexer": "r",
   "version": "3.4.1"
  }
 },
 "nbformat": 4,
 "nbformat_minor": 2
}
