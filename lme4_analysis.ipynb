{
 "cells": [
  {
   "cell_type": "code",
   "execution_count": 1,
   "metadata": {},
   "outputs": [
    {
     "name": "stderr",
     "output_type": "stream",
     "text": [
      "Loading required package: Matrix\n"
     ]
    }
   ],
   "source": [
    "library(lme4)\n",
    "#library(lmerTest)"
   ]
  },
  {
   "cell_type": "code",
   "execution_count": 49,
   "metadata": {},
   "outputs": [],
   "source": [
    "# load workspace image\n",
    "load(\"./lme4_modelfit.RData\", ex <- new.env())\n",
    "\n",
    "# load data\n",
    "df <- ex$df"
   ]
  },
  {
   "cell_type": "code",
   "execution_count": 3,
   "metadata": {},
   "outputs": [
    {
     "name": "stdout",
     "output_type": "stream",
     "text": [
      "'data.frame':\t11683 obs. of  21 variables:\n",
      " $ Answer      : Factor w/ 2 levels \"0\",\"1\": 2 1 2 2 2 1 1 2 2 2 ...\n",
      " $ Block       : Factor w/ 3 levels \"0\",\"1\",\"2\": 1 2 3 1 3 1 2 3 1 2 ...\n",
      " $ CD          : num  1.14 1.14 1.14 1.14 1.14 ...\n",
      " $ Choice      : int  0 1 0 0 0 1 2 0 0 0 ...\n",
      " $ ED          : num  15.3 15.3 15.3 15.3 15.3 ...\n",
      " $ RT          : num  1.76 2.24 1.77 2.56 2.42 ...\n",
      " $ Trlnum      : int  0 33 39 38 51 2 51 46 31 6 ...\n",
      " $ conNT       : num  8.71 8.71 8.71 8.71 8.71 ...\n",
      " $ conNT_cent  : num  -0.0295 -0.0295 -0.0295 -0.0295 -0.0295 ...\n",
      " $ conNT_z     : num  -0.524 -0.524 -0.524 -0.524 -0.524 ...\n",
      " $ item_id     : Factor w/ 64 levels \"0.0\",\"1.0\",\"10.0\",..: 9 9 9 9 9 9 9 9 9 9 ...\n",
      " $ newNT       : num  7 7 7 7 7 ...\n",
      " $ newNT_cent  : num  0.00254 0.00254 0.00254 0.00254 0.00254 ...\n",
      " $ newNT_z     : num  0.681 0.681 0.681 0.681 0.681 ...\n",
      " $ sub         : Factor w/ 32 levels \"1\",\"10\",\"11\",..: 1 1 1 12 12 23 23 23 27 27 ...\n",
      " $ task        : Factor w/ 2 levels \"disc\",\"name\": 1 1 1 1 1 1 1 1 1 1 ...\n",
      " $ task_order  : Factor w/ 2 levels \"ver1\",\"ver2\": 1 1 1 1 1 2 2 2 2 2 ...\n",
      " $ ec_b2       : num  -1 1 0 -1 0 -1 1 0 -1 1 ...\n",
      " $ ec_b3       : num  -1 0 1 -1 1 -1 0 1 -1 0 ...\n",
      " $ ec_task     : num  -1 -1 -1 -1 -1 -1 -1 -1 -1 -1 ...\n",
      " $ ec_taskorder: num  1 1 1 1 1 -1 -1 -1 -1 -1 ...\n"
     ]
    }
   ],
   "source": [
    "str(df)"
   ]
  },
  {
   "cell_type": "code",
   "execution_count": 4,
   "metadata": {},
   "outputs": [
    {
     "data": {
      "text/html": [
       "<table>\n",
       "<thead><tr><th scope=col>Answer</th><th scope=col>Block</th><th scope=col>CD</th><th scope=col>Choice</th><th scope=col>ED</th><th scope=col>RT</th><th scope=col>Trlnum</th><th scope=col>conNT</th><th scope=col>conNT_cent</th><th scope=col>conNT_z</th><th scope=col>⋯</th><th scope=col>newNT</th><th scope=col>newNT_cent</th><th scope=col>newNT_z</th><th scope=col>sub</th><th scope=col>task</th><th scope=col>task_order</th><th scope=col>ec_b2</th><th scope=col>ec_b3</th><th scope=col>ec_task</th><th scope=col>ec_taskorder</th></tr></thead>\n",
       "<tbody>\n",
       "\t<tr><td>1          </td><td>0          </td><td>1.140978   </td><td>0          </td><td>15.32376   </td><td>1.762020   </td><td> 0         </td><td>8.711341   </td><td>-0.02945527</td><td>-0.5242762 </td><td>⋯          </td><td>6.996014   </td><td>0.002536885</td><td>0.6807588  </td><td>1          </td><td>disc       </td><td>ver1       </td><td>-1         </td><td>-1         </td><td>-1         </td><td> 1         </td></tr>\n",
       "\t<tr><td>0          </td><td>1          </td><td>1.140978   </td><td>1          </td><td>15.32376   </td><td>2.242939   </td><td>33         </td><td>8.711341   </td><td>-0.02945527</td><td>-0.5242762 </td><td>⋯          </td><td>6.996014   </td><td>0.002536885</td><td>0.6807588  </td><td>1          </td><td>disc       </td><td>ver1       </td><td> 1         </td><td> 0         </td><td>-1         </td><td> 1         </td></tr>\n",
       "\t<tr><td>1          </td><td>2          </td><td>1.140978   </td><td>0          </td><td>15.32376   </td><td>1.766368   </td><td>39         </td><td>8.711341   </td><td>-0.02945527</td><td>-0.5242762 </td><td>⋯          </td><td>6.996014   </td><td>0.002536885</td><td>0.6807588  </td><td>1          </td><td>disc       </td><td>ver1       </td><td> 0         </td><td> 1         </td><td>-1         </td><td> 1         </td></tr>\n",
       "\t<tr><td>1          </td><td>0          </td><td>1.140978   </td><td>0          </td><td>15.32376   </td><td>2.559490   </td><td>38         </td><td>8.711341   </td><td>-0.02945527</td><td>-0.5242762 </td><td>⋯          </td><td>6.996014   </td><td>0.002536885</td><td>0.6807588  </td><td>2          </td><td>disc       </td><td>ver1       </td><td>-1         </td><td>-1         </td><td>-1         </td><td> 1         </td></tr>\n",
       "\t<tr><td>1          </td><td>2          </td><td>1.140978   </td><td>0          </td><td>15.32376   </td><td>2.417423   </td><td>51         </td><td>8.711341   </td><td>-0.02945527</td><td>-0.5242762 </td><td>⋯          </td><td>6.996014   </td><td>0.002536885</td><td>0.6807588  </td><td>2          </td><td>disc       </td><td>ver1       </td><td> 0         </td><td> 1         </td><td>-1         </td><td> 1         </td></tr>\n",
       "\t<tr><td>0          </td><td>0          </td><td>1.140978   </td><td>1          </td><td>15.32376   </td><td>1.718840   </td><td> 2         </td><td>8.711341   </td><td>-0.02945527</td><td>-0.5242762 </td><td>⋯          </td><td>6.996014   </td><td>0.002536885</td><td>0.6807588  </td><td>3          </td><td>disc       </td><td>ver2       </td><td>-1         </td><td>-1         </td><td>-1         </td><td>-1         </td></tr>\n",
       "</tbody>\n",
       "</table>\n"
      ],
      "text/latex": [
       "\\begin{tabular}{r|lllllllllllllllllllll}\n",
       " Answer & Block & CD & Choice & ED & RT & Trlnum & conNT & conNT\\_cent & conNT\\_z & ⋯ & newNT & newNT\\_cent & newNT\\_z & sub & task & task\\_order & ec\\_b2 & ec\\_b3 & ec\\_task & ec\\_taskorder\\\\\n",
       "\\hline\n",
       "\t 1           & 0           & 1.140978    & 0           & 15.32376    & 1.762020    &  0          & 8.711341    & -0.02945527 & -0.5242762  & ⋯           & 6.996014    & 0.002536885 & 0.6807588   & 1           & disc        & ver1        & -1          & -1          & -1          &  1         \\\\\n",
       "\t 0           & 1           & 1.140978    & 1           & 15.32376    & 2.242939    & 33          & 8.711341    & -0.02945527 & -0.5242762  & ⋯           & 6.996014    & 0.002536885 & 0.6807588   & 1           & disc        & ver1        &  1          &  0          & -1          &  1         \\\\\n",
       "\t 1           & 2           & 1.140978    & 0           & 15.32376    & 1.766368    & 39          & 8.711341    & -0.02945527 & -0.5242762  & ⋯           & 6.996014    & 0.002536885 & 0.6807588   & 1           & disc        & ver1        &  0          &  1          & -1          &  1         \\\\\n",
       "\t 1           & 0           & 1.140978    & 0           & 15.32376    & 2.559490    & 38          & 8.711341    & -0.02945527 & -0.5242762  & ⋯           & 6.996014    & 0.002536885 & 0.6807588   & 2           & disc        & ver1        & -1          & -1          & -1          &  1         \\\\\n",
       "\t 1           & 2           & 1.140978    & 0           & 15.32376    & 2.417423    & 51          & 8.711341    & -0.02945527 & -0.5242762  & ⋯           & 6.996014    & 0.002536885 & 0.6807588   & 2           & disc        & ver1        &  0          &  1          & -1          &  1         \\\\\n",
       "\t 0           & 0           & 1.140978    & 1           & 15.32376    & 1.718840    &  2          & 8.711341    & -0.02945527 & -0.5242762  & ⋯           & 6.996014    & 0.002536885 & 0.6807588   & 3           & disc        & ver2        & -1          & -1          & -1          & -1         \\\\\n",
       "\\end{tabular}\n"
      ],
      "text/markdown": [
       "\n",
       "Answer | Block | CD | Choice | ED | RT | Trlnum | conNT | conNT_cent | conNT_z | ⋯ | newNT | newNT_cent | newNT_z | sub | task | task_order | ec_b2 | ec_b3 | ec_task | ec_taskorder | \n",
       "|---|---|---|---|---|---|\n",
       "| 1           | 0           | 1.140978    | 0           | 15.32376    | 1.762020    |  0          | 8.711341    | -0.02945527 | -0.5242762  | ⋯           | 6.996014    | 0.002536885 | 0.6807588   | 1           | disc        | ver1        | -1          | -1          | -1          |  1          | \n",
       "| 0           | 1           | 1.140978    | 1           | 15.32376    | 2.242939    | 33          | 8.711341    | -0.02945527 | -0.5242762  | ⋯           | 6.996014    | 0.002536885 | 0.6807588   | 1           | disc        | ver1        |  1          |  0          | -1          |  1          | \n",
       "| 1           | 2           | 1.140978    | 0           | 15.32376    | 1.766368    | 39          | 8.711341    | -0.02945527 | -0.5242762  | ⋯           | 6.996014    | 0.002536885 | 0.6807588   | 1           | disc        | ver1        |  0          |  1          | -1          |  1          | \n",
       "| 1           | 0           | 1.140978    | 0           | 15.32376    | 2.559490    | 38          | 8.711341    | -0.02945527 | -0.5242762  | ⋯           | 6.996014    | 0.002536885 | 0.6807588   | 2           | disc        | ver1        | -1          | -1          | -1          |  1          | \n",
       "| 1           | 2           | 1.140978    | 0           | 15.32376    | 2.417423    | 51          | 8.711341    | -0.02945527 | -0.5242762  | ⋯           | 6.996014    | 0.002536885 | 0.6807588   | 2           | disc        | ver1        |  0          |  1          | -1          |  1          | \n",
       "| 0           | 0           | 1.140978    | 1           | 15.32376    | 1.718840    |  2          | 8.711341    | -0.02945527 | -0.5242762  | ⋯           | 6.996014    | 0.002536885 | 0.6807588   | 3           | disc        | ver2        | -1          | -1          | -1          | -1          | \n",
       "\n",
       "\n"
      ],
      "text/plain": [
       "  Answer Block CD       Choice ED       RT       Trlnum conNT    conNT_cent \n",
       "1 1      0     1.140978 0      15.32376 1.762020  0     8.711341 -0.02945527\n",
       "2 0      1     1.140978 1      15.32376 2.242939 33     8.711341 -0.02945527\n",
       "3 1      2     1.140978 0      15.32376 1.766368 39     8.711341 -0.02945527\n",
       "4 1      0     1.140978 0      15.32376 2.559490 38     8.711341 -0.02945527\n",
       "5 1      2     1.140978 0      15.32376 2.417423 51     8.711341 -0.02945527\n",
       "6 0      0     1.140978 1      15.32376 1.718840  2     8.711341 -0.02945527\n",
       "  conNT_z    ⋯ newNT    newNT_cent  newNT_z   sub task task_order ec_b2 ec_b3\n",
       "1 -0.5242762 ⋯ 6.996014 0.002536885 0.6807588 1   disc ver1       -1    -1   \n",
       "2 -0.5242762 ⋯ 6.996014 0.002536885 0.6807588 1   disc ver1        1     0   \n",
       "3 -0.5242762 ⋯ 6.996014 0.002536885 0.6807588 1   disc ver1        0     1   \n",
       "4 -0.5242762 ⋯ 6.996014 0.002536885 0.6807588 2   disc ver1       -1    -1   \n",
       "5 -0.5242762 ⋯ 6.996014 0.002536885 0.6807588 2   disc ver1        0     1   \n",
       "6 -0.5242762 ⋯ 6.996014 0.002536885 0.6807588 3   disc ver2       -1    -1   \n",
       "  ec_task ec_taskorder\n",
       "1 -1       1          \n",
       "2 -1       1          \n",
       "3 -1       1          \n",
       "4 -1       1          \n",
       "5 -1       1          \n",
       "6 -1      -1          "
      ]
     },
     "metadata": {},
     "output_type": "display_data"
    }
   ],
   "source": [
    "head(df)"
   ]
  },
  {
   "cell_type": "markdown",
   "metadata": {},
   "source": [
    "# Model summaries"
   ]
  },
  {
   "cell_type": "code",
   "execution_count": 51,
   "metadata": {},
   "outputs": [],
   "source": [
    "# load fitted models\n",
    "answer_bothNT <- ex$answer_bothNT\n",
    "answer_conNT <- ex$answer_conNT\n",
    "answer_newNT <- ex$answer_newNT\n",
    "answer_null <- ex$answer_null\n",
    "rt_bothNT <- ex$rt_bothNT\n",
    "rt_conNT <- ex$rt_conNT\n",
    "rt_newNT <- ex$rt_newNT\n",
    "rt_null <- ex$rt_null"
   ]
  },
  {
   "cell_type": "markdown",
   "metadata": {},
   "source": [
    "## Accuracies"
   ]
  },
  {
   "cell_type": "code",
   "execution_count": 5,
   "metadata": {},
   "outputs": [],
   "source": [
    "#summary(answer_bothNT)"
   ]
  },
  {
   "cell_type": "code",
   "execution_count": 68,
   "metadata": {},
   "outputs": [],
   "source": [
    "#summary(answer_newNT)"
   ]
  },
  {
   "cell_type": "code",
   "execution_count": 7,
   "metadata": {},
   "outputs": [],
   "source": [
    "#summary(answer_conNT)"
   ]
  },
  {
   "cell_type": "code",
   "execution_count": 8,
   "metadata": {},
   "outputs": [],
   "source": [
    "#summary(answer_null)"
   ]
  },
  {
   "cell_type": "markdown",
   "metadata": {},
   "source": [
    "The newNT predictor is marginally significant (p <.1) in the bothNT and neNT model. Nothing else interesting going on."
   ]
  },
  {
   "cell_type": "markdown",
   "metadata": {},
   "source": [
    "## RT"
   ]
  },
  {
   "cell_type": "code",
   "execution_count": 13,
   "metadata": {},
   "outputs": [],
   "source": [
    "#summary(rt_bothNT)"
   ]
  },
  {
   "cell_type": "code",
   "execution_count": 14,
   "metadata": {},
   "outputs": [],
   "source": [
    "#summary(rt_conNT)"
   ]
  },
  {
   "cell_type": "code",
   "execution_count": 72,
   "metadata": {},
   "outputs": [],
   "source": [
    "#summary(rt_newNT)"
   ]
  },
  {
   "cell_type": "code",
   "execution_count": 17,
   "metadata": {},
   "outputs": [],
   "source": [
    "#summary(rt_null)"
   ]
  },
  {
   "cell_type": "markdown",
   "metadata": {},
   "source": [
    "The lme4 package does not give us p-values for linear models. Hence, we have to interpret our effects based on model comparison"
   ]
  },
  {
   "cell_type": "markdown",
   "metadata": {},
   "source": [
    "# Model comparison"
   ]
  },
  {
   "cell_type": "code",
   "execution_count": 52,
   "metadata": {},
   "outputs": [],
   "source": [
    "# load results of likelihood ratio tests between models\n",
    "answer_nullboth <- ex$answer_nullboth\n",
    "answer_nullnew <- ex$answer_nullnew\n",
    "answer_nullcon <- ex$answer_nullcon\n",
    "answer_bothcon <- ex$answer_bothcon\n",
    "answer_bothnew <- ex$answer_bothnew\n",
    "\n",
    "rt_nullboth <- ex$rt_nullboth\n",
    "rt_nullnew <- ex$rt_nullnew\n",
    "rt_nullcon <- ex$rt_nullcon\n",
    "rt_bothcon <- ex$rt_bothcon\n",
    "rt_bothnew <- ex$rt_bothnew"
   ]
  },
  {
   "cell_type": "markdown",
   "metadata": {},
   "source": [
    "## Accuracies"
   ]
  },
  {
   "cell_type": "code",
   "execution_count": 50,
   "metadata": {},
   "outputs": [
    {
     "name": "stdout",
     "output_type": "stream",
     "text": [
      "Data: df\n",
      "Models:\n",
      "answer_null: Answer ~ Block + task + task_order + (Block + task + task_order | \n",
      "answer_null:     sub) + (1 | item_id)\n",
      "answer_bothNT: Answer ~ conNT_z + newNT_z + Block + task + task_order + (conNT_z + \n",
      "answer_bothNT:     newNT_z + Block + task + task_order | sub) + (1 | item_id)\n",
      "              Df   AIC   BIC  logLik deviance Chisq Chi Df Pr(>Chisq)\n",
      "answer_null   21 13782 13937 -6870.0    13740                        \n",
      "answer_bothNT 36 13823 14088 -6875.6    13751     0     15          1\n"
     ]
    }
   ],
   "source": [
    "print(answer_nullboth)"
   ]
  },
  {
   "cell_type": "code",
   "execution_count": 53,
   "metadata": {},
   "outputs": [
    {
     "name": "stdout",
     "output_type": "stream",
     "text": [
      "Data: df\n",
      "Models:\n",
      "answer_null: Answer ~ Block + task + task_order + (Block + task + task_order | \n",
      "answer_null:     sub) + (1 | item_id)\n",
      "answer_newNT: Answer ~ newNT_z + Block + task + task_order + (newNT_z + Block + \n",
      "answer_newNT:     task + task_order | sub) + (1 | item_id)\n",
      "             Df   AIC   BIC  logLik deviance  Chisq Chi Df Pr(>Chisq)  \n",
      "answer_null  21 13782 13937 -6870.0    13740                           \n",
      "answer_newNT 28 13781 13987 -6862.6    13725 14.776      7    0.03898 *\n",
      "---\n",
      "Signif. codes:  0 ‘***’ 0.001 ‘**’ 0.01 ‘*’ 0.05 ‘.’ 0.1 ‘ ’ 1\n"
     ]
    }
   ],
   "source": [
    "print(answer_nullnew)"
   ]
  },
  {
   "cell_type": "code",
   "execution_count": 54,
   "metadata": {},
   "outputs": [
    {
     "name": "stdout",
     "output_type": "stream",
     "text": [
      "Data: df\n",
      "Models:\n",
      "answer_null: Answer ~ Block + task + task_order + (Block + task + task_order | \n",
      "answer_null:     sub) + (1 | item_id)\n",
      "answer_conNT: Answer ~ conNT_z + Block + task + task_order + (conNT_z + Block + \n",
      "answer_conNT:     task + task_order | sub) + (1 | item_id)\n",
      "             Df   AIC   BIC logLik deviance  Chisq Chi Df Pr(>Chisq)\n",
      "answer_null  21 13782 13937  -6870    13740                         \n",
      "answer_conNT 28 13786 13992  -6865    13730 9.9386      7     0.1921\n"
     ]
    }
   ],
   "source": [
    "print(answer_nullcon)"
   ]
  },
  {
   "cell_type": "code",
   "execution_count": 55,
   "metadata": {},
   "outputs": [
    {
     "name": "stdout",
     "output_type": "stream",
     "text": [
      "Data: df\n",
      "Models:\n",
      "answer_conNT: Answer ~ conNT_z + Block + task + task_order + (conNT_z + Block + \n",
      "answer_conNT:     task + task_order | sub) + (1 | item_id)\n",
      "answer_bothNT: Answer ~ conNT_z + newNT_z + Block + task + task_order + (conNT_z + \n",
      "answer_bothNT:     newNT_z + Block + task + task_order | sub) + (1 | item_id)\n",
      "              Df   AIC   BIC  logLik deviance Chisq Chi Df Pr(>Chisq)\n",
      "answer_conNT  28 13786 13992 -6865.0    13730                        \n",
      "answer_bothNT 36 13823 14088 -6875.6    13751     0      8          1\n"
     ]
    }
   ],
   "source": [
    "print(answer_bothcon)"
   ]
  },
  {
   "cell_type": "code",
   "execution_count": 56,
   "metadata": {},
   "outputs": [
    {
     "name": "stdout",
     "output_type": "stream",
     "text": [
      "Data: df\n",
      "Models:\n",
      "answer_conNT: Answer ~ conNT_z + Block + task + task_order + (conNT_z + Block + \n",
      "answer_conNT:     task + task_order | sub) + (1 | item_id)\n",
      "answer_bothNT: Answer ~ conNT_z + newNT_z + Block + task + task_order + (conNT_z + \n",
      "answer_bothNT:     newNT_z + Block + task + task_order | sub) + (1 | item_id)\n",
      "              Df   AIC   BIC  logLik deviance Chisq Chi Df Pr(>Chisq)\n",
      "answer_conNT  28 13786 13992 -6865.0    13730                        \n",
      "answer_bothNT 36 13823 14088 -6875.6    13751     0      8          1\n"
     ]
    }
   ],
   "source": [
    "print(answer_bothnew)"
   ]
  },
  {
   "cell_type": "markdown",
   "metadata": {},
   "source": [
    "The newNT model is better than the null model and better than the conNT model"
   ]
  },
  {
   "cell_type": "markdown",
   "metadata": {},
   "source": [
    "## RT"
   ]
  },
  {
   "cell_type": "code",
   "execution_count": 60,
   "metadata": {},
   "outputs": [
    {
     "name": "stdout",
     "output_type": "stream",
     "text": [
      "Data: df\n",
      "Models:\n",
      "rt_null: RT ~ conNT_z + Block + task + task_order + (conNT_z + Block + \n",
      "rt_null:     task + task_order | sub) + (1 | item_id)\n",
      "rt_bothNT: RT ~ conNT_z + newNT_z + Block + task + task_order + (conNT_z + \n",
      "rt_bothNT:     newNT_z + Block + task + task_order | sub) + (1 | item_id)\n",
      "          Df   AIC   BIC  logLik deviance  Chisq Chi Df Pr(>Chisq)    \n",
      "rt_null   29 14661 14874 -7301.3    14603                             \n",
      "rt_bothNT 37 14625 14898 -7275.6    14551 51.344      8  2.252e-08 ***\n",
      "---\n",
      "Signif. codes:  0 ‘***’ 0.001 ‘**’ 0.01 ‘*’ 0.05 ‘.’ 0.1 ‘ ’ 1\n"
     ]
    }
   ],
   "source": [
    "print(rt_nullboth)"
   ]
  },
  {
   "cell_type": "code",
   "execution_count": 61,
   "metadata": {},
   "outputs": [
    {
     "name": "stdout",
     "output_type": "stream",
     "text": [
      "Data: df\n",
      "Models:\n",
      "rt_null: RT ~ conNT_z + Block + task + task_order + (conNT_z + Block + \n",
      "rt_null:     task + task_order | sub) + (1 | item_id)\n",
      "rt_newNT: RT ~ newNT_z + Block + task + task_order + (newNT_z + Block + \n",
      "rt_newNT:     task + task_order | sub) + (1 | item_id)\n",
      "         Df   AIC   BIC  logLik deviance  Chisq Chi Df Pr(>Chisq)    \n",
      "rt_null  29 14661 14874 -7301.3    14603                             \n",
      "rt_newNT 29 14642 14856 -7292.3    14584 18.122      0  < 2.2e-16 ***\n",
      "---\n",
      "Signif. codes:  0 ‘***’ 0.001 ‘**’ 0.01 ‘*’ 0.05 ‘.’ 0.1 ‘ ’ 1\n"
     ]
    }
   ],
   "source": [
    "print(rt_nullnew)"
   ]
  },
  {
   "cell_type": "code",
   "execution_count": 62,
   "metadata": {},
   "outputs": [
    {
     "name": "stdout",
     "output_type": "stream",
     "text": [
      "Data: df\n",
      "Models:\n",
      "rt_null: RT ~ conNT_z + Block + task + task_order + (conNT_z + Block + \n",
      "rt_null:     task + task_order | sub) + (1 | item_id)\n",
      "rt_conNT: RT ~ conNT_z + Block + task + task_order + (conNT_z + Block + \n",
      "rt_conNT:     task + task_order | sub) + (1 | item_id)\n",
      "         Df   AIC   BIC  logLik deviance Chisq Chi Df Pr(>Chisq)\n",
      "rt_null  29 14661 14874 -7301.3    14603                        \n",
      "rt_conNT 29 14661 14874 -7301.3    14603     0      0          1\n"
     ]
    }
   ],
   "source": [
    "print(rt_nullcon)"
   ]
  },
  {
   "cell_type": "code",
   "execution_count": 63,
   "metadata": {},
   "outputs": [
    {
     "name": "stdout",
     "output_type": "stream",
     "text": [
      "Data: df\n",
      "Models:\n",
      "rt_conNT: RT ~ conNT_z + Block + task + task_order + (conNT_z + Block + \n",
      "rt_conNT:     task + task_order | sub) + (1 | item_id)\n",
      "rt_bothNT: RT ~ conNT_z + newNT_z + Block + task + task_order + (conNT_z + \n",
      "rt_bothNT:     newNT_z + Block + task + task_order | sub) + (1 | item_id)\n",
      "          Df   AIC   BIC  logLik deviance  Chisq Chi Df Pr(>Chisq)    \n",
      "rt_conNT  29 14661 14874 -7301.3    14603                             \n",
      "rt_bothNT 37 14625 14898 -7275.6    14551 51.344      8  2.252e-08 ***\n",
      "---\n",
      "Signif. codes:  0 ‘***’ 0.001 ‘**’ 0.01 ‘*’ 0.05 ‘.’ 0.1 ‘ ’ 1\n"
     ]
    }
   ],
   "source": [
    "print(rt_bothcon)"
   ]
  },
  {
   "cell_type": "code",
   "execution_count": 65,
   "metadata": {},
   "outputs": [
    {
     "name": "stdout",
     "output_type": "stream",
     "text": [
      "Data: df\n",
      "Models:\n",
      "rt_conNT: RT ~ conNT_z + Block + task + task_order + (conNT_z + Block + \n",
      "rt_conNT:     task + task_order | sub) + (1 | item_id)\n",
      "rt_bothNT: RT ~ conNT_z + newNT_z + Block + task + task_order + (conNT_z + \n",
      "rt_bothNT:     newNT_z + Block + task + task_order | sub) + (1 | item_id)\n",
      "          Df   AIC   BIC  logLik deviance  Chisq Chi Df Pr(>Chisq)    \n",
      "rt_conNT  29 14661 14874 -7301.3    14603                             \n",
      "rt_bothNT 37 14625 14898 -7275.6    14551 51.344      8  2.252e-08 ***\n",
      "---\n",
      "Signif. codes:  0 ‘***’ 0.001 ‘**’ 0.01 ‘*’ 0.05 ‘.’ 0.1 ‘ ’ 1\n"
     ]
    }
   ],
   "source": [
    "# that's wrong, the output sais conNT where it should be newNT.\n",
    "# mistake in my anova script!\n",
    "# rerun!\n",
    "print(rt_bothnew)"
   ]
  },
  {
   "cell_type": "markdown",
   "metadata": {},
   "source": [
    "newNT model is significantly better than the null model. In line with that, the bothNT model is significantly better than the conNT or the null model."
   ]
  },
  {
   "cell_type": "markdown",
   "metadata": {},
   "source": [
    "## Conclusion"
   ]
  },
  {
   "cell_type": "markdown",
   "metadata": {},
   "source": [
    "The modelled neural typicality among the RI percepts explains the data better than models without this measure."
   ]
  },
  {
   "cell_type": "markdown",
   "metadata": {},
   "source": [
    "# Sandbox"
   ]
  },
  {
   "cell_type": "code",
   "execution_count": 78,
   "metadata": {},
   "outputs": [],
   "source": [
    "# plot variability of slopes across subjects and item_ids\n",
    "\n",
    "#lattice::dotplot(ranef(rt_newNT, condVar=TRUE))"
   ]
  },
  {
   "cell_type": "code",
   "execution_count": null,
   "metadata": {},
   "outputs": [],
   "source": []
  }
 ],
 "metadata": {
  "kernelspec": {
   "display_name": "R",
   "language": "R",
   "name": "ir"
  },
  "language_info": {
   "codemirror_mode": "r",
   "file_extension": ".r",
   "mimetype": "text/x-r-source",
   "name": "R",
   "pygments_lexer": "r",
   "version": "3.4.1"
  }
 },
 "nbformat": 4,
 "nbformat_minor": 2
}
