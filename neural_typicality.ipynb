{
 "cells": [
  {
   "cell_type": "markdown",
   "metadata": {},
   "source": [
    "# Neural typicality (NT)\n",
    "\n",
    "Neural typicality (see Davis & Poldrack, 2014) is a measure of how similar a stimulus response is to the responses to other same-category stimuli. That is, it quantifies how typical an exemplar is for its category, as measured by neural response.\n",
    "\n",
    "Since we have no fMRI data (yet), we'll try to calculate a similar measure based on the HMAX outputs. We can seperate two different measures: *Conserved and newfound typicality*.\n",
    "\n",
    "1) Conserved typcality\n",
    "- How typical is an RI percept for the category representation *before vision loss*.\n",
    "- Average difference between HMAX output of a *simulated image* to the HMAX outputs of *original images of the same category*.\n",
    "\n",
    "2) Newfound typicality\n",
    "- How typical is an RI percept for the category representation *after vision loss*.\n",
    "- Average difference between HMAX output of a *simulated image* to the HMAX outputs of *the other simulated images of that same category*.\n",
    "\n",
    "\n",
    "# Description in Davis & Poldrack (2014)\n",
    "\n",
    "## Distance d\n",
    "Formally, our neural typicality measure is based on the distance d between patterns of activation elicited for a stimulus i and those elicited for other j members of its category\n",
    "\n",
    "\\begin{equation*}\n",
    "d_{ij} = \\frac{1 - corr(\\beta_{i}, \\beta_{j}) }{2}\n",
    "\\end{equation*}\n",
    "\n",
    "where the *β’s are trial-by-trial β-series estimates of the pattern of activation elicited for each j stimulus*. A *Pearson correlation distance metric* is used because it normalizes for differences in mean activation level and variability between stimuli. This property makes correlation distance potentially less susceptible to differences in univariate activation between stimuli than other distance metrics (Kriegeskorte, Mur, Bandettini et al. 2008), assuming that the distribution of activation over voxels within an region of interest (ROI) is homogenous and does not reflect a mixture of signals.\n",
    "\n",
    "\n",
    "## Similarity S\n",
    "\n",
    "The distance between the activation patterns for i and j is transformed to similarity S by:\n",
    "\n",
    "\\begin{equation*}\n",
    "S_{ij} = exp( - d_{ij})\n",
    "\\end{equation*}\n",
    "\n",
    "where the *exponential instantiates a generalization gradient* that determines the form by which similarity decreases as a function of the distance between the patterns of activation for stimulus i and j. Statistically, instituting a generalization gradient *reduces the impact of stimuli that are distant* from stimulus i on the neural typicality computation. The exponential gradient is a common choice in exemplar models following the finding that the relationship between distance and similarity in psychological spaces tends to be exponential (Shepard’s Universal Law; Shepard 1987).\n",
    "\n",
    "## Neural typicality typ()\n",
    "\n",
    "Finally, neural typicality (typ) is computed by summing the pairwise similarities between i and each j member of Category J:\n",
    "\n",
    "\\begin{equation*}\n",
    "typ( i \\mid J) = \\sum_{j \\in J} s_{ij}\n",
    "\\end{equation*}"
   ]
  },
  {
   "cell_type": "code",
   "execution_count": 1,
   "metadata": {},
   "outputs": [],
   "source": [
    "import pandas as pd\n",
    "import glob\n",
    "import numpy as np\n",
    "from scipy.stats import pearsonr\n",
    "from numpy import exp\n",
    "import seaborn as sns\n",
    "import matplotlib.pyplot as plt\n",
    "import pickle"
   ]
  },
  {
   "cell_type": "code",
   "execution_count": 2,
   "metadata": {},
   "outputs": [],
   "source": [
    "% matplotlib inline"
   ]
  },
  {
   "cell_type": "markdown",
   "metadata": {},
   "source": [
    "# Load data"
   ]
  },
  {
   "cell_type": "code",
   "execution_count": 3,
   "metadata": {},
   "outputs": [],
   "source": [
    "\"\"\"\n",
    "Construct list of dicts containing information about our HMAX outputs.\n",
    "\"\"\"\n",
    "\n",
    "pattern_dicts = []\n",
    "for hmax_file in glob.glob('./results/*'):\n",
    "    # get hmax output vector\n",
    "    hmax_df = pd.read_csv(hmax_file, header=None)\n",
    "    pattern = np.array([row[0] for row in hmax_df.values])\n",
    "    assert len(pattern) == 2000\n",
    "    # get category and stimulus name\n",
    "    # we can later find the category name in the behavioral data frames again under:\n",
    "    # np.unique(behav_df.ImgName.values)\n",
    "    stimname = hmax_file.split('/')[-1].split('_')[0]\n",
    "    catname = stimname.split('.')[0]\n",
    "    # is this an ri percept or original image?\n",
    "    if 'percept' in hmax_file:\n",
    "        vision = 'ri_percept'\n",
    "    else:\n",
    "        vision= 'normal'\n",
    "    # save to dict\n",
    "    pattern_dict = {\n",
    "        'pattern' : pattern,\n",
    "        'category' : catname,\n",
    "        'stim' : stimname,\n",
    "        'vision' : vision,\n",
    "        'filename' : hmax_file.replace('./results/', '')\n",
    "    }\n",
    "    pattern_dicts.append(pattern_dict)"
   ]
  },
  {
   "cell_type": "code",
   "execution_count": 4,
   "metadata": {},
   "outputs": [],
   "source": [
    "\"\"\"\n",
    "Refactor into one big data frame, where each row is a stimulus.\n",
    "\"\"\"\n",
    "\n",
    "hmax_dict = dict()\n",
    "for keyname in pattern_dicts[0].keys():\n",
    "    keyname_series = pd.Series([pattern_dict[keyname] for pattern_dict in pattern_dicts])\n",
    "    hmax_dict[keyname] = keyname_series\n",
    "hmax_df = pd.DataFrame(hmax_dict)"
   ]
  },
  {
   "cell_type": "code",
   "execution_count": 5,
   "metadata": {},
   "outputs": [
    {
     "data": {
      "text/html": [
       "<div>\n",
       "<style scoped>\n",
       "    .dataframe tbody tr th:only-of-type {\n",
       "        vertical-align: middle;\n",
       "    }\n",
       "\n",
       "    .dataframe tbody tr th {\n",
       "        vertical-align: top;\n",
       "    }\n",
       "\n",
       "    .dataframe thead th {\n",
       "        text-align: right;\n",
       "    }\n",
       "</style>\n",
       "<table border=\"1\" class=\"dataframe\">\n",
       "  <thead>\n",
       "    <tr style=\"text-align: right;\">\n",
       "      <th></th>\n",
       "      <th>category</th>\n",
       "      <th>filename</th>\n",
       "      <th>pattern</th>\n",
       "      <th>stim</th>\n",
       "      <th>vision</th>\n",
       "    </tr>\n",
       "  </thead>\n",
       "  <tbody>\n",
       "    <tr>\n",
       "      <th>0</th>\n",
       "      <td>Flasche</td>\n",
       "      <td>Flasche.6_v2_percept.png.ascii</td>\n",
       "      <td>[0.357226074495, 0.458807073826, 0.52969296473...</td>\n",
       "      <td>Flasche.6</td>\n",
       "      <td>ri_percept</td>\n",
       "    </tr>\n",
       "    <tr>\n",
       "      <th>1</th>\n",
       "      <td>Tasse</td>\n",
       "      <td>Tasse.2_v2_percept.png.ascii</td>\n",
       "      <td>[0.378525755032, 0.428536129948, 0.45250409801...</td>\n",
       "      <td>Tasse.2</td>\n",
       "      <td>ri_percept</td>\n",
       "    </tr>\n",
       "    <tr>\n",
       "      <th>2</th>\n",
       "      <td>Schere</td>\n",
       "      <td>Schere.3_v2_percept.png.ascii</td>\n",
       "      <td>[0.431296444133, 0.503503839151, 0.53931850119...</td>\n",
       "      <td>Schere.3</td>\n",
       "      <td>ri_percept</td>\n",
       "    </tr>\n",
       "    <tr>\n",
       "      <th>3</th>\n",
       "      <td>Glas</td>\n",
       "      <td>Glas.1_v1_new.jpg.ascii</td>\n",
       "      <td>[0.792253883057, 0.853415594663, 0.91391518290...</td>\n",
       "      <td>Glas.1</td>\n",
       "      <td>normal</td>\n",
       "    </tr>\n",
       "    <tr>\n",
       "      <th>4</th>\n",
       "      <td>Apfel</td>\n",
       "      <td>Apfel.6_v1_new.jpg.ascii</td>\n",
       "      <td>[0.813285099419, 0.854606925393, 0.90015960717...</td>\n",
       "      <td>Apfel.6</td>\n",
       "      <td>normal</td>\n",
       "    </tr>\n",
       "  </tbody>\n",
       "</table>\n",
       "</div>"
      ],
      "text/plain": [
       "  category                        filename  \\\n",
       "0  Flasche  Flasche.6_v2_percept.png.ascii   \n",
       "1    Tasse    Tasse.2_v2_percept.png.ascii   \n",
       "2   Schere   Schere.3_v2_percept.png.ascii   \n",
       "3     Glas         Glas.1_v1_new.jpg.ascii   \n",
       "4    Apfel        Apfel.6_v1_new.jpg.ascii   \n",
       "\n",
       "                                             pattern       stim      vision  \n",
       "0  [0.357226074495, 0.458807073826, 0.52969296473...  Flasche.6  ri_percept  \n",
       "1  [0.378525755032, 0.428536129948, 0.45250409801...    Tasse.2  ri_percept  \n",
       "2  [0.431296444133, 0.503503839151, 0.53931850119...   Schere.3  ri_percept  \n",
       "3  [0.792253883057, 0.853415594663, 0.91391518290...     Glas.1      normal  \n",
       "4  [0.813285099419, 0.854606925393, 0.90015960717...    Apfel.6      normal  "
      ]
     },
     "execution_count": 5,
     "metadata": {},
     "output_type": "execute_result"
    }
   ],
   "source": [
    "hmax_df.head()"
   ]
  },
  {
   "cell_type": "markdown",
   "metadata": {},
   "source": [
    "# Implement computation of NT"
   ]
  },
  {
   "cell_type": "code",
   "execution_count": 6,
   "metadata": {},
   "outputs": [],
   "source": [
    "def compute_s(pattern1, pattern2):\n",
    "    \"\"\"\n",
    "    Compute similarity measure as in Davis & Poldrack (2014)\n",
    "    \"\"\"\n",
    "    d = (1-pearsonr(pattern1, pattern2)[0]) / 2\n",
    "    s = exp(-d)\n",
    "    return s"
   ]
  },
  {
   "cell_type": "code",
   "execution_count": 7,
   "metadata": {},
   "outputs": [],
   "source": [
    "def compute_typ(similarities):\n",
    "    \"\"\"\n",
    "    sum a list of pairwise similarities to obtain typicality\n",
    "    \"\"\"\n",
    "    np.sum(similarities)"
   ]
  },
  {
   "cell_type": "markdown",
   "metadata": {},
   "source": [
    "# Actually compute both typicality measures and add to data frame\n",
    "\n",
    "i.e. neural typicality among RI percepts."
   ]
  },
  {
   "cell_type": "code",
   "execution_count": 8,
   "metadata": {},
   "outputs": [],
   "source": [
    "def compute_typicality(hmax_df, which_nt='newfound'):\n",
    "\n",
    "    # filter data frame for ri_percepts only\n",
    "    ri_df = hmax_df[hmax_df.vision=='ri_percept']\n",
    "\n",
    "    # iterate through ri_percept stimuli\n",
    "    for row in ri_df.filename:\n",
    "        # get category names, and filter for within-category patterns\n",
    "        catname = ri_df[ri_df.filename == row].category.values[0]\n",
    "        target_pattern = ri_df[ri_df.filename==row].pattern.values[0]\n",
    "        assert len(target_pattern) == 2000\n",
    "\n",
    "        # slice data frame to get within-category exemplars,\n",
    "        # depending on wether we want newfound or conserved typicality\n",
    "        if which_nt == 'newfound':\n",
    "            cat_df = ri_df[(ri_df.category == catname) & (ri_df.filename != row)]\n",
    "            colname = 'newNT'\n",
    "            check_len = 7\n",
    "        elif which_nt == 'conserved':\n",
    "            cat_df = hmax_df[(hmax_df.category == catname) & (hmax_df.vision == 'normal')] \n",
    "            colname = 'conNT'\n",
    "            check_len = 9\n",
    "        else:\n",
    "            raise InputError(\"Sorry, I don't know the typicality of type %s\" % which_nt)\n",
    "\n",
    "        # pairwise similarities for within-category exemplars\n",
    "        similarities = [compute_s(target_pattern, cat_pattern)\n",
    "                        for cat_pattern in cat_df.pattern.values]    \n",
    "        assert len(similarities) == check_len\n",
    "\n",
    "        # sum over similarities to get typicality\n",
    "        NT = np.sum(similarities)\n",
    "        # insert result into df\n",
    "        row_index = ri_df.index[ri_df.filename == row].tolist()[0]\n",
    "        ri_df.loc[row_index, colname] = NT\n",
    "\n",
    "    # check for NaN    \n",
    "    assert True not in ri_df[colname].isnull().values\n",
    "    \n",
    "    \"\"\"\n",
    "    also create centered version whilst we're at it\n",
    "    \"\"\"    \n",
    "    NT_mean = np.mean(ri_df[colname].values)\n",
    "    NT_cent = ri_df[colname].values - NT_mean\n",
    "    ri_df[colname+'_cent'] = NT_cent\n",
    "    # check for NaN\n",
    "    assert True not in ri_df[colname].isnull().values\n",
    "    \n",
    "    return ri_df"
   ]
  },
  {
   "cell_type": "code",
   "execution_count": 9,
   "metadata": {},
   "outputs": [
    {
     "name": "stderr",
     "output_type": "stream",
     "text": [
      "/Users/Oliver/anaconda2/envs/run_hmax/lib/python2.7/site-packages/pandas/core/indexing.py:362: SettingWithCopyWarning: \n",
      "A value is trying to be set on a copy of a slice from a DataFrame.\n",
      "Try using .loc[row_indexer,col_indexer] = value instead\n",
      "\n",
      "See the caveats in the documentation: http://pandas.pydata.org/pandas-docs/stable/indexing.html#indexing-view-versus-copy\n",
      "  self.obj[key] = _infer_fill_value(value)\n",
      "/Users/Oliver/anaconda2/envs/run_hmax/lib/python2.7/site-packages/pandas/core/indexing.py:543: SettingWithCopyWarning: \n",
      "A value is trying to be set on a copy of a slice from a DataFrame.\n",
      "Try using .loc[row_indexer,col_indexer] = value instead\n",
      "\n",
      "See the caveats in the documentation: http://pandas.pydata.org/pandas-docs/stable/indexing.html#indexing-view-versus-copy\n",
      "  self.obj[item] = s\n",
      "/Users/Oliver/anaconda2/envs/run_hmax/lib/python2.7/site-packages/ipykernel_launcher.py:45: SettingWithCopyWarning: \n",
      "A value is trying to be set on a copy of a slice from a DataFrame.\n",
      "Try using .loc[row_indexer,col_indexer] = value instead\n",
      "\n",
      "See the caveats in the documentation: http://pandas.pydata.org/pandas-docs/stable/indexing.html#indexing-view-versus-copy\n"
     ]
    }
   ],
   "source": [
    "\"\"\"\n",
    "Get data frame with newfound and conserved NT respectively and merge into one\n",
    "\"\"\"\n",
    "\n",
    "# individual dfs\n",
    "ri_df_new = compute_typicality(hmax_df, which_nt='newfound')\n",
    "ri_df_con = compute_typicality(hmax_df, which_nt='conserved')\n",
    "\n",
    "# merge\n",
    "nt_df = pd.merge(ri_df_new, ri_df_con, on=['filename', 'category', 'stim', 'vision'])\n",
    "assert len(nt_df) == len(ri_df_new) and len(nt_df) == len(ri_df_con)\n",
    "\n",
    "# for some reason, pattern is not a valid key for merging (presumably because of array structure)\n",
    "# So we're gonna rename and drop\n",
    "nt_df['pattern'] = nt_df.pattern_x\n",
    "nt_df = nt_df.drop(columns=['pattern_x', 'pattern_y'])"
   ]
  },
  {
   "cell_type": "code",
   "execution_count": 10,
   "metadata": {},
   "outputs": [
    {
     "data": {
      "text/html": [
       "<div>\n",
       "<style scoped>\n",
       "    .dataframe tbody tr th:only-of-type {\n",
       "        vertical-align: middle;\n",
       "    }\n",
       "\n",
       "    .dataframe tbody tr th {\n",
       "        vertical-align: top;\n",
       "    }\n",
       "\n",
       "    .dataframe thead th {\n",
       "        text-align: right;\n",
       "    }\n",
       "</style>\n",
       "<table border=\"1\" class=\"dataframe\">\n",
       "  <thead>\n",
       "    <tr style=\"text-align: right;\">\n",
       "      <th></th>\n",
       "      <th>category</th>\n",
       "      <th>filename</th>\n",
       "      <th>stim</th>\n",
       "      <th>vision</th>\n",
       "      <th>newNT</th>\n",
       "      <th>newNT_cent</th>\n",
       "      <th>conNT</th>\n",
       "      <th>conNT_cent</th>\n",
       "      <th>pattern</th>\n",
       "    </tr>\n",
       "  </thead>\n",
       "  <tbody>\n",
       "    <tr>\n",
       "      <th>0</th>\n",
       "      <td>Flasche</td>\n",
       "      <td>Flasche.6_v2_percept.png.ascii</td>\n",
       "      <td>Flasche.6</td>\n",
       "      <td>ri_percept</td>\n",
       "      <td>6.994057</td>\n",
       "      <td>0.000579</td>\n",
       "      <td>8.713323</td>\n",
       "      <td>-0.027473</td>\n",
       "      <td>[0.357226074495, 0.458807073826, 0.52969296473...</td>\n",
       "    </tr>\n",
       "    <tr>\n",
       "      <th>1</th>\n",
       "      <td>Tasse</td>\n",
       "      <td>Tasse.2_v2_percept.png.ascii</td>\n",
       "      <td>Tasse.2</td>\n",
       "      <td>ri_percept</td>\n",
       "      <td>6.991166</td>\n",
       "      <td>-0.002311</td>\n",
       "      <td>8.771453</td>\n",
       "      <td>0.030657</td>\n",
       "      <td>[0.378525755032, 0.428536129948, 0.45250409801...</td>\n",
       "    </tr>\n",
       "    <tr>\n",
       "      <th>2</th>\n",
       "      <td>Schere</td>\n",
       "      <td>Schere.3_v2_percept.png.ascii</td>\n",
       "      <td>Schere.3</td>\n",
       "      <td>ri_percept</td>\n",
       "      <td>6.995004</td>\n",
       "      <td>0.001527</td>\n",
       "      <td>8.678519</td>\n",
       "      <td>-0.062277</td>\n",
       "      <td>[0.431296444133, 0.503503839151, 0.53931850119...</td>\n",
       "    </tr>\n",
       "    <tr>\n",
       "      <th>3</th>\n",
       "      <td>Tasse</td>\n",
       "      <td>Tasse.7_v2_percept.png.ascii</td>\n",
       "      <td>Tasse.7</td>\n",
       "      <td>ri_percept</td>\n",
       "      <td>6.996475</td>\n",
       "      <td>0.002998</td>\n",
       "      <td>8.795593</td>\n",
       "      <td>0.054796</td>\n",
       "      <td>[0.418871684958, 0.496602963935, 0.53565964635...</td>\n",
       "    </tr>\n",
       "    <tr>\n",
       "      <th>4</th>\n",
       "      <td>Flasche</td>\n",
       "      <td>Flasche.3_v2_percept.png.ascii</td>\n",
       "      <td>Flasche.3</td>\n",
       "      <td>ri_percept</td>\n",
       "      <td>6.996448</td>\n",
       "      <td>0.002971</td>\n",
       "      <td>8.728509</td>\n",
       "      <td>-0.012287</td>\n",
       "      <td>[0.427031671073, 0.506096067952, 0.56410518516...</td>\n",
       "    </tr>\n",
       "  </tbody>\n",
       "</table>\n",
       "</div>"
      ],
      "text/plain": [
       "  category                        filename       stim      vision     newNT  \\\n",
       "0  Flasche  Flasche.6_v2_percept.png.ascii  Flasche.6  ri_percept  6.994057   \n",
       "1    Tasse    Tasse.2_v2_percept.png.ascii    Tasse.2  ri_percept  6.991166   \n",
       "2   Schere   Schere.3_v2_percept.png.ascii   Schere.3  ri_percept  6.995004   \n",
       "3    Tasse    Tasse.7_v2_percept.png.ascii    Tasse.7  ri_percept  6.996475   \n",
       "4  Flasche  Flasche.3_v2_percept.png.ascii  Flasche.3  ri_percept  6.996448   \n",
       "\n",
       "   newNT_cent     conNT  conNT_cent  \\\n",
       "0    0.000579  8.713323   -0.027473   \n",
       "1   -0.002311  8.771453    0.030657   \n",
       "2    0.001527  8.678519   -0.062277   \n",
       "3    0.002998  8.795593    0.054796   \n",
       "4    0.002971  8.728509   -0.012287   \n",
       "\n",
       "                                             pattern  \n",
       "0  [0.357226074495, 0.458807073826, 0.52969296473...  \n",
       "1  [0.378525755032, 0.428536129948, 0.45250409801...  \n",
       "2  [0.431296444133, 0.503503839151, 0.53931850119...  \n",
       "3  [0.418871684958, 0.496602963935, 0.53565964635...  \n",
       "4  [0.427031671073, 0.506096067952, 0.56410518516...  "
      ]
     },
     "execution_count": 10,
     "metadata": {},
     "output_type": "execute_result"
    }
   ],
   "source": [
    "nt_df.head()"
   ]
  },
  {
   "cell_type": "code",
   "execution_count": 11,
   "metadata": {},
   "outputs": [],
   "source": [
    "\"\"\"\n",
    "Save the resulting data frame as a pickle file\n",
    "\"\"\"\n",
    "pickle.dump(nt_df, open( \"nt_df.p\", \"wb\" ))"
   ]
  },
  {
   "cell_type": "markdown",
   "metadata": {},
   "source": [
    "# Descriptive plotting"
   ]
  },
  {
   "cell_type": "code",
   "execution_count": 30,
   "metadata": {},
   "outputs": [
    {
     "data": {
      "text/plain": [
       "Text(0.5,1,'scatter plot: conNT by newNT')"
      ]
     },
     "execution_count": 30,
     "metadata": {},
     "output_type": "execute_result"
    },
    {
     "data": {
      "image/png": "[encoded data removed]",
      "text/plain": [
       "<Figure size 1080x360 with 3 Axes>"
      ]
     },
     "metadata": {},
     "output_type": "display_data"
    }
   ],
   "source": [
    "fig, axs = plt.subplots(1,3, figsize=(15,5))\n",
    "\n",
    "fig.suptitle('Distribution of Neural Typicality measures (uncentered)', fontsize=16)\n",
    "fig.tight_layout()\n",
    "fig.subplots_adjust(top=0.85)\n",
    "\n",
    "for axis, nt in zip(axs[:-1], ['newNT', 'conNT']):\n",
    "    sns.distplot(nt_df[nt].values, rug=True, ax=axis)\n",
    "    axis.set_title(nt)\n",
    "    \n",
    "sns.regplot(x='newNT', y='conNT', data=nt_df, ax=axs[-1])\n",
    "axs[-1].set_title('scatter plot: conNT by newNT')"
   ]
  },
  {
   "cell_type": "code",
   "execution_count": 34,
   "metadata": {},
   "outputs": [
    {
     "name": "stdout",
     "output_type": "stream",
     "text": [
      "Correlation newNT and conNT: r = -0.433835; p = 0.000342\n"
     ]
    }
   ],
   "source": [
    "r, p = pearsonr(nt_df.newNT.values, nt_df.conNT.values)\n",
    "print('Correlation newNT and conNT: r = %f; p = %f' % (r,p))"
   ]
  },
  {
   "cell_type": "code",
   "execution_count": null,
   "metadata": {},
   "outputs": [],
   "source": []
  }
 ],
 "metadata": {
  "kernelspec": {
   "display_name": "Python 2",
   "language": "python",
   "name": "python2"
  },
  "language_info": {
   "codemirror_mode": {
    "name": "ipython",
    "version": 2
   },
   "file_extension": ".py",
   "mimetype": "text/x-python",
   "name": "python",
   "nbconvert_exporter": "python",
   "pygments_lexer": "ipython2",
   "version": "2.7.15"
  }
 },
 "nbformat": 4,
 "nbformat_minor": 2
}
