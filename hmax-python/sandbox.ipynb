{
 "cells": [
  {
   "cell_type": "markdown",
   "metadata": {},
   "source": [
    "# Compute euclidean distance between hmax output of original and simulation"
   ]
  },
  {
   "cell_type": "code",
   "execution_count": 1,
   "metadata": {
    "collapsed": true
   },
   "outputs": [],
   "source": [
    "#source activate run_hmax"
   ]
  },
  {
   "cell_type": "code",
   "execution_count": 2,
   "metadata": {},
   "outputs": [
    {
     "name": "stdout",
     "output_type": "stream",
     "text": [
      "README.txt             hmax.pyc               runhmaxonimages.py\r\n",
      "batchhmax.py           hmaxoptions.py         sandbox.ipynb\r\n",
      "classifyhmaxoutputs.py hmaxoptions.pyc        \u001b[31msim.png\u001b[m\u001b[m\r\n",
      "filters.dat            \u001b[31morig.jpg\u001b[m\u001b[m               sim.png.hmaxout.ascii\r\n",
      "hmax.py                orig.jpg.hmaxout.ascii\r\n"
     ]
    }
   ],
   "source": [
    "!ls"
   ]
  },
  {
   "cell_type": "code",
   "execution_count": 3,
   "metadata": {},
   "outputs": [],
   "source": [
    "import os\n",
    "import glob\n",
    "import pandas as pd\n",
    "import numpy as np\n",
    "from numpy.linalg import norm as lnorm"
   ]
  },
  {
   "cell_type": "code",
   "execution_count": 4,
   "metadata": {
    "collapsed": true
   },
   "outputs": [],
   "source": [
    "os.chdir('/Users/Oliver/Desktop/hmax/python/compare_images/hmax-python')"
   ]
  },
  {
   "cell_type": "code",
   "execution_count": 5,
   "metadata": {},
   "outputs": [],
   "source": [
    "# get hmax output in array form\n",
    "\n",
    "# simulated\n",
    "sim_df = pd.read_csv('sim.png.hmaxout.ascii', header=None)\n",
    "sim_arr = sim_df[0].as_matrix()\n",
    "\n",
    "assert np.shape(sim_arr) == (2000,)\n",
    "\n",
    "# original\n",
    "orig_df = pd.read_csv('orig.jpg.hmaxout.ascii', header=None)\n",
    "orig_arr = orig_df[0].as_matrix()\n",
    "\n",
    "assert np.shape(orig_arr) == (2000,)"
   ]
  },
  {
   "cell_type": "code",
   "execution_count": 6,
   "metadata": {},
   "outputs": [
    {
     "name": "stdout",
     "output_type": "stream",
     "text": [
      "13.286629336182969\n"
     ]
    }
   ],
   "source": [
    "# compute euclidean distance\n",
    "\n",
    "ed = lnorm(sim_arr-orig_arr)\n",
    "print(ed)"
   ]
  },
  {
   "cell_type": "markdown",
   "metadata": {},
   "source": [
    "# How many stimuli are there?"
   ]
  },
  {
   "cell_type": "code",
   "execution_count": 7,
   "metadata": {},
   "outputs": [],
   "source": [
    "os.chdir('/Users/Oliver/Desktop/hmax/python/compare_images')"
   ]
  },
  {
   "cell_type": "code",
   "execution_count": 8,
   "metadata": {},
   "outputs": [],
   "source": [
    "flist_orig = glob.glob('./orig/*')\n",
    "flist_sim = glob.glob('./sim/*')"
   ]
  },
  {
   "cell_type": "code",
   "execution_count": 9,
   "metadata": {},
   "outputs": [
    {
     "data": {
      "text/plain": [
       "176"
      ]
     },
     "execution_count": 9,
     "metadata": {},
     "output_type": "execute_result"
    }
   ],
   "source": [
    "len(flist_orig + flist_sim)"
   ]
  }
 ],
 "metadata": {
  "kernelspec": {
   "display_name": "Python 2",
   "language": "python",
   "name": "python2"
  },
  "language_info": {
   "codemirror_mode": {
    "name": "ipython",
    "version": 2
   },
   "file_extension": ".py",
   "mimetype": "text/x-python",
   "name": "python",
   "nbconvert_exporter": "python",
   "pygments_lexer": "ipython2",
   "version": "2.7.13"
  }
 },
 "nbformat": 4,
 "nbformat_minor": 2
}
