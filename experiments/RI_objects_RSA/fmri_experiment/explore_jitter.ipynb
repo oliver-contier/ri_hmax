{
 "cells": [
  {
   "cell_type": "code",
   "execution_count": 30,
   "metadata": {},
   "outputs": [],
   "source": [
    "import numpy as np\n",
    "from numpy.random import exponential\n",
    "import seaborn as sns"
   ]
  },
  {
   "cell_type": "code",
   "execution_count": 12,
   "metadata": {},
   "outputs": [],
   "source": [
    "%matplotlib inline"
   ]
  },
  {
   "cell_type": "markdown",
   "metadata": {},
   "source": [
    "# shifted and truncated exponential distribution"
   ]
  },
  {
   "cell_type": "code",
   "execution_count": 71,
   "metadata": {},
   "outputs": [],
   "source": [
    "def jitter_truncexpon(miniti=800.,\n",
    "                      maxiti=1500.,\n",
    "                      aviti=1000.,\n",
    "                      ntrials=141):\n",
    "    \"\"\"\n",
    "    Sample ITIs from truncated exponential distribution.\n",
    "    \"\"\"\n",
    "    distmax = maxiti+1\n",
    "    while distmax > maxiti:\n",
    "        l = aviti-miniti\n",
    "        unshifted = exponential(scale=l, size=ntrials)\n",
    "        itis = unshifted+miniti\n",
    "        distmax = np.max(shifted)\n",
    "    return itis"
   ]
  },
  {
   "cell_type": "code",
   "execution_count": 74,
   "metadata": {},
   "outputs": [
    {
     "name": "stdout",
     "output_type": "stream",
     "text": [
      "801.5378729722783\n",
      "985.0529693691533\n",
      "1491.3602295253354\n"
     ]
    }
   ],
   "source": [
    "itis = jitter_truncexpon()\n",
    "\n",
    "print(np.min(itis))\n",
    "print(np.mean(itis))\n",
    "print(np.max(itis))"
   ]
  },
  {
   "cell_type": "code",
   "execution_count": 65,
   "metadata": {},
   "outputs": [
    {
     "data": {
      "text/plain": [
       "<matplotlib.axes._subplots.AxesSubplot at 0x1a1d2b8210>"
      ]
     },
     "execution_count": 65,
     "metadata": {},
     "output_type": "execute_result"
    },
    {
     "data": {
      "image/png": "[encoded data removed]",
      "text/plain": [
       "<Figure size 432x288 with 1 Axes>"
      ]
     },
     "metadata": {},
     "output_type": "display_data"
    }
   ],
   "source": [
    "sns.distplot(itis, bins=141, kde=False)"
   ]
  },
  {
   "cell_type": "code",
   "execution_count": null,
   "metadata": {},
   "outputs": [],
   "source": []
  }
 ],
 "metadata": {
  "kernelspec": {
   "display_name": "Python 2",
   "language": "python",
   "name": "python2"
  },
  "language_info": {
   "codemirror_mode": {
    "name": "ipython",
    "version": 2
   },
   "file_extension": ".py",
   "mimetype": "text/x-python",
   "name": "python",
   "nbconvert_exporter": "python",
   "pygments_lexer": "ipython2",
   "version": "2.7.15"
  }
 },
 "nbformat": 4,
 "nbformat_minor": 2
}
