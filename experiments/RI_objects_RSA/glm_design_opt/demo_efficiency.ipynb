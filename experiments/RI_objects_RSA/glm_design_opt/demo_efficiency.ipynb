{
 "cells": [
  {
   "cell_type": "markdown",
   "metadata": {},
   "source": [
    "# Overview"
   ]
  },
  {
   "cell_type": "markdown",
   "metadata": {},
   "source": [
    "In this notebook, I worked out functions to simulate mocked runs for the fmri experiment, which contain the entire stimulus set (i.e. all intact object images and ri percepts).\n",
    "\n",
    "I also work out functions for computing the efficiency of a given design and iterate over lots of simulated designs to find the most efficient one.\n",
    "\n",
    "Efficiency in this context is tailored to the GLM contrasts we aim to calculate, e.g. intact objects vs. ri percepts, or trained vs. untrained ri percepts.\n",
    "\n",
    "I then vary the parameters of the jitter to see if we can increase design efficiency further. As a result, we'll see that changing the jitter parameters has no effect on our design efficiency and we might just pick the most feasible jitter."
   ]
  },
  {
   "cell_type": "code",
   "execution_count": 1,
   "metadata": {},
   "outputs": [
    {
     "name": "stdout",
     "output_type": "stream",
     "text": [
      "pygame 1.9.4\n",
      "Hello from the pygame community. https://www.pygame.org/contribute.html\n"
     ]
    }
   ],
   "source": [
    "import copy\n",
    "import os\n",
    "import random\n",
    "import glob\n",
    "from collections import OrderedDict\n",
    "from os.path import join as pjoin\n",
    "\n",
    "import numpy as np\n",
    "from numpy.random import exponential\n",
    "from psychopy import core, visual, event\n",
    "\n",
    "from mvpa2.misc.data_generators import simple_hrf_dataset"
   ]
  },
  {
   "cell_type": "code",
   "execution_count": 2,
   "metadata": {},
   "outputs": [],
   "source": [
    "import matplotlib.pyplot as plt\n",
    "import seaborn as sns\n",
    "%matplotlib inline  "
   ]
  },
  {
   "cell_type": "markdown",
   "metadata": {},
   "source": [
    "# Definitions copied from my scripts"
   ]
  },
  {
   "cell_type": "markdown",
   "metadata": {},
   "source": [
    "*You may jump to the next secion ('Generate run')*. These functions have nothing to do with the actual interesting efficiency calculation. We need them to generate a sequence of trials of a 1-back task."
   ]
  },
  {
   "cell_type": "code",
   "execution_count": 102,
   "metadata": {},
   "outputs": [],
   "source": [
    "# %load ../fmri_exp.py\n",
    "#!/usr/bin/python\n",
    "\n",
    "\"\"\"\n",
    "Script for stimulus presentation in the scanner.\n",
    "\"\"\"\n",
    "\n",
    "import copy\n",
    "import os\n",
    "import random\n",
    "from collections import OrderedDict\n",
    "from os.path import join as pjoin\n",
    "\n",
    "import numpy as np\n",
    "from numpy.random import exponential\n",
    "from psychopy import core, visual, event\n",
    "\n",
    "\n",
    "def showinstr(instring='Weiter mit der Leertaste'):\n",
    "    \"\"\"\n",
    "    Show instructions and wait for key press (space bar).\n",
    "\n",
    "    Parameters\n",
    "    ----------\n",
    "    instring : str\n",
    "        String you want to be presented as instructions.\n",
    "\n",
    "    Returns\n",
    "    -------\n",
    "    None\n",
    "    \"\"\"\n",
    "\n",
    "    # create and draw window, flip screen.\n",
    "    win = visual.Window(color='black', units='pix', fullscr=True)  # size=(1680, 1050)\n",
    "    text = visual.TextStim(win, text=instring, color='white', height=20)\n",
    "    text.draw()\n",
    "    win.flip()\n",
    "\n",
    "    # await keyboard input and close screen.\n",
    "    keys = event.waitKeys(keyList=['space', 'escape'])\n",
    "    if 'escape' in keys:\n",
    "        win.close()\n",
    "    else:\n",
    "        print 'End of instructions'\n",
    "        win.close()\n",
    "\n",
    "\n",
    "def checkconsec(integerlist):\n",
    "    \"\"\"\n",
    "    Helper function.\n",
    "    Check whether a list of integers contains consecutive numbers. Returns True or False.\n",
    "    \"\"\"\n",
    "    # make an ordered copy of original input list\n",
    "    ordered = [i for i in integerlist]\n",
    "    ordered.sort()\n",
    "    # check for consecutive list elements\n",
    "    consec = False\n",
    "    for element in ordered[1:]:\n",
    "        if element == ordered[ordered.index(element) - 1] + 1:\n",
    "            consec = True\n",
    "    return consec\n",
    "\n",
    "\n",
    "def checkfirstlast(indiceslist,\n",
    "                   targetlist):\n",
    "    \"\"\"\n",
    "    Check if list of indices contains index for first or last element of a target list\n",
    "    (i.e. 0 or len(elementlist)-1 )\n",
    "    \"\"\"\n",
    "    # check constraint\n",
    "    firstlast = False\n",
    "    lastidx = len(targetlist) - 1\n",
    "    if 0 in indiceslist or lastidx in indiceslist:\n",
    "        firstlast = True\n",
    "    return firstlast\n",
    "\n",
    "\n",
    "def assertplus2(list1, list2):\n",
    "    \"\"\"\n",
    "    Assert if list1 has at least two more elements than list2\n",
    "    \"\"\"\n",
    "    if len(list1) < len(list2) + 2:\n",
    "        raise IOError('Too many catch trials for stimulus sequence, given constraint checkfirstlast.\\n'\n",
    "                      'length of stimulus list : %s\\n'\n",
    "                      'number of desired catch trials : %s'\n",
    "                      % (str(len(list1)), str(len(list2))))\n",
    "    return None\n",
    "\n",
    "\n",
    "def add_empty_responses(stimsequence):\n",
    "    \"\"\"\n",
    "    Add empty dummy information for the to-be-captured responses to each stimulus dict in sequence. These are:\n",
    "    Rt, accuracy, keys, trial_num, and ran. This will allow all trials with their information to be written in the\n",
    "    logg-file even if they haven't run yet.\n",
    "    \"\"\"\n",
    "    for trial_num, stimdict in enumerate(stimsequence):\n",
    "        stimdict['global_onset_time'] = None\n",
    "        stimdict['RT'] = None\n",
    "        stimdict['accuracy'] = None\n",
    "        stimdict['keys'] = None\n",
    "        stimdict['trial_num'] = trial_num\n",
    "        stimdict['ran'] = False\n",
    "    return stimsequence\n",
    "\n",
    "\n",
    "def add_catches(stimlist,\n",
    "                num_catches=10,\n",
    "                shuffle_inlist=True):\n",
    "    \"\"\"\n",
    "    Add catch trials for a 1-back taks to a given stimulus sequence by repeating randomly chosen trials.\n",
    "    Catch trials are not allowed To occur in first or last position of the sequence, nor can two catch trials follow\n",
    "    one another. Also adds the \"trial_type\" key to each stimulus dict with values \"normal\" or \"catch\".\n",
    "    \"\"\"\n",
    "\n",
    "    # assert that we didn't specify too many catch trials given our constraints\n",
    "    assertplus2(stimlist, range(num_catches))\n",
    "    # make copy of original list\n",
    "    # shuffle if desired\n",
    "    if shuffle_inlist:\n",
    "        random.shuffle(stimlist)\n",
    "    # add key-value indicating if this is a catch or normal trial\n",
    "    for stim in stimlist:\n",
    "        stim['trial_type'] = 'normal'\n",
    "\n",
    "    # make list of random, non-consecutive positions for catch trials\n",
    "    # with constraint that first and last trials mustn't be catch trials\n",
    "    consec_bool, firstlast_bool = True, True\n",
    "    catchpositions = None\n",
    "    while consec_bool or firstlast_bool:\n",
    "        catchpositions = random.sample(range(len(stimlist)), num_catches)\n",
    "        consec_bool, firstlast_bool = checkconsec(catchpositions), checkfirstlast(catchpositions, stimlist)\n",
    "\n",
    "    # choose items in new_stimlist (i.e. percept_dict) that should be followed by catch trials\n",
    "    catchstims = [stimlist[pos] for pos in catchpositions]\n",
    "\n",
    "    # insert catchstims into list at appropriate index\n",
    "    # and mark them with 'catch'\n",
    "    for catchstim in catchstims:\n",
    "        stimlist.insert(stimlist.index(catchstim) + 1, catchstim)\n",
    "        stimlist[stimlist.index(catchstim) + 1]['trial_type'] = 'catch'\n",
    "\n",
    "    # make new list with copy of each original dict, else multiple entries will point to same object in memory\n",
    "    stimlist_copy = [copy.copy(stimdict) for stimdict in stimlist]\n",
    "\n",
    "    # flip trial_type of the stim right before catch trial back to 'normal'\n",
    "    for idx, stim in enumerate(stimlist_copy[:-1]):\n",
    "        if stimlist_copy[idx + 1]['trial_type'] == 'catch':\n",
    "            stim['trial_type'] = 'normal'\n",
    "\n",
    "    return stimlist_copy\n",
    "\n",
    "\n",
    "def sample_itis_shiftruncexpon(miniti=800.,\n",
    "                               maxiti=1500.,\n",
    "                               aviti=1000.,\n",
    "                               ntrials=141):\n",
    "    \"\"\"\n",
    "    Sample ITIs from truncated exponential distribution which is shifted by a minimum value.\n",
    "    \"\"\"\n",
    "    distmax = maxiti + 1\n",
    "    shifted = None\n",
    "    while distmax > maxiti:\n",
    "        lamb = aviti - miniti\n",
    "        unshifted = exponential(scale=lamb, size=ntrials)\n",
    "        shifted = unshifted + miniti\n",
    "        distmax = np.max(shifted)\n",
    "    return shifted\n",
    "\n",
    "\n",
    "def add_itis(stim_sequence,\n",
    "             min_iti,\n",
    "             max_iti,\n",
    "             av_iti,\n",
    "             jitter='shiftruncexpon'):\n",
    "    \"\"\"\n",
    "    Add jittered inter trial intervals to a stimulus sequence.\n",
    "    \"\"\"\n",
    "    if not jitter == 'shiftruncexpon':\n",
    "        raise IOError('only the jitter type shifted truncated exponential is supported for now')\n",
    "    itis = sample_itis_shiftruncexpon(miniti=min_iti, maxiti=max_iti, aviti=av_iti, ntrials=len(stim_sequence))\n",
    "    for stim, iti in zip(stim_sequence, itis):\n",
    "        stim['iti'] = iti\n",
    "    return stim_sequence\n",
    "\n",
    "\n",
    "def make_run_seq(stimdicts,\n",
    "                 experiment_info,\n",
    "                 blocksperrun=4,\n",
    "                 with_catches=True,  # if False, don't add catch trials\n",
    "                 ncatches=10,  # number of catch trials\n",
    "                 miniti=.8,  # jitter args\n",
    "                 maxiti=1.5,\n",
    "                 aviti=1.):\n",
    "    \"\"\"\n",
    "    Take stimulus dicts and create a list of lists, with each sublist representing the stimulus sequence of one block\n",
    "    and the number of sublists corresponding to the number of blocks/repetitions in one functional run.\n",
    "\n",
    "    Parameters\n",
    "    ----------\n",
    "    stimdicts : list\n",
    "        each list entry represents one stimulus gathered with getstims_aloiselection\n",
    "    experiment_info : dict\n",
    "        additional experiment information gathered from the psychopy gui\n",
    "    blocksperrun : int\n",
    "        number of blocks in one functional run\n",
    "\n",
    "    Returns\n",
    "    -------\n",
    "    run_sequences : list of lists\n",
    "        Each sublists represents one block, and the sublist elements each represent a trial. The whole list contains\n",
    "        all blocks of a given functinal run.\n",
    "    \"\"\"\n",
    "\n",
    "    run_sequences = []\n",
    "    for block in range(1, blocksperrun + 1):\n",
    "        # for each block, create a seperate copy and add exp_info, empty responses, catches, jitter, and block number\n",
    "        block_sequence = copy.deepcopy(stimdicts)\n",
    "        block_sequence = add_expinfo(block_sequence, experiment_info)\n",
    "        block_sequence = add_empty_responses(block_sequence)\n",
    "        if with_catches:\n",
    "            block_sequence = add_catches(block_sequence,  num_catches=ncatches)\n",
    "        block_sequence = add_itis(block_sequence, jitter='shiftruncexpon',\n",
    "                                  min_iti=miniti, max_iti=maxiti, av_iti=aviti)\n",
    "        for trial in block_sequence:\n",
    "            trial['block'] = block\n",
    "        run_sequences.append(block_sequence)\n",
    "\n",
    "    return run_sequences\n",
    "\n",
    "\n",
    "def present_run(run_sequence,\n",
    "                output_csv,\n",
    "                response_key='space',\n",
    "                escape_key='escape',\n",
    "                trigger_key='t',\n",
    "                stimsize=15,\n",
    "                fixdur=.500,\n",
    "                stimdur=1.,\n",
    "                skip_volumes=4,\n",
    "                monitorname='skyra_projector'):\n",
    "    \"\"\"\n",
    "\n",
    "    \"\"\"\n",
    "    # TODO: docstring\n",
    "    # TODO: get monitor specifications from scanner (resolution, width, viewing distance, etc.)\n",
    "    # TODO: use countdown timing (more precise)\n",
    "    # TODO: transform presentation times into multiples of framerate, depends on monitor (but probably 60 Hz).\n",
    "\n",
    "    # Initiate  windows, stimuli, and alike\n",
    "    mon, window_ = pick_monitor(monitorname)\n",
    "    event.Mouse(visible=False, win=window_)\n",
    "    fixation = visual.ShapeStim(window_, size=1, lineWidth=5, closeShape=False, lineColor=\"white\",\n",
    "                                vertices=((0, -0.5), (0, 0.5), (0, 0), (-0.5, 0), (0.5, 0)))\n",
    "    blank = visual.ShapeStim(window_, size=0, lineWidth=0, lineColor='black')\n",
    "    stim = visual.ImageStim(window_, size=stimsize)\n",
    "    escape_bool = False\n",
    "\n",
    "    # clocks\n",
    "    fix_rt = core.Clock()\n",
    "    stim_rt = core.Clock()\n",
    "    blank_rt = core.Clock()\n",
    "    global_onset_time = core.Clock()\n",
    "    firsttrig_time = core.Clock()\n",
    "    skipvol_time = core.Clock()\n",
    "\n",
    "    \"\"\"\n",
    "    Scanner warm up\n",
    "    \"\"\"\n",
    "\n",
    "    # Wait for first scanner pulse\n",
    "    firsttrig_instr = visual.TextStim(window_, text='waiting for first scanner pulse', color='white', height=2)\n",
    "    firsttrig_instr.draw()\n",
    "    window_.flip()\n",
    "    firsttrig = event.waitKeys(keyList=[trigger_key], timeStamped=firsttrig_time)\n",
    "\n",
    "    # do nothing during first few scans, which will be discarded before analysis\n",
    "    global_onset_time.reset()\n",
    "    skipvol_instr = visual.TextStim(window_, text='dummy scans', color='white', height=2)\n",
    "    skipvol_instr.draw()\n",
    "    window_.flip()\n",
    "    for i in range(skip_volumes-1):\n",
    "        dummy_keys = event.waitKeys(keyList=[trigger_key], timeStamped=skipvol_time)\n",
    "\n",
    "    \"\"\"\n",
    "    Start task\n",
    "    \"\"\"\n",
    "\n",
    "    # block loop\n",
    "    for stim_sequence in run_sequence:\n",
    "\n",
    "        if escape_bool:\n",
    "            break\n",
    "\n",
    "        # trial loop\n",
    "        for trial in stim_sequence:\n",
    "\n",
    "            if escape_bool:\n",
    "                break\n",
    "\n",
    "            # wait for keyboard input, time stamp with clock stim_rt\n",
    "            responses = event.getKeys(keyList=[response_key, escape_key], timeStamped=stim_rt)\n",
    "\n",
    "            # show fixation\n",
    "            fix_rt.reset()\n",
    "            while fix_rt.getTime() < fixdur:\n",
    "                fixation.draw()\n",
    "                window_.flip()\n",
    "\n",
    "            # show stimulus\n",
    "            stim.setImage(trial['file_path'])\n",
    "            trial['global_onset_time'] = global_onset_time.getTime()\n",
    "            stim_rt.reset()\n",
    "            while stim_rt.getTime() < stimdur:\n",
    "                stim.draw()\n",
    "                window_.flip()\n",
    "\n",
    "            # response evaluation\n",
    "            trial['responses'] = responses\n",
    "            if responses:\n",
    "                trial['RT'] = responses[0][1]\n",
    "                if trial['trial_type'] == 'normal':\n",
    "                    trial['accuracy'] = 0\n",
    "                elif trial['trial_type'] == 'catch':\n",
    "                    trial['accuracy'] = 1\n",
    "            else:\n",
    "                if trial['trial_type'] == 'normal':\n",
    "                    trial['accuracy'] = 1\n",
    "                elif trial['trial_type'] == 'catch':\n",
    "                    trial['accuracy'] = 0\n",
    "\n",
    "            # show jittered blank\n",
    "            blank_rt.reset()\n",
    "            while blank_rt.getTime() < trial['iti']:\n",
    "                blank.draw()\n",
    "                window_.flip()\n",
    "\n",
    "            # exit loop if escape key was pressed\n",
    "            if responses and escape_key in responses[0]:\n",
    "                escape_bool = True\n",
    "\n",
    "            # tag this trial as presented\n",
    "            trial['ran'] = True\n",
    "\n",
    "    # add additional global info to trial dicts\n",
    "    for blockseq in run_sequence:\n",
    "        for trial in blockseq:\n",
    "            trial['firsttrig_time'] = firsttrig[0][1]\n",
    "\n",
    "    # write csv with output after trial loop has ended\n",
    "    list_of_dictlists_2csv(run_sequence, output_csv)\n",
    "\n",
    "    # end presentation\n",
    "    window_.close()\n",
    "    core.quit()\n",
    "\n",
    "    return None\n",
    "\n",
    "\n",
    "def run_first_session(stimbasedir,\n",
    "                      outcsvdir,\n",
    "                      nruns=4,\n",
    "                      blocksprun=4,\n",
    "                      testing=False,\n",
    "                      mon_name='skyra_projector'):\n",
    "    # create output directory\n",
    "    if not os.path.exists(outcsvdir):\n",
    "        os.makedirs(outcsvdir)\n",
    "\n",
    "    # get stim sequence\n",
    "    perc_dir = pjoin(stimbasedir, 'percepts')\n",
    "    prep_dir = pjoin(stimbasedir, 'preprocessed')\n",
    "    percept_dicts, intact_dicts = getstims_aloiselection(percepts_dir=perc_dir, preprocessed_dir=prep_dir)\n",
    "\n",
    "    # draw gui to get exp_info\n",
    "    if testing:\n",
    "        exp_info = OrderedDict({'Alter': ' 1', 'Geschlecht': 'weiblich', 'Rechtshaendig': True, 'Sitzung': '1',\n",
    "                                'SubjectID': '1', 'date': u'2018_Nov_06_1408', 'exp_name': 'RI_RSA'})\n",
    "    else:\n",
    "        exp_info = draw_gui(exp_name='RI_RSA')\n",
    "\n",
    "    # TODO: instruction windows\n",
    "\n",
    "    for run in range(1, nruns + 1):\n",
    "        # make sequence for one run\n",
    "        run_seq = make_run_seq(percept_dicts, exp_info, blocksperrun=blocksprun)\n",
    "        # create csv file name (full path)\n",
    "        csv_fname = pjoin(outcsvdir,\n",
    "                          'sub%s_session%s_run%i_fmri.csv' % (exp_info['SubjectID'], exp_info['Sitzung'], run))\n",
    "        # present one functional run\n",
    "        present_run(run_seq, output_csv=csv_fname, monitorname=mon_name)\n",
    "\n",
    "    return None\n"
   ]
  },
  {
   "cell_type": "code",
   "execution_count": 103,
   "metadata": {},
   "outputs": [
    {
     "data": {
      "text/plain": [
       "<Figure size 432x288 with 0 Axes>"
      ]
     },
     "metadata": {},
     "output_type": "display_data"
    }
   ],
   "source": [
    "%run ../general.py"
   ]
  },
  {
   "cell_type": "code",
   "execution_count": 104,
   "metadata": {},
   "outputs": [],
   "source": [
    "exp_info = OrderedDict({'Alter': ' 1', 'Geschlecht': 'weiblich', 'Rechtshaendig': True, 'Sitzung': '1',\n",
    "                                'SubjectID': '1', 'date': u'2018_Nov_06_1408', 'exp_name': 'RI_RSA'})"
   ]
  },
  {
   "cell_type": "code",
   "execution_count": 6,
   "metadata": {},
   "outputs": [],
   "source": [
    "stimbasedir = '/Users/Oliver/ri_hmax/experiments/RI_objects_RSA/Stimuli/'"
   ]
  },
  {
   "cell_type": "code",
   "execution_count": 7,
   "metadata": {},
   "outputs": [],
   "source": [
    "perc_dir = pjoin(stimbasedir, 'percepts')\n",
    "prep_dir = pjoin(stimbasedir, 'preprocessed')\n",
    "percept_dicts, intact_dicts = getstims_aloiselection(percepts_dir=perc_dir, preprocessed_dir=prep_dir)"
   ]
  },
  {
   "cell_type": "markdown",
   "metadata": {},
   "source": [
    "# Generate run"
   ]
  },
  {
   "cell_type": "markdown",
   "metadata": {},
   "source": [
    "Which comprises both intact object and ri percept stimuli"
   ]
  },
  {
   "cell_type": "code",
   "execution_count": 32,
   "metadata": {},
   "outputs": [],
   "source": [
    "def simulate_run_bothtypes(percept_dicts, intact_dicts, exp_info,\n",
    "                           minjit=0.8,\n",
    "                           maxjit=1.5,\n",
    "                           avjit=1.0,\n",
    "                           reps_per_run=1,\n",
    "                           catches=20,\n",
    "                           assign_training=True,\n",
    "                           mute_irrelevant_keys=True):\n",
    "    \"\"\"\n",
    "    Design a block containing one full repetition of all stimuli, i.e. intact as well as ri percept images,\n",
    "    in random order, with catch trials, and everything.\n",
    "    \n",
    "    Randomly assign half of both intact and ri stimuli the values 'trained' or 'untrained'\n",
    "    under the key 'training'.\n",
    "    \n",
    "    # TODO: complete docstring\n",
    "    \"\"\"\n",
    "    \n",
    "    # get sequence for intact and ri seperately (without catch trials),\n",
    "    # by using one of my functions\n",
    "    percept_sequence = make_run_seq(percept_dicts, exp_info, blocksperrun=reps_per_run, with_catches=False,\n",
    "                                    miniti=minjit, maxiti=maxjit, aviti=avjit)\n",
    "    percept_sequence = percept_sequence[0]\n",
    "    intact_sequence = make_run_seq(intact_dicts, exp_info, blocksperrun=1, with_catches=False,\n",
    "                                   miniti=minjit, maxiti=maxjit, aviti=avjit)\n",
    "    intact_sequence = intact_sequence[0]\n",
    "    \n",
    "    # assign 'trained' and 'untrained' markers to half of each intact and ri stimuli\n",
    "    if assign_training:\n",
    "        for perc_stim, int_stim in zip(percept_sequence[:len(percept_sequence)/2],\n",
    "                                       intact_sequence[:len(intact_sequence)/2]):\n",
    "            perc_stim['training'] = 'trained'\n",
    "            int_stim['training'] = 'trained'\n",
    "        for perc_stim, int_stim in zip(percept_sequence[len(percept_sequence)/2:],\n",
    "                                       intact_sequence[len(intact_sequence)/2:]):\n",
    "            perc_stim['training'] = 'untrained'\n",
    "            int_stim['training'] = 'untrained'\n",
    "        \n",
    "    # merge\n",
    "    # TODO: here is where I can have constraints on my sequence\n",
    "    # (e.g. not more than 5 stims per condition in a row, or similar)\n",
    "    full_seq = intact_sequence + percept_sequence\n",
    "\n",
    "    # add catches and shuffle\n",
    "    full_seq = add_catches(full_seq, num_catches=catches, shuffle_inlist=True)\n",
    "    \n",
    "    # set a bunch of parameters to None, so as not to confuse this with a real trial sequence!\n",
    "    # TODO: alternatively, delete them\n",
    "    if mute_irrelevant_keys:\n",
    "        nonekeys = ['rotation', 'file_path', 'object_id', 'object_name']\n",
    "        for stim in full_seq:\n",
    "            for nonekey in nonekeys:\n",
    "                stim[nonekey] = None\n",
    "    \n",
    "    return full_seq"
   ]
  },
  {
   "cell_type": "code",
   "execution_count": 33,
   "metadata": {},
   "outputs": [],
   "source": [
    "stim_sequence = simulate_run_bothtypes(percept_dicts, intact_dicts, exp_info)"
   ]
  },
  {
   "cell_type": "code",
   "execution_count": 34,
   "metadata": {},
   "outputs": [
    {
     "data": {
      "text/plain": [
       "276"
      ]
     },
     "execution_count": 34,
     "metadata": {},
     "output_type": "execute_result"
    }
   ],
   "source": [
    "len(stim_sequence)"
   ]
  },
  {
   "cell_type": "markdown",
   "metadata": {},
   "source": [
    "# Extract design matrix"
   ]
  },
  {
   "cell_type": "code",
   "execution_count": 35,
   "metadata": {},
   "outputs": [],
   "source": [
    "def add_ons_dur_inten(stimsequence,\n",
    "                      stimdur=.8,\n",
    "                      fixdur=.2,\n",
    "                      intensity=1):\n",
    "    \"\"\"\n",
    "    Add onset, duration, and intensity to stimulus sequence.\n",
    "    \"\"\"\n",
    "\n",
    "    # onsets\n",
    "    for idx in range(len(stimsequence)):\n",
    "        if idx == 0:\n",
    "            # all onsets are relative to first trial (with onset 0) for purpose of efficiency estimation\n",
    "            stimsequence[idx]['onset'] = 0\n",
    "        else:\n",
    "            stimsequence[idx]['onset'] = stimsequence[idx-1]['onset'] + fixdur + stimdur + stimsequence[idx-1]['iti']\n",
    "\n",
    "    # durations + intensities\n",
    "    for stim in stimsequence:\n",
    "        stim['duration'] = stimdur\n",
    "        stim['intensity'] = intensity\n",
    "        \n",
    "    return stimsequence"
   ]
  },
  {
   "cell_type": "code",
   "execution_count": 36,
   "metadata": {},
   "outputs": [],
   "source": [
    "stim_sequence = add_ons_dur_inten(stim_sequence)"
   ]
  },
  {
   "cell_type": "code",
   "execution_count": 37,
   "metadata": {},
   "outputs": [],
   "source": [
    "def extract_onsets(stim_sequence):\n",
    "    \n",
    "    # initiate list of regressor dicts to save the onsets.\n",
    "    regressors = [\n",
    "        {'regname':'intact_trained', 'onsets':[]},\n",
    "        {'regname':'intact_untrained', 'onsets':[]},\n",
    "        {'regname':'ri_percept_trained', 'onsets':[]},\n",
    "        {'regname':'ri_percept_untrained', 'onsets':[]},\n",
    "        {'regname':'catch', 'onsets':[]}\n",
    "    ]\n",
    "    \n",
    "    # set regressor values by going through the stim sequence\n",
    "    for stim in stim_sequence:\n",
    "        \n",
    "        if stim['trial_type'] == 'catch':\n",
    "            regressors[4]['onsets'].append(stim['onset'])\n",
    "            continue\n",
    "        else:\n",
    "            if stim['vision'] == 'intact' and stim['training'] == 'trained':\n",
    "                regressors[0]['onsets'].append(stim['onset'])\n",
    "            elif stim['vision'] == 'intact' and stim['training'] == 'untrained':\n",
    "                regressors[1]['onsets'].append(stim['onset'])\n",
    "            elif stim['vision'] == 'ri_percept' and stim['training'] == 'trained':\n",
    "                regressors[2]['onsets'].append(stim['onset'])\n",
    "            elif stim['vision'] == 'ri_percept' and stim['training'] == 'untrained':\n",
    "                regressors[3]['onsets'].append(stim['onset'])\n",
    "            else:\n",
    "                raise IOError('could not assess trial with index %i' % stim_sequence.index(stim))\n",
    "\n",
    "    return regressors"
   ]
  },
  {
   "cell_type": "code",
   "execution_count": 38,
   "metadata": {},
   "outputs": [],
   "source": [
    "onset_dicts = extract_onsets(stim_sequence)"
   ]
  },
  {
   "cell_type": "code",
   "execution_count": 39,
   "metadata": {},
   "outputs": [],
   "source": [
    "def construct_design_matrix(onset_dicts):\n",
    "    \"\"\"\n",
    "    # TODO: docstring\n",
    "    \"\"\"\n",
    "    \n",
    "    # convolve onsets with hrf to get regressors\n",
    "    regressors_conv = []\n",
    "    for regressor in onset_dicts:\n",
    "        convolved_ds = simple_hrf_dataset(events=regressor['onsets'], tr=2, tres=1,\n",
    "                                          baseline=0, signal_level=1, noise_level=0)\n",
    "        convolved_reg = convolved_ds.sa['design'].value[:,0]\n",
    "        # pymvpa scales effect sizes to 2. We want them to be 1\n",
    "        convolved_reg_scaled = convolved_reg / 2\n",
    "        regressors_conv.append(convolved_reg_scaled)\n",
    "        \n",
    "    # padd regressors to same length\n",
    "    # determine maximum length\n",
    "    maxlen = 0\n",
    "    for regressor in regressors_conv:\n",
    "        if len(regressor) >= maxlen:\n",
    "            maxlen = len(regressor)\n",
    "\n",
    "    # pad shorter regressors accordingly\n",
    "    for regressor in regressors_conv:\n",
    "        if len(regressor) < maxlen:\n",
    "            regressors_conv[regressors_conv.index(regressor)] = np.pad(regressor, (0, maxlen-len(regressor)), 'edge')\n",
    "            \n",
    "    # construct intercept vector and add to first position\n",
    "    intercept = np.ones(len(regressors_conv[0]))\n",
    "    design_matrix = np.vstack((intercept, regressors_conv))\n",
    "\n",
    "    # get dimensions right (rows should be samples, columns should be regressors)\n",
    "    design_matrix = design_matrix.transpose()\n",
    "\n",
    "    return design_matrix"
   ]
  },
  {
   "cell_type": "code",
   "execution_count": 40,
   "metadata": {},
   "outputs": [
    {
     "name": "stderr",
     "output_type": "stream",
     "text": [
      "/Users/Oliver/anaconda2/envs/run_hmax/lib/python2.7/site-packages/ipykernel_launcher.py:26: DeprecationWarning: elementwise == comparison failed; this will raise an error in the future.\n"
     ]
    }
   ],
   "source": [
    "design_matrix = construct_design_matrix(onset_dicts)"
   ]
  },
  {
   "cell_type": "code",
   "execution_count": 41,
   "metadata": {},
   "outputs": [
    {
     "data": {
      "text/plain": [
       "(281, 6)"
      ]
     },
     "execution_count": 41,
     "metadata": {},
     "output_type": "execute_result"
    }
   ],
   "source": [
    "np.shape(design_matrix)"
   ]
  },
  {
   "cell_type": "code",
   "execution_count": 42,
   "metadata": {},
   "outputs": [
    {
     "data": {
      "text/plain": [
       "<matplotlib.axes._subplots.AxesSubplot at 0x1c1a378450>"
      ]
     },
     "execution_count": 42,
     "metadata": {},
     "output_type": "execute_result"
    },
    {
     "data": {
      "image/png": "[encoded data removed]",
      "text/plain": [
       "<Figure size 360x720 with 2 Axes>"
      ]
     },
     "metadata": {},
     "output_type": "display_data"
    }
   ],
   "source": [
    "fig, ax = plt.subplots(figsize=(5,10))\n",
    "sns.heatmap(design_matrix,\n",
    "            xticklabels= ['intercept'] + [i['regname'] for i in onset_dicts])"
   ]
  },
  {
   "cell_type": "markdown",
   "metadata": {},
   "source": [
    "# Calculate efficiency"
   ]
  },
  {
   "cell_type": "markdown",
   "metadata": {},
   "source": [
    "Notes on matrix algebra in numpy\n",
    "\n",
    "- design_matrix.T is equivalent to np.transpose(design_matrix)\n",
    "- use np.dot() for multiplication of TWO matrices.\n",
    "- for multiplication of more than two matrices, use dot several times\n",
    "- or use matrix.dot() method, e.g. matrix1.dot(matrix2).dot(matrix3)\n",
    "- use np.linalg.inv() for matrix inverse"
   ]
  },
  {
   "cell_type": "code",
   "execution_count": 43,
   "metadata": {},
   "outputs": [],
   "source": [
    "# construct constrast matrix\n",
    "\n",
    "# intact > ri_percept\n",
    "cvec1 = np.array([0,1,1,-1,-1,0])\n",
    "# intact < ri_percept\n",
    "cvec2 = np.array([0,-1,-1,1,1,0])\n",
    "# ri_trained > ri_untrained\n",
    "cvec3 = np.array([0,0,0,1,-1,0])\n",
    "# ri_trained < ri_untrained\n",
    "cvec4 = np.array([0,0,0,-1,1,0])\n",
    "\n",
    "# stack arrays into contrast matrix\n",
    "cmat = np.vstack((cvec1, cvec2, cvec3, cvec4))"
   ]
  },
  {
   "cell_type": "code",
   "execution_count": 44,
   "metadata": {},
   "outputs": [
    {
     "data": {
      "text/plain": [
       "array([[ 0,  1,  1, -1, -1,  0],\n",
       "       [ 0, -1, -1,  1,  1,  0],\n",
       "       [ 0,  0,  0,  1, -1,  0],\n",
       "       [ 0,  0,  0, -1,  1,  0]])"
      ]
     },
     "execution_count": 44,
     "metadata": {},
     "output_type": "execute_result"
    }
   ],
   "source": [
    "cmat"
   ]
  },
  {
   "cell_type": "code",
   "execution_count": 45,
   "metadata": {},
   "outputs": [],
   "source": [
    "def efficiency(design_matrix, contrast_matrix):\n",
    "    \"\"\"\n",
    "    TODO: make this flexible for single contrast vectors as well\n",
    "    \"\"\"\n",
    "    eff = 1 / np.trace(\n",
    "        contrast_matrix.dot(np.linalg.inv(design_matrix.T.dot(design_matrix))).dot(contrast_matrix.T))\n",
    "    return eff"
   ]
  },
  {
   "cell_type": "code",
   "execution_count": 46,
   "metadata": {},
   "outputs": [
    {
     "data": {
      "text/plain": [
       "1.847792031507661"
      ]
     },
     "execution_count": 46,
     "metadata": {},
     "output_type": "execute_result"
    }
   ],
   "source": [
    "efficiency(design_matrix, cmat)"
   ]
  },
  {
   "cell_type": "markdown",
   "metadata": {},
   "source": [
    "# Variance inflation factor"
   ]
  },
  {
   "cell_type": "markdown",
   "metadata": {},
   "source": [
    "VIF is a measure for multicolinearity in the design matrix. It is independent of the specified contrasts. VIF values should be < 5.\n",
    "\n",
    "Computed by ...\n",
    "\n",
    "- omiting intercept from design matrix\n",
    "- computing correlation matrix between regressors\n",
    "- take inverse\n",
    "- extract diagonal"
   ]
  },
  {
   "cell_type": "code",
   "execution_count": 47,
   "metadata": {},
   "outputs": [],
   "source": [
    "def compute_vif(design_matrix):\n",
    "    \"\"\"\n",
    "    TODO: docstring\n",
    "    \"\"\"\n",
    "    # omit intercept\n",
    "    design_matrix_omitted = design_matrix[:,1:]\n",
    "    # calculate vif\n",
    "    vif = np.diagonal(np.linalg.inv(np.corrcoef(design_matrix_omitted, rowvar=False)))\n",
    "    return vif"
   ]
  },
  {
   "cell_type": "code",
   "execution_count": 48,
   "metadata": {},
   "outputs": [
    {
     "name": "stdout",
     "output_type": "stream",
     "text": [
      "[2.7083631  2.43325475 2.6138656  2.37733671 1.48135731]\n"
     ]
    }
   ],
   "source": [
    "vif = compute_vif(design_matrix)\n",
    "print(vif)"
   ]
  },
  {
   "cell_type": "markdown",
   "metadata": {},
   "source": [
    "# Iterate over some simulated runs"
   ]
  },
  {
   "cell_type": "markdown",
   "metadata": {},
   "source": [
    "simulating 100 designs took me about 10 seconds in this notebook"
   ]
  },
  {
   "cell_type": "code",
   "execution_count": 90,
   "metadata": {},
   "outputs": [],
   "source": [
    "def iterate_over_designs(niters=100, maxiti=1.5, miniti=0.8, aviti=1.0):\n",
    "\n",
    "    effs, vifs = [], []\n",
    "\n",
    "    for i in range(niters):\n",
    "        stim_seq = simulate_run_bothtypes(percept_dicts, intact_dicts, exp_info,\n",
    "                                          maxjit=maxiti, minjit=miniti, avjit=aviti)\n",
    "        stim_seq = add_ons_dur_inten(stim_seq)\n",
    "        onsetdicts = extract_onsets(stim_seq)\n",
    "        designmatrix = construct_design_matrix(onsetdicts)\n",
    "        effs.append(efficiency(contrast_matrix=cmat, design_matrix=designmatrix))\n",
    "        vifs.append(compute_vif(designmatrix))\n",
    "        \n",
    "    return effs, vifs"
   ]
  },
  {
   "cell_type": "code",
   "execution_count": 56,
   "metadata": {},
   "outputs": [
    {
     "name": "stderr",
     "output_type": "stream",
     "text": [
      "/Users/Oliver/anaconda2/envs/run_hmax/lib/python2.7/site-packages/ipykernel_launcher.py:26: DeprecationWarning: elementwise == comparison failed; this will raise an error in the future.\n"
     ]
    }
   ],
   "source": [
    "effs, vifs = iterate_over_designs()"
   ]
  },
  {
   "cell_type": "code",
   "execution_count": 60,
   "metadata": {},
   "outputs": [
    {
     "data": {
      "text/plain": [
       "<matplotlib.axes._subplots.AxesSubplot at 0x1c1a1d8d10>"
      ]
     },
     "execution_count": 60,
     "metadata": {},
     "output_type": "execute_result"
    },
    {
     "data": {
      "image/png": "[encoded data removed]",
      "text/plain": [
       "<Figure size 432x288 with 1 Axes>"
      ]
     },
     "metadata": {},
     "output_type": "display_data"
    }
   ],
   "source": [
    "sns.distplot(effs, rug=True, axlabel='efficiency')"
   ]
  },
  {
   "cell_type": "markdown",
   "metadata": {},
   "source": [
    "## Vary max iti"
   ]
  },
  {
   "cell_type": "markdown",
   "metadata": {},
   "source": [
    "The code below may take a while to run."
   ]
  },
  {
   "cell_type": "code",
   "execution_count": 92,
   "metadata": {},
   "outputs": [
    {
     "name": "stderr",
     "output_type": "stream",
     "text": [
      "/Users/Oliver/anaconda2/envs/run_hmax/lib/python2.7/site-packages/ipykernel_launcher.py:26: DeprecationWarning: elementwise == comparison failed; this will raise an error in the future.\n"
     ]
    }
   ],
   "source": [
    "iti_effs_max = []\n",
    "\n",
    "for itimax in [1.5, 2.0, 3.0]:\n",
    "    effs, vifs = iterate_over_designs(maxiti=itimax, niters=1000)\n",
    "    iti_effs_max.append(effs)"
   ]
  },
  {
   "cell_type": "code",
   "execution_count": 93,
   "metadata": {},
   "outputs": [
    {
     "data": {
      "image/png": "[encoded data removed]",
      "text/plain": [
       "<Figure size 432x288 with 1 Axes>"
      ]
     },
     "metadata": {},
     "output_type": "display_data"
    }
   ],
   "source": [
    "for itieff in iti_effs_max:\n",
    "    sns.distplot(itieff, rug=True)\n",
    "    plt.legend(['max_iti=1.5', 'max_iti=2.0', 'max_iti=3.0'])"
   ]
  },
  {
   "cell_type": "code",
   "execution_count": 94,
   "metadata": {},
   "outputs": [
    {
     "name": "stdout",
     "output_type": "stream",
     "text": [
      "2.4744942296444026\n",
      "2.532043958562904\n",
      "2.44063460496754\n"
     ]
    }
   ],
   "source": [
    "for i in iti_effs_max:\n",
    "    print(np.max(i))"
   ]
  },
  {
   "cell_type": "markdown",
   "metadata": {},
   "source": [
    "## Vary mean iti"
   ]
  },
  {
   "cell_type": "code",
   "execution_count": 95,
   "metadata": {},
   "outputs": [
    {
     "name": "stderr",
     "output_type": "stream",
     "text": [
      "/Users/Oliver/anaconda2/envs/run_hmax/lib/python2.7/site-packages/ipykernel_launcher.py:26: DeprecationWarning: elementwise == comparison failed; this will raise an error in the future.\n"
     ]
    }
   ],
   "source": [
    "iti_effs_mean = []\n",
    "\n",
    "for itimean in [1.0, 1.5, 2.0]:\n",
    "    effs, vifs = iterate_over_designs(maxiti=itimax, niters=1000)\n",
    "    iti_effs_mean.append(effs)"
   ]
  },
  {
   "cell_type": "code",
   "execution_count": 96,
   "metadata": {},
   "outputs": [
    {
     "data": {
      "image/png": "[encoded data removed]",
      "text/plain": [
       "<Figure size 432x288 with 1 Axes>"
      ]
     },
     "metadata": {},
     "output_type": "display_data"
    }
   ],
   "source": [
    "for itieff in iti_effs_mean:\n",
    "    sns.distplot(itieff, rug=True)\n",
    "    plt.legend(['mean_iti=1.5', 'mean_iti=2.0', 'mean_iti=3.0'])"
   ]
  },
  {
   "cell_type": "code",
   "execution_count": 97,
   "metadata": {},
   "outputs": [
    {
     "name": "stdout",
     "output_type": "stream",
     "text": [
      "2.65713083030746\n",
      "2.5631879606292394\n",
      "2.4442656753437735\n"
     ]
    }
   ],
   "source": [
    "for i in iti_effs_mean:\n",
    "    print(np.max(i))"
   ]
  }
 ],
 "metadata": {
  "kernelspec": {
   "display_name": "Python 2",
   "language": "python",
   "name": "python2"
  },
  "language_info": {
   "codemirror_mode": {
    "name": "ipython",
    "version": 2
   },
   "file_extension": ".py",
   "mimetype": "text/x-python",
   "name": "python",
   "nbconvert_exporter": "python",
   "pygments_lexer": "ipython2",
   "version": "2.7.15"
  }
 },
 "nbformat": 4,
 "nbformat_minor": 2
}
