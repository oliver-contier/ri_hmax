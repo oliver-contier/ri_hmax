{
 "cells": [
  {
   "cell_type": "code",
   "execution_count": 1,
   "metadata": {},
   "outputs": [],
   "source": [
    "import numpy as np\n",
    "from numpy.random import exponential\n",
    "import seaborn as sns"
   ]
  },
  {
   "cell_type": "code",
   "execution_count": 2,
   "metadata": {},
   "outputs": [],
   "source": [
    "%matplotlib inline"
   ]
  },
  {
   "cell_type": "markdown",
   "metadata": {},
   "source": [
    "# shifted and truncated exponential distribution"
   ]
  },
  {
   "cell_type": "code",
   "execution_count": 5,
   "metadata": {},
   "outputs": [],
   "source": [
    "def jitter_truncexpon(miniti=800.,\n",
    "                      maxiti=1500.,\n",
    "                      aviti=1000.,\n",
    "                      ntrials=141):\n",
    "    \"\"\"\n",
    "    Sample ITIs from truncated exponential distribution.\n",
    "    \"\"\"\n",
    "    distmax = maxiti+1\n",
    "    while distmax > maxiti:\n",
    "        l = aviti-miniti\n",
    "        unshifted = exponential(scale=l, size=ntrials)\n",
    "        itis = unshifted+miniti\n",
    "        distmax = np.max(itis)\n",
    "    return itis"
   ]
  },
  {
   "cell_type": "code",
   "execution_count": 6,
   "metadata": {},
   "outputs": [
    {
     "name": "stdout",
     "output_type": "stream",
     "text": [
      "801.2491032084945\n",
      "988.5804661993975\n",
      "1483.0637265741834\n"
     ]
    }
   ],
   "source": [
    "itis = jitter_truncexpon()\n",
    "\n",
    "print(np.min(itis))\n",
    "print(np.mean(itis))\n",
    "print(np.max(itis))"
   ]
  },
  {
   "cell_type": "code",
   "execution_count": 11,
   "metadata": {},
   "outputs": [
    {
     "data": {
      "text/plain": [
       "<matplotlib.axes._subplots.AxesSubplot at 0x1a17e5fdd0>"
      ]
     },
     "execution_count": 11,
     "metadata": {},
     "output_type": "execute_result"
    },
    {
     "data": {
      "image/png": "[encoded data removed]",
      "text/plain": [
       "<Figure size 432x288 with 1 Axes>"
      ]
     },
     "metadata": {},
     "output_type": "display_data"
    }
   ],
   "source": [
    "sns.distplot(itis, kde=False, bins=20)"
   ]
  },
  {
   "cell_type": "code",
   "execution_count": null,
   "metadata": {},
   "outputs": [],
   "source": []
  }
 ],
 "metadata": {
  "kernelspec": {
   "display_name": "Python 2",
   "language": "python",
   "name": "python2"
  },
  "language_info": {
   "codemirror_mode": {
    "name": "ipython",
    "version": 2
   },
   "file_extension": ".py",
   "mimetype": "text/x-python",
   "name": "python",
   "nbconvert_exporter": "python",
   "pygments_lexer": "ipython2",
   "version": "2.7.15"
  }
 },
 "nbformat": 4,
 "nbformat_minor": 2
}
