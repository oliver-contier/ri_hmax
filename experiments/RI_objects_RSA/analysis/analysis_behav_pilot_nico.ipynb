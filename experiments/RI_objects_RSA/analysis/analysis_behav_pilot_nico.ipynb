{
 "cells": [
  {
   "cell_type": "markdown",
   "metadata": {},
   "source": [
    "We're going to plot the descriptive statistics of the first pilot subject's performance in terms of changes in accuracy and reaction times across the behavioral session."
   ]
  },
  {
   "cell_type": "code",
   "execution_count": 1,
   "metadata": {},
   "outputs": [
    {
     "name": "stdout",
     "output_type": "stream",
     "text": [
      "\u001b[31msubp1_behav.csv\u001b[m\u001b[m \u001b[31msubp2_behav.csv\u001b[m\u001b[m\r\n"
     ]
    }
   ],
   "source": [
    "!ls ../behav_data"
   ]
  },
  {
   "cell_type": "code",
   "execution_count": 35,
   "metadata": {},
   "outputs": [],
   "source": [
    "import pandas as pd\n",
    "import numpy as np\n",
    "import seaborn as sns\n",
    "import matplotlib.pyplot as plt\n",
    "% matplotlib inline"
   ]
  },
  {
   "cell_type": "code",
   "execution_count": 80,
   "metadata": {},
   "outputs": [],
   "source": [
    "sns.set_style('whitegrid')"
   ]
  },
  {
   "cell_type": "code",
   "execution_count": 20,
   "metadata": {},
   "outputs": [
    {
     "data": {
      "text/html": [
       "<div>\n",
       "<style scoped>\n",
       "    .dataframe tbody tr th:only-of-type {\n",
       "        vertical-align: middle;\n",
       "    }\n",
       "\n",
       "    .dataframe tbody tr th {\n",
       "        vertical-align: top;\n",
       "    }\n",
       "\n",
       "    .dataframe thead th {\n",
       "        text-align: right;\n",
       "    }\n",
       "</style>\n",
       "<table border=\"1\" class=\"dataframe\">\n",
       "  <thead>\n",
       "    <tr style=\"text-align: right;\">\n",
       "      <th></th>\n",
       "      <th>vision</th>\n",
       "      <th>rotation</th>\n",
       "      <th>file_path</th>\n",
       "      <th>object_id</th>\n",
       "      <th>object_name</th>\n",
       "      <th>set</th>\n",
       "      <th>Geschlecht</th>\n",
       "      <th>SubjectID</th>\n",
       "      <th>Alter</th>\n",
       "      <th>Rechtshaendig</th>\n",
       "      <th>...</th>\n",
       "      <th>target_pos</th>\n",
       "      <th>distr_pos</th>\n",
       "      <th>distractors</th>\n",
       "      <th>rt</th>\n",
       "      <th>accuracy</th>\n",
       "      <th>clicked_distractor</th>\n",
       "      <th>mouse_pressed</th>\n",
       "      <th>keys</th>\n",
       "      <th>ran</th>\n",
       "      <th>block</th>\n",
       "    </tr>\n",
       "  </thead>\n",
       "  <tbody>\n",
       "    <tr>\n",
       "      <th>0</th>\n",
       "      <td>ri_percept</td>\n",
       "      <td>45</td>\n",
       "      <td>./Stimuli/percepts/405_r45_ri_percept.png</td>\n",
       "      <td>405</td>\n",
       "      <td>Locher</td>\n",
       "      <td>training</td>\n",
       "      <td>maennlich</td>\n",
       "      <td>p2</td>\n",
       "      <td>30</td>\n",
       "      <td>True</td>\n",
       "      <td>...</td>\n",
       "      <td>[-15, -12]</td>\n",
       "      <td>[[-15, -8], [0.0, -8.0], [15, -8], [0, -12], [...</td>\n",
       "      <td>['Kanne', 'Gluehbirne', 'Schuh', 'Hut', 'Ente'...</td>\n",
       "      <td>3.600686</td>\n",
       "      <td>0</td>\n",
       "      <td>Kanne</td>\n",
       "      <td>True</td>\n",
       "      <td>[]</td>\n",
       "      <td>True</td>\n",
       "      <td>1</td>\n",
       "    </tr>\n",
       "    <tr>\n",
       "      <th>1</th>\n",
       "      <td>ri_percept</td>\n",
       "      <td>225</td>\n",
       "      <td>./Stimuli/percepts/40_r225_ri_percept.png</td>\n",
       "      <td>40</td>\n",
       "      <td>Gluehbirne</td>\n",
       "      <td>training</td>\n",
       "      <td>maennlich</td>\n",
       "      <td>p2</td>\n",
       "      <td>30</td>\n",
       "      <td>True</td>\n",
       "      <td>...</td>\n",
       "      <td>[0, -12]</td>\n",
       "      <td>[[-15, -8], [0.0, -8.0], [15, -8], [-15, -12],...</td>\n",
       "      <td>['Kanne', 'Tasse', 'Locher', 'Wuerfel', 'Hut',...</td>\n",
       "      <td>3.851117</td>\n",
       "      <td>0</td>\n",
       "      <td>Hut</td>\n",
       "      <td>True</td>\n",
       "      <td>[]</td>\n",
       "      <td>True</td>\n",
       "      <td>1</td>\n",
       "    </tr>\n",
       "    <tr>\n",
       "      <th>2</th>\n",
       "      <td>ri_percept</td>\n",
       "      <td>90</td>\n",
       "      <td>./Stimuli/percepts/161_r90_ri_percept.png</td>\n",
       "      <td>161</td>\n",
       "      <td>Kanne</td>\n",
       "      <td>training</td>\n",
       "      <td>maennlich</td>\n",
       "      <td>p2</td>\n",
       "      <td>30</td>\n",
       "      <td>True</td>\n",
       "      <td>...</td>\n",
       "      <td>[-15, -8]</td>\n",
       "      <td>[[0.0, -8.0], [15, -8], [-15, -12], [0, -12], ...</td>\n",
       "      <td>['Tasse', 'Locher', 'Gluehbirne', 'Hut', 'Wuer...</td>\n",
       "      <td>3.201169</td>\n",
       "      <td>0</td>\n",
       "      <td>Hut</td>\n",
       "      <td>True</td>\n",
       "      <td>[]</td>\n",
       "      <td>True</td>\n",
       "      <td>1</td>\n",
       "    </tr>\n",
       "    <tr>\n",
       "      <th>3</th>\n",
       "      <td>ri_percept</td>\n",
       "      <td>270</td>\n",
       "      <td>./Stimuli/percepts/40_r270_ri_percept.png</td>\n",
       "      <td>40</td>\n",
       "      <td>Gluehbirne</td>\n",
       "      <td>training</td>\n",
       "      <td>maennlich</td>\n",
       "      <td>p2</td>\n",
       "      <td>30</td>\n",
       "      <td>True</td>\n",
       "      <td>...</td>\n",
       "      <td>[-15, -8]</td>\n",
       "      <td>[[0.0, -8.0], [15, -8], [-15, -12], [0, -12], ...</td>\n",
       "      <td>['Hut', 'Schuh', 'Locher', 'Kanne', 'Tasse', '...</td>\n",
       "      <td>3.333767</td>\n",
       "      <td>1</td>\n",
       "      <td>NaN</td>\n",
       "      <td>True</td>\n",
       "      <td>[]</td>\n",
       "      <td>True</td>\n",
       "      <td>1</td>\n",
       "    </tr>\n",
       "    <tr>\n",
       "      <th>4</th>\n",
       "      <td>ri_percept</td>\n",
       "      <td>315</td>\n",
       "      <td>./Stimuli/percepts/9_r315_ri_percept.png</td>\n",
       "      <td>9</td>\n",
       "      <td>Schuh</td>\n",
       "      <td>training</td>\n",
       "      <td>maennlich</td>\n",
       "      <td>p2</td>\n",
       "      <td>30</td>\n",
       "      <td>True</td>\n",
       "      <td>...</td>\n",
       "      <td>[-15, -8]</td>\n",
       "      <td>[[0.0, -8.0], [15, -8], [-15, -12], [0, -12], ...</td>\n",
       "      <td>['Tasse', 'Locher', 'Ente', 'Wuerfel', 'Hut', ...</td>\n",
       "      <td>NaN</td>\n",
       "      <td>0</td>\n",
       "      <td>NaN</td>\n",
       "      <td>NaN</td>\n",
       "      <td>[]</td>\n",
       "      <td>True</td>\n",
       "      <td>1</td>\n",
       "    </tr>\n",
       "  </tbody>\n",
       "</table>\n",
       "<p>5 rows × 22 columns</p>\n",
       "</div>"
      ],
      "text/plain": [
       "       vision  rotation                                  file_path  object_id  \\\n",
       "0  ri_percept        45  ./Stimuli/percepts/405_r45_ri_percept.png        405   \n",
       "1  ri_percept       225  ./Stimuli/percepts/40_r225_ri_percept.png         40   \n",
       "2  ri_percept        90  ./Stimuli/percepts/161_r90_ri_percept.png        161   \n",
       "3  ri_percept       270  ./Stimuli/percepts/40_r270_ri_percept.png         40   \n",
       "4  ri_percept       315   ./Stimuli/percepts/9_r315_ri_percept.png          9   \n",
       "\n",
       "  object_name       set Geschlecht SubjectID  Alter  Rechtshaendig  ...   \\\n",
       "0      Locher  training  maennlich        p2     30           True  ...    \n",
       "1  Gluehbirne  training  maennlich        p2     30           True  ...    \n",
       "2       Kanne  training  maennlich        p2     30           True  ...    \n",
       "3  Gluehbirne  training  maennlich        p2     30           True  ...    \n",
       "4       Schuh  training  maennlich        p2     30           True  ...    \n",
       "\n",
       "   target_pos                                          distr_pos  \\\n",
       "0  [-15, -12]  [[-15, -8], [0.0, -8.0], [15, -8], [0, -12], [...   \n",
       "1    [0, -12]  [[-15, -8], [0.0, -8.0], [15, -8], [-15, -12],...   \n",
       "2   [-15, -8]  [[0.0, -8.0], [15, -8], [-15, -12], [0, -12], ...   \n",
       "3   [-15, -8]  [[0.0, -8.0], [15, -8], [-15, -12], [0, -12], ...   \n",
       "4   [-15, -8]  [[0.0, -8.0], [15, -8], [-15, -12], [0, -12], ...   \n",
       "\n",
       "                                         distractors        rt accuracy  \\\n",
       "0  ['Kanne', 'Gluehbirne', 'Schuh', 'Hut', 'Ente'...  3.600686        0   \n",
       "1  ['Kanne', 'Tasse', 'Locher', 'Wuerfel', 'Hut',...  3.851117        0   \n",
       "2  ['Tasse', 'Locher', 'Gluehbirne', 'Hut', 'Wuer...  3.201169        0   \n",
       "3  ['Hut', 'Schuh', 'Locher', 'Kanne', 'Tasse', '...  3.333767        1   \n",
       "4  ['Tasse', 'Locher', 'Ente', 'Wuerfel', 'Hut', ...       NaN        0   \n",
       "\n",
       "   clicked_distractor  mouse_pressed keys   ran block  \n",
       "0               Kanne           True   []  True     1  \n",
       "1                 Hut           True   []  True     1  \n",
       "2                 Hut           True   []  True     1  \n",
       "3                 NaN           True   []  True     1  \n",
       "4                 NaN            NaN   []  True     1  \n",
       "\n",
       "[5 rows x 22 columns]"
      ]
     },
     "execution_count": 20,
     "metadata": {},
     "output_type": "execute_result"
    }
   ],
   "source": [
    "# load behav data into pandas\n",
    "subp2_behav = pd.read_csv('../behav_data/subp2_behav.csv')\n",
    "subp2_behav.head()"
   ]
  },
  {
   "cell_type": "code",
   "execution_count": 25,
   "metadata": {},
   "outputs": [],
   "source": [
    "# check we actually have all the trials\n",
    "for bl in range(1,7):\n",
    "    assert(len(subp2_behav[subp2_behav.block == bl])) == 64\n",
    "    \n",
    "# and that all of them ran\n",
    "assert np.unique(subp2_behav.ran) == True"
   ]
  },
  {
   "cell_type": "code",
   "execution_count": 176,
   "metadata": {},
   "outputs": [
    {
     "data": {
      "image/png": "[encoded data removed]",
      "text/plain": [
       "<Figure size 720x360 with 1 Axes>"
      ]
     },
     "metadata": {},
     "output_type": "display_data"
    }
   ],
   "source": [
    "# reaction times by block\n",
    "fig, ax = plt.subplots(figsize=(10,5))\n",
    "sns.boxplot(x=\"block\", y=\"rt\", data=subp2_behav, palette='viridis')\n",
    "plt.title('Reaction times by block')\n",
    "plt.show()"
   ]
  },
  {
   "cell_type": "code",
   "execution_count": 175,
   "metadata": {},
   "outputs": [
    {
     "data": {
      "text/plain": [
       "Text(0.5,1,'Accuracies by block')"
      ]
     },
     "execution_count": 175,
     "metadata": {},
     "output_type": "execute_result"
    },
    {
     "data": {
      "image/png": "[encoded data removed]",
      "text/plain": [
       "<Figure size 720x360 with 1 Axes>"
      ]
     },
     "metadata": {},
     "output_type": "display_data"
    }
   ],
   "source": [
    "# plot percent correct per block\n",
    "\n",
    "fig, ax=plt.subplots(figsize=(10,5))\n",
    "sns.barplot(x=\"block\", y=\"accuracy\", data=subp2_behav, ax=ax, ci=None, palette='viridis')\n",
    "ax.set(ylabel=\"Mean accuracy\")\n",
    "plt.title('Accuracies by block')"
   ]
  }
 ],
 "metadata": {
  "kernelspec": {
   "display_name": "Python 2",
   "language": "python",
   "name": "python2"
  },
  "language_info": {
   "codemirror_mode": {
    "name": "ipython",
    "version": 2
   },
   "file_extension": ".py",
   "mimetype": "text/x-python",
   "name": "python",
   "nbconvert_exporter": "python",
   "pygments_lexer": "ipython2",
   "version": "2.7.15"
  }
 },
 "nbformat": 4,
 "nbformat_minor": 2
}
