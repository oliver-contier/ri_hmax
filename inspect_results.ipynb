{
 "cells": [
  {
   "cell_type": "code",
   "execution_count": 1,
   "metadata": {
    "collapsed": true
   },
   "outputs": [],
   "source": [
    "import os\n",
    "import glob\n",
    "from os.path import join as pjoin\n",
    "import glob\n",
    "import pandas as pd\n",
    "import numpy as np\n",
    "from numpy.linalg import norm as lnorm\n",
    "import seaborn as sns\n",
    "import matplotlib.pyplot as plt\n",
    "\n",
    "% matplotlib inline"
   ]
  },
  {
   "cell_type": "code",
   "execution_count": 2,
   "metadata": {},
   "outputs": [],
   "source": [
    "sns.set_context('talk')"
   ]
  },
  {
   "cell_type": "markdown",
   "metadata": {},
   "source": [
    "# Lihui's behavioral data"
   ]
  },
  {
   "cell_type": "code",
   "execution_count": 3,
   "metadata": {
    "collapsed": true
   },
   "outputs": [],
   "source": [
    "datadir = '/Users/Oliver/Desktop/Lihui_Data/RI/Exp2'"
   ]
  },
  {
   "cell_type": "code",
   "execution_count": 4,
   "metadata": {
    "scrolled": true
   },
   "outputs": [
    {
     "data": {
      "text/html": [
       "<div>\n",
       "<style scoped>\n",
       "    .dataframe tbody tr th:only-of-type {\n",
       "        vertical-align: middle;\n",
       "    }\n",
       "\n",
       "    .dataframe tbody tr th {\n",
       "        vertical-align: top;\n",
       "    }\n",
       "\n",
       "    .dataframe thead th {\n",
       "        text-align: right;\n",
       "    }\n",
       "</style>\n",
       "<table border=\"1\" class=\"dataframe\">\n",
       "  <thead>\n",
       "    <tr style=\"text-align: right;\">\n",
       "      <th></th>\n",
       "      <th>Img</th>\n",
       "      <th>ImgName</th>\n",
       "      <th>AlterNames</th>\n",
       "      <th>Answer</th>\n",
       "      <th>Choice</th>\n",
       "      <th>RT</th>\n",
       "      <th>MousePos</th>\n",
       "      <th>Block</th>\n",
       "      <th>Trlnum</th>\n",
       "    </tr>\n",
       "  </thead>\n",
       "  <tbody>\n",
       "    <tr>\n",
       "      <th>0</th>\n",
       "      <td>stim_set/Loeffel.6_v2_percept.png</td>\n",
       "      <td>Löffel</td>\n",
       "      <td>[Schere, Zahnpasta, Glas]</td>\n",
       "      <td>0</td>\n",
       "      <td>3</td>\n",
       "      <td>2.481411</td>\n",
       "      <td>[-0.4635416666666667, -0.2111111111111111]</td>\n",
       "      <td>0</td>\n",
       "      <td>0</td>\n",
       "    </tr>\n",
       "    <tr>\n",
       "      <th>1</th>\n",
       "      <td>stim_set/Glas.3_v2_percept.png</td>\n",
       "      <td>Glas</td>\n",
       "      <td>[Schere, Tasse, Flasche]</td>\n",
       "      <td>0</td>\n",
       "      <td>99</td>\n",
       "      <td>0.000000</td>\n",
       "      <td>[-0.39375, -0.24444444444444444]</td>\n",
       "      <td>0</td>\n",
       "      <td>1</td>\n",
       "    </tr>\n",
       "    <tr>\n",
       "      <th>2</th>\n",
       "      <td>stim_set/Flasche.2_v2_percept.png</td>\n",
       "      <td>Flasche</td>\n",
       "      <td>[Tasse, Banane, Schere]</td>\n",
       "      <td>0</td>\n",
       "      <td>99</td>\n",
       "      <td>0.000000</td>\n",
       "      <td>[-0.5552083333333333, -0.23148148148148148]</td>\n",
       "      <td>0</td>\n",
       "      <td>2</td>\n",
       "    </tr>\n",
       "    <tr>\n",
       "      <th>3</th>\n",
       "      <td>stim_set/Flasche.3_v2_percept.png</td>\n",
       "      <td>Flasche</td>\n",
       "      <td>[Glas, Schere, Apfel]</td>\n",
       "      <td>0</td>\n",
       "      <td>3</td>\n",
       "      <td>2.212549</td>\n",
       "      <td>[0.5010416666666667, -0.22037037037037038]</td>\n",
       "      <td>0</td>\n",
       "      <td>3</td>\n",
       "    </tr>\n",
       "    <tr>\n",
       "      <th>4</th>\n",
       "      <td>stim_set/Schere.2_v2_percept.png</td>\n",
       "      <td>Schere</td>\n",
       "      <td>[Zahnpasta, Flasche, Glas]</td>\n",
       "      <td>0</td>\n",
       "      <td>3</td>\n",
       "      <td>2.833762</td>\n",
       "      <td>[-0.22291666666666668, -0.22407407407407406]</td>\n",
       "      <td>0</td>\n",
       "      <td>4</td>\n",
       "    </tr>\n",
       "  </tbody>\n",
       "</table>\n",
       "</div>"
      ],
      "text/plain": [
       "                                 Img  ImgName                  AlterNames  \\\n",
       "0  stim_set/Loeffel.6_v2_percept.png   Löffel   [Schere, Zahnpasta, Glas]   \n",
       "1     stim_set/Glas.3_v2_percept.png     Glas    [Schere, Tasse, Flasche]   \n",
       "2  stim_set/Flasche.2_v2_percept.png  Flasche     [Tasse, Banane, Schere]   \n",
       "3  stim_set/Flasche.3_v2_percept.png  Flasche       [Glas, Schere, Apfel]   \n",
       "4   stim_set/Schere.2_v2_percept.png   Schere  [Zahnpasta, Flasche, Glas]   \n",
       "\n",
       "   Answer  Choice        RT                                      MousePos  \\\n",
       "0       0       3  2.481411    [-0.4635416666666667, -0.2111111111111111]   \n",
       "1       0      99  0.000000              [-0.39375, -0.24444444444444444]   \n",
       "2       0      99  0.000000   [-0.5552083333333333, -0.23148148148148148]   \n",
       "3       0       3  2.212549    [0.5010416666666667, -0.22037037037037038]   \n",
       "4       0       3  2.833762  [-0.22291666666666668, -0.22407407407407406]   \n",
       "\n",
       "   Block  Trlnum  \n",
       "0      0       0  \n",
       "1      0       1  \n",
       "2      0       2  \n",
       "3      0       3  \n",
       "4      0       4  "
      ]
     },
     "execution_count": 4,
     "metadata": {},
     "output_type": "execute_result"
    }
   ],
   "source": [
    "test_data = pd.read_hdf(pjoin(datadir, 'sub-001_ver1_sess1_Naming.hdf'))\n",
    "test_data.head()"
   ]
  },
  {
   "cell_type": "markdown",
   "metadata": {},
   "source": [
    "Take the results from the second experiment, naming task."
   ]
  },
  {
   "cell_type": "markdown",
   "metadata": {
    "collapsed": true
   },
   "source": [
    "# Compute Euclidean Distance between original and simulation"
   ]
  },
  {
   "cell_type": "code",
   "execution_count": 5,
   "metadata": {},
   "outputs": [],
   "source": [
    "def comp_ed(sim_hmax, orig_hmax):\n",
    "    \"\"\"\n",
    "    Read HMAX output files for simulated and original image with pandas.\n",
    "    Compute Euclidean distance between the two.\n",
    "    Return dict with ED, as well as file paths\n",
    "    \"\"\"\n",
    "    # simulated\n",
    "    sim_df = pd.read_csv(sim_hmax, header=None)\n",
    "    assert np.shape(sim_df[0]) == (2000,)\n",
    "\n",
    "    # original\n",
    "    orig_df = pd.read_csv(orig_hmax, header=None)\n",
    "    assert np.shape(orig_df[0]) == (2000,)\n",
    "\n",
    "    # compute euclidean distance\n",
    "    ed = lnorm(sim_df[0]-orig_df[0])\n",
    "\n",
    "    # get path names of pictures\n",
    "    orig_pname = orig_hmax.replace('.ascii', '').replace('./results/', '')\n",
    "    sim_pname = sim_hmax.replace('.ascii', '').replace('./results/', '')\n",
    "    \n",
    "    # return dict\n",
    "    ed_dict = {\n",
    "        'ed' : ed,\n",
    "        'orig' : orig_pname,\n",
    "        'sim' : sim_pname\n",
    "    }\n",
    "    return ed_dict"
   ]
  },
  {
   "cell_type": "code",
   "execution_count": 6,
   "metadata": {},
   "outputs": [
    {
     "name": "stdout",
     "output_type": "stream",
     "text": [
      "{'ed': 8.966686528324578, 'sim': 'Apfel.1_v2_percept.png', 'orig': 'Apfel.1_v1_new.jpg'}\n"
     ]
    }
   ],
   "source": [
    "# Example\n",
    "\n",
    "ed_dict = comp_ed(sim_hmax='./results/Apfel.1_v2_percept.png.ascii',\n",
    "             orig_hmax='./results/Apfel.1_v1_new.jpg.ascii')\n",
    "\n",
    "print(ed_dict)"
   ]
  },
  {
   "cell_type": "markdown",
   "metadata": {},
   "source": [
    "## Collect EDs for all relevant stimuli"
   ]
  },
  {
   "cell_type": "code",
   "execution_count": 7,
   "metadata": {},
   "outputs": [],
   "source": [
    "# how many HMAX outputs have we?\n",
    "# Should be 144 (80 originals + 64 simulations used by Lihui)\n",
    "assert len(glob.glob('./results/*')) == 144"
   ]
  },
  {
   "cell_type": "code",
   "execution_count": 8,
   "metadata": {},
   "outputs": [],
   "source": [
    "# My HMAX output\n",
    "sim_flist = glob.glob('./results/*')\n",
    "sim_flist.sort()\n",
    "# sim_flist"
   ]
  },
  {
   "cell_type": "code",
   "execution_count": 9,
   "metadata": {},
   "outputs": [],
   "source": [
    "# Names of Lihui's stimuli without file extension\n",
    "picnames = [pathname.split('/')[-1].replace('_v2_percept.png','') for pathname in test_data.Img.unique()]\n",
    "#picnames"
   ]
  },
  {
   "cell_type": "code",
   "execution_count": 10,
   "metadata": {},
   "outputs": [],
   "source": [
    "# iterate through all relevant stimuli\n",
    "\n",
    "# list of dicts to be filled\n",
    "ed_dicts = []\n",
    "\n",
    "for picname in picnames:\n",
    "    # paths to hmax results\n",
    "    orig_hmax = './results/' + picname + '_v1_new.jpg.ascii'\n",
    "    sim_hmax = './results/' + picname + '_v2_percept.png.ascii'\n",
    "    # ed\n",
    "    ed_dict = comp_ed(sim_hmax, orig_hmax)\n",
    "    ed_dicts.append(ed_dict)\n",
    "\n",
    "assert len(ed_dicts) == 64"
   ]
  },
  {
   "cell_type": "markdown",
   "metadata": {},
   "source": [
    "## Descriptive statistics"
   ]
  },
  {
   "cell_type": "code",
   "execution_count": 11,
   "metadata": {
    "collapsed": true
   },
   "outputs": [],
   "source": [
    "# only the distances\n",
    "eds = [ed_dict['ed'] for ed_dict in ed_dicts]"
   ]
  },
  {
   "cell_type": "code",
   "execution_count": 12,
   "metadata": {},
   "outputs": [
    {
     "name": "stdout",
     "output_type": "stream",
     "text": [
      "mean ED: 15.477273\n",
      "standard deviation: 1.607819\n"
     ]
    }
   ],
   "source": [
    "print('mean ED: %f' % np.mean(eds))\n",
    "print('standard deviation: %f' % np.std(eds))"
   ]
  },
  {
   "cell_type": "code",
   "execution_count": 13,
   "metadata": {},
   "outputs": [
    {
     "data": {
      "text/plain": [
       "<matplotlib.text.Text at 0x10d03da50>"
      ]
     },
     "execution_count": 13,
     "metadata": {},
     "output_type": "execute_result"
    },
    {
     "data": {
      "image/png": "[encoded data removed]",
      "text/plain": [
       "<matplotlib.figure.Figure at 0x10c2ff310>"
      ]
     },
     "metadata": {},
     "output_type": "display_data"
    }
   ],
   "source": [
    "sns.distplot(eds, rug=True)\n",
    "\n",
    "plt.title('Histogram of Euclidean Distances')\n",
    "plt.xlabel('Euclidean Distance')\n",
    "plt.ylabel('Count')"
   ]
  },
  {
   "cell_type": "markdown",
   "metadata": {},
   "source": [
    "**Note:**\n",
    "- Euclidean distances are not normally distributed due to some outliers with low values (these could be apples)\n",
    "- Besides that, there seems to be enough variability in the EDs to use for prediction"
   ]
  },
  {
   "cell_type": "markdown",
   "metadata": {},
   "source": [
    "## Find the outliers"
   ]
  },
  {
   "cell_type": "code",
   "execution_count": 14,
   "metadata": {
    "collapsed": true
   },
   "outputs": [],
   "source": [
    "sorted_ed_dicts = sorted(ed_dicts, key=lambda k: k['ed']) "
   ]
  },
  {
   "cell_type": "code",
   "execution_count": 16,
   "metadata": {},
   "outputs": [
    {
     "data": {
      "text/plain": [
       "[{'ed': 8.941344299468149,\n",
       "  'orig': 'Apfel.2_v1_new.jpg',\n",
       "  'sim': 'Apfel.2_v2_percept.png'},\n",
       " {'ed': 8.966686528324578,\n",
       "  'orig': 'Apfel.1_v1_new.jpg',\n",
       "  'sim': 'Apfel.1_v2_percept.png'},\n",
       " {'ed': 9.52822620953396,\n",
       "  'orig': 'Apfel.3_v1_new.jpg',\n",
       "  'sim': 'Apfel.3_v2_percept.png'},\n",
       " {'ed': 14.448208366549999,\n",
       "  'orig': 'Apfel.7_v1_new.jpg',\n",
       "  'sim': 'Apfel.7_v2_percept.png'},\n",
       " {'ed': 14.517777719989972,\n",
       "  'orig': 'Loeffel.6_v1_new.jpg',\n",
       "  'sim': 'Loeffel.6_v2_percept.png'}]"
      ]
     },
     "execution_count": 16,
     "metadata": {},
     "output_type": "execute_result"
    }
   ],
   "source": [
    "sorted_ed_dicts[:5]"
   ]
  },
  {
   "cell_type": "markdown",
   "metadata": {},
   "source": [
    "The three outliers are indeed some of the apples."
   ]
  }
 ],
 "metadata": {
  "kernelspec": {
   "display_name": "Python 2",
   "language": "python",
   "name": "python2"
  },
  "language_info": {
   "codemirror_mode": {
    "name": "ipython",
    "version": 2
   },
   "file_extension": ".py",
   "mimetype": "text/x-python",
   "name": "python",
   "nbconvert_exporter": "python",
   "pygments_lexer": "ipython2",
   "version": "2.7.13"
  }
 },
 "nbformat": 4,
 "nbformat_minor": 2
}
