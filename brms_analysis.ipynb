{
 "cells": [
  {
   "cell_type": "code",
   "execution_count": 1,
   "metadata": {},
   "outputs": [
    {
     "name": "stderr",
     "output_type": "stream",
     "text": [
      "Loading required package: Rcpp\n",
      "Loading required package: ggplot2\n",
      "Loading 'brms' package (version 2.4.0). Useful instructions\n",
      "can be found by typing help('brms'). A more detailed introduction\n",
      "to the package is available through vignette('brms_overview').\n",
      "Run theme_set(theme_default()) to use the default bayesplot theme.\n"
     ]
    }
   ],
   "source": [
    "library(brms)\n",
    "theme_set(theme_default())"
   ]
  },
  {
   "cell_type": "markdown",
   "metadata": {},
   "source": [
    "# Load data"
   ]
  },
  {
   "cell_type": "code",
   "execution_count": 2,
   "metadata": {},
   "outputs": [],
   "source": [
    "# load RData into environment object (\"ex\")\n",
    "load(\"./prepped_data.RData\", ex <- new.env())"
   ]
  },
  {
   "cell_type": "code",
   "execution_count": 3,
   "metadata": {},
   "outputs": [],
   "source": [
    "# Load data from environment.\n",
    "# For testing, we're using df_slice, which has only subjects 1 an 2.\n",
    "#df <- ex$df_slice\n",
    "df <- ex$df_total"
   ]
  },
  {
   "cell_type": "code",
   "execution_count": 4,
   "metadata": {},
   "outputs": [
    {
     "data": {
      "text/html": [
       "<table>\n",
       "<thead><tr><th scope=col>Answer</th><th scope=col>Block</th><th scope=col>CD</th><th scope=col>Choice</th><th scope=col>ED</th><th scope=col>RT</th><th scope=col>Trlnum</th><th scope=col>conNT</th><th scope=col>conNT_cent</th><th scope=col>item_id</th><th scope=col>newNT</th><th scope=col>newNT_cent</th><th scope=col>sub</th><th scope=col>task</th></tr></thead>\n",
       "<tbody>\n",
       "\t<tr><td>1          </td><td>0          </td><td>1.140978   </td><td>0          </td><td>15.32376   </td><td>1.762020   </td><td> 0         </td><td>8.711341   </td><td>-0.02945527</td><td>16.0       </td><td>6.996014   </td><td>0.002536885</td><td>1          </td><td>disc       </td></tr>\n",
       "\t<tr><td>0          </td><td>1          </td><td>1.140978   </td><td>1          </td><td>15.32376   </td><td>2.242939   </td><td>33         </td><td>8.711341   </td><td>-0.02945527</td><td>16.0       </td><td>6.996014   </td><td>0.002536885</td><td>1          </td><td>disc       </td></tr>\n",
       "\t<tr><td>1          </td><td>2          </td><td>1.140978   </td><td>0          </td><td>15.32376   </td><td>1.766368   </td><td>39         </td><td>8.711341   </td><td>-0.02945527</td><td>16.0       </td><td>6.996014   </td><td>0.002536885</td><td>1          </td><td>disc       </td></tr>\n",
       "\t<tr><td>1          </td><td>0          </td><td>1.140978   </td><td>0          </td><td>15.32376   </td><td>2.559490   </td><td>38         </td><td>8.711341   </td><td>-0.02945527</td><td>16.0       </td><td>6.996014   </td><td>0.002536885</td><td>2          </td><td>disc       </td></tr>\n",
       "\t<tr><td>1          </td><td>2          </td><td>1.140978   </td><td>0          </td><td>15.32376   </td><td>2.417423   </td><td>51         </td><td>8.711341   </td><td>-0.02945527</td><td>16.0       </td><td>6.996014   </td><td>0.002536885</td><td>2          </td><td>disc       </td></tr>\n",
       "\t<tr><td>0          </td><td>0          </td><td>1.140978   </td><td>1          </td><td>15.32376   </td><td>1.718840   </td><td> 2         </td><td>8.711341   </td><td>-0.02945527</td><td>16.0       </td><td>6.996014   </td><td>0.002536885</td><td>3          </td><td>disc       </td></tr>\n",
       "</tbody>\n",
       "</table>\n"
      ],
      "text/latex": [
       "\\begin{tabular}{r|llllllllllllll}\n",
       " Answer & Block & CD & Choice & ED & RT & Trlnum & conNT & conNT\\_cent & item\\_id & newNT & newNT\\_cent & sub & task\\\\\n",
       "\\hline\n",
       "\t 1           & 0           & 1.140978    & 0           & 15.32376    & 1.762020    &  0          & 8.711341    & -0.02945527 & 16.0        & 6.996014    & 0.002536885 & 1           & disc       \\\\\n",
       "\t 0           & 1           & 1.140978    & 1           & 15.32376    & 2.242939    & 33          & 8.711341    & -0.02945527 & 16.0        & 6.996014    & 0.002536885 & 1           & disc       \\\\\n",
       "\t 1           & 2           & 1.140978    & 0           & 15.32376    & 1.766368    & 39          & 8.711341    & -0.02945527 & 16.0        & 6.996014    & 0.002536885 & 1           & disc       \\\\\n",
       "\t 1           & 0           & 1.140978    & 0           & 15.32376    & 2.559490    & 38          & 8.711341    & -0.02945527 & 16.0        & 6.996014    & 0.002536885 & 2           & disc       \\\\\n",
       "\t 1           & 2           & 1.140978    & 0           & 15.32376    & 2.417423    & 51          & 8.711341    & -0.02945527 & 16.0        & 6.996014    & 0.002536885 & 2           & disc       \\\\\n",
       "\t 0           & 0           & 1.140978    & 1           & 15.32376    & 1.718840    &  2          & 8.711341    & -0.02945527 & 16.0        & 6.996014    & 0.002536885 & 3           & disc       \\\\\n",
       "\\end{tabular}\n"
      ],
      "text/markdown": [
       "\n",
       "Answer | Block | CD | Choice | ED | RT | Trlnum | conNT | conNT_cent | item_id | newNT | newNT_cent | sub | task | \n",
       "|---|---|---|---|---|---|\n",
       "| 1           | 0           | 1.140978    | 0           | 15.32376    | 1.762020    |  0          | 8.711341    | -0.02945527 | 16.0        | 6.996014    | 0.002536885 | 1           | disc        | \n",
       "| 0           | 1           | 1.140978    | 1           | 15.32376    | 2.242939    | 33          | 8.711341    | -0.02945527 | 16.0        | 6.996014    | 0.002536885 | 1           | disc        | \n",
       "| 1           | 2           | 1.140978    | 0           | 15.32376    | 1.766368    | 39          | 8.711341    | -0.02945527 | 16.0        | 6.996014    | 0.002536885 | 1           | disc        | \n",
       "| 1           | 0           | 1.140978    | 0           | 15.32376    | 2.559490    | 38          | 8.711341    | -0.02945527 | 16.0        | 6.996014    | 0.002536885 | 2           | disc        | \n",
       "| 1           | 2           | 1.140978    | 0           | 15.32376    | 2.417423    | 51          | 8.711341    | -0.02945527 | 16.0        | 6.996014    | 0.002536885 | 2           | disc        | \n",
       "| 0           | 0           | 1.140978    | 1           | 15.32376    | 1.718840    |  2          | 8.711341    | -0.02945527 | 16.0        | 6.996014    | 0.002536885 | 3           | disc        | \n",
       "\n",
       "\n"
      ],
      "text/plain": [
       "  Answer Block CD       Choice ED       RT       Trlnum conNT    conNT_cent \n",
       "1 1      0     1.140978 0      15.32376 1.762020  0     8.711341 -0.02945527\n",
       "2 0      1     1.140978 1      15.32376 2.242939 33     8.711341 -0.02945527\n",
       "3 1      2     1.140978 0      15.32376 1.766368 39     8.711341 -0.02945527\n",
       "4 1      0     1.140978 0      15.32376 2.559490 38     8.711341 -0.02945527\n",
       "5 1      2     1.140978 0      15.32376 2.417423 51     8.711341 -0.02945527\n",
       "6 0      0     1.140978 1      15.32376 1.718840  2     8.711341 -0.02945527\n",
       "  item_id newNT    newNT_cent  sub task\n",
       "1 16.0    6.996014 0.002536885 1   disc\n",
       "2 16.0    6.996014 0.002536885 1   disc\n",
       "3 16.0    6.996014 0.002536885 1   disc\n",
       "4 16.0    6.996014 0.002536885 2   disc\n",
       "5 16.0    6.996014 0.002536885 2   disc\n",
       "6 16.0    6.996014 0.002536885 3   disc"
      ]
     },
     "metadata": {},
     "output_type": "display_data"
    }
   ],
   "source": [
    "head(df)"
   ]
  },
  {
   "cell_type": "code",
   "execution_count": 5,
   "metadata": {},
   "outputs": [
    {
     "name": "stdout",
     "output_type": "stream",
     "text": [
      "'data.frame':\t11683 obs. of  14 variables:\n",
      " $ Answer    : Factor w/ 2 levels \"0\",\"1\": 2 1 2 2 2 1 1 2 2 2 ...\n",
      " $ Block     : Factor w/ 3 levels \"0\",\"1\",\"2\": 1 2 3 1 3 1 2 3 1 2 ...\n",
      " $ CD        : num  1.14 1.14 1.14 1.14 1.14 ...\n",
      " $ Choice    : int  0 1 0 0 0 1 2 0 0 0 ...\n",
      " $ ED        : num  15.3 15.3 15.3 15.3 15.3 ...\n",
      " $ RT        : num  1.76 2.24 1.77 2.56 2.42 ...\n",
      " $ Trlnum    : int  0 33 39 38 51 2 51 46 31 6 ...\n",
      " $ conNT     : num  8.71 8.71 8.71 8.71 8.71 ...\n",
      " $ conNT_cent: num  -0.0295 -0.0295 -0.0295 -0.0295 -0.0295 ...\n",
      " $ item_id   : Factor w/ 64 levels \"0.0\",\"1.0\",\"10.0\",..: 9 9 9 9 9 9 9 9 9 9 ...\n",
      " $ newNT     : num  7 7 7 7 7 ...\n",
      " $ newNT_cent: num  0.00254 0.00254 0.00254 0.00254 0.00254 ...\n",
      " $ sub       : Factor w/ 32 levels \"1\",\"10\",\"11\",..: 1 1 1 12 12 23 23 23 27 27 ...\n",
      " $ task      : Factor w/ 2 levels \"disc\",\"name\": 1 1 1 1 1 1 1 1 1 1 ...\n"
     ]
    }
   ],
   "source": [
    "str(df)"
   ]
  },
  {
   "cell_type": "markdown",
   "metadata": {},
   "source": [
    "# Modelling\n",
    "\n",
    "## Overview\n",
    "\n",
    "We want to predict accuracy (\"Answer\") by the following:\n",
    "\n",
    "- Fixed effects structure:\n",
    "    - $NT*Block$\n",
    "    - NT can be: conNT, newNT, conNT AND newNT (incremental prediction)\n",
    "    - $H_0$: Model without NT\n",
    "    - We'll use the centered version of the neural typicality measures for interpretability"
   ]
  },
  {
   "cell_type": "markdown",
   "metadata": {},
   "source": [
    "## Null models"
   ]
  },
  {
   "cell_type": "code",
   "execution_count": 6,
   "metadata": {},
   "outputs": [],
   "source": [
    "# Build a null model, which assumes full random effects structure and a fixed effect for learning across blocks,\n",
    "# but no influence of any neural typicality measure.\n",
    "answer_nullmodel <- brm(Answer ~ Block + (Block|sub) + (1|item_id) + (1|task),\n",
    "                        data = df,\n",
    "                        family = bernoulli,\n",
    "                        file = \"answer_nullmodel\",\n",
    "                        chains = 2, cores = 2)"
   ]
  },
  {
   "cell_type": "code",
   "execution_count": 8,
   "metadata": {},
   "outputs": [],
   "source": [
    "# Null model with varying slope for Block over tasks and over subjects\n",
    "answer_nullmodel2 <- brm(Answer ~ Block + (Block|sub) + (Block|task) + (1|item_id),\n",
    "                        data = df,\n",
    "                        family = bernoulli,\n",
    "                        file = \"answer_nullmodel2\",\n",
    "                        chains = 2, cores = 2)"
   ]
  },
  {
   "cell_type": "code",
   "execution_count": 9,
   "metadata": {},
   "outputs": [],
   "source": [
    "# Null model with random slope for block and task as well as their interaction across subjects\n",
    "answer_nullmodel3 <- brm(Answer ~ Block*task + (Block*task|sub) + (1|item_id),\n",
    "                        data = df,\n",
    "                        family = bernoulli,\n",
    "                        file = \"answer_nullmodel3\",\n",
    "                        chains = 2, cores = 2)"
   ]
  },
  {
   "cell_type": "code",
   "execution_count": 26,
   "metadata": {},
   "outputs": [],
   "source": [
    "# Null model equivalent to nullmodel3, but with random item slope over tasks.\n",
    "#answer_nullmodel4 <- brm(Answer ~ Block*task + (Block*task|sub) + (item_id|task),\n",
    "#                        data = df,\n",
    "#                        family = bernoulli,\n",
    "#                        file = \"answer_nullmodel4\",\n",
    "#                        chains = 2, cores = 2)"
   ]
  },
  {
   "cell_type": "code",
   "execution_count": 35,
   "metadata": {},
   "outputs": [],
   "source": [
    "# Null model 4 cannot be evaluated by stan\n",
    "\n",
    "#system(\"cat nohup.out\", intern=TRUE)"
   ]
  },
  {
   "cell_type": "markdown",
   "metadata": {},
   "source": [
    "Compare null models:"
   ]
  },
  {
   "cell_type": "code",
   "execution_count": 27,
   "metadata": {
    "scrolled": true
   },
   "outputs": [],
   "source": [
    "waic_nullmodcomp <- waic(answer_nullmodel, answer_nullmodel2, answer_nullmodel3)"
   ]
  },
  {
   "cell_type": "code",
   "execution_count": 28,
   "metadata": {},
   "outputs": [
    {
     "data": {
      "text/plain": [
       "                                          WAIC    SE\n",
       "answer_nullmodel                      13557.19 94.08\n",
       "answer_nullmodel2                     13562.06 93.97\n",
       "answer_nullmodel3                     13519.29 94.84\n",
       "answer_nullmodel - answer_nullmodel2     -4.86  1.49\n",
       "answer_nullmodel - answer_nullmodel3     37.90 14.26\n",
       "answer_nullmodel2 - answer_nullmodel3    42.77 14.16"
      ]
     },
     "metadata": {},
     "output_type": "display_data"
    }
   ],
   "source": [
    "waic_nullmodcomp"
   ]
  },
  {
   "cell_type": "markdown",
   "metadata": {},
   "source": [
    "Null model 3 fits best. (The next more complex model, number 4, could not be evaluated). Hence, We should also use its random effects structure for testing our models of interest."
   ]
  },
  {
   "cell_type": "markdown",
   "metadata": {},
   "source": [
    "### Newfound neural typicality"
   ]
  },
  {
   "cell_type": "code",
   "execution_count": 11,
   "metadata": {},
   "outputs": [],
   "source": [
    "# Add the newfound neural typicality measure to the model\n",
    "answer_newNT <- brm(Answer ~ newNT_cent*Block + (newNT_cent*Block|sub) + (1|item_id) + (1|task),\n",
    "                    data = df,\n",
    "                    family = bernoulli,\n",
    "                    file = \"answer_newNT\",\n",
    "                    chains = 2, cores = 2)"
   ]
  },
  {
   "cell_type": "code",
   "execution_count": 12,
   "metadata": {},
   "outputs": [
    {
     "name": "stderr",
     "output_type": "stream",
     "text": [
      "Warning message:\n",
      "“There were 95 divergent transitions after warmup. Increasing adapt_delta above 0.8 may help.\n",
      "See http://mc-stan.org/misc/warnings.html#divergent-transitions-after-warmup”"
     ]
    },
    {
     "data": {
      "text/plain": [
       " Family: bernoulli \n",
       "  Links: mu = logit \n",
       "Formula: Answer ~ newNT_cent * Block + (newNT_cent * Block | sub) + (1 | item_id) + (1 | task) \n",
       "   Data: df (Number of observations: 11683) \n",
       "Samples: 2 chains, each with iter = 2000; warmup = 1000; thin = 1;\n",
       "         total post-warmup samples = 2000\n",
       "\n",
       "Group-Level Effects: \n",
       "~item_id (Number of levels: 64) \n",
       "              Estimate Est.Error l-95% CI u-95% CI Eff.Sample Rhat\n",
       "sd(Intercept)     0.95      0.09     0.80     1.15        279 1.01\n",
       "\n",
       "~sub (Number of levels: 32) \n",
       "                                         Estimate Est.Error l-95% CI u-95% CI\n",
       "sd(Intercept)                                0.54      0.08     0.40     0.72\n",
       "sd(newNT_cent)                              18.19     10.58     0.82    39.86\n",
       "sd(Block1)                                   0.25      0.08     0.08     0.41\n",
       "sd(Block2)                                   0.29      0.08     0.15     0.45\n",
       "sd(newNT_cent:Block1)                        7.19      5.77     0.35    20.92\n",
       "sd(newNT_cent:Block2)                        9.20      7.82     0.33    29.39\n",
       "cor(Intercept,newNT_cent)                   -0.03      0.29    -0.61     0.54\n",
       "cor(Intercept,Block1)                       -0.16      0.24    -0.57     0.37\n",
       "cor(newNT_cent,Block1)                      -0.02      0.32    -0.62     0.61\n",
       "cor(Intercept,Block2)                        0.03      0.23    -0.39     0.47\n",
       "cor(newNT_cent,Block2)                      -0.31      0.31    -0.81     0.42\n",
       "cor(Block1,Block2)                           0.57      0.23     0.02     0.90\n",
       "cor(Intercept,newNT_cent:Block1)            -0.02      0.38    -0.75     0.72\n",
       "cor(newNT_cent,newNT_cent:Block1)           -0.03      0.37    -0.73     0.68\n",
       "cor(Block1,newNT_cent:Block1)                0.00      0.37    -0.71     0.67\n",
       "cor(Block2,newNT_cent:Block1)               -0.03      0.37    -0.73     0.68\n",
       "cor(Intercept,newNT_cent:Block2)             0.16      0.37    -0.63     0.77\n",
       "cor(newNT_cent,newNT_cent:Block2)            0.04      0.38    -0.67     0.74\n",
       "cor(Block1,newNT_cent:Block2)               -0.03      0.37    -0.70     0.66\n",
       "cor(Block2,newNT_cent:Block2)               -0.07      0.36    -0.73     0.65\n",
       "cor(newNT_cent:Block1,newNT_cent:Block2)     0.02      0.37    -0.68     0.71\n",
       "                                         Eff.Sample Rhat\n",
       "sd(Intercept)                                   452 1.00\n",
       "sd(newNT_cent)                                  394 1.00\n",
       "sd(Block1)                                      476 1.00\n",
       "sd(Block2)                                      456 1.00\n",
       "sd(newNT_cent:Block1)                          1533 1.00\n",
       "sd(newNT_cent:Block2)                           983 1.00\n",
       "cor(Intercept,newNT_cent)                      1233 1.00\n",
       "cor(Intercept,Block1)                           857 1.00\n",
       "cor(newNT_cent,Block1)                          360 1.00\n",
       "cor(Intercept,Block2)                           674 1.00\n",
       "cor(newNT_cent,Block2)                          223 1.00\n",
       "cor(Block1,Block2)                              653 1.00\n",
       "cor(Intercept,newNT_cent:Block1)               2000 1.00\n",
       "cor(newNT_cent,newNT_cent:Block1)              2000 1.00\n",
       "cor(Block1,newNT_cent:Block1)                  2000 1.00\n",
       "cor(Block2,newNT_cent:Block1)                  2000 1.00\n",
       "cor(Intercept,newNT_cent:Block2)               2000 1.00\n",
       "cor(newNT_cent,newNT_cent:Block2)              2000 1.00\n",
       "cor(Block1,newNT_cent:Block2)                  2000 1.00\n",
       "cor(Block2,newNT_cent:Block2)                  1640 1.00\n",
       "cor(newNT_cent:Block1,newNT_cent:Block2)       1354 1.00\n",
       "\n",
       "~task (Number of levels: 2) \n",
       "              Estimate Est.Error l-95% CI u-95% CI Eff.Sample Rhat\n",
       "sd(Intercept)     0.96      1.10     0.07     4.09        199 1.03\n",
       "\n",
       "Population-Level Effects: \n",
       "                  Estimate Est.Error l-95% CI u-95% CI Eff.Sample Rhat\n",
       "Intercept             0.19      0.65    -1.26     1.53        453 1.00\n",
       "newNT_cent          -94.53     33.23  -158.58   -28.00        213 1.01\n",
       "Block1                0.13      0.07    -0.00     0.27        762 1.00\n",
       "Block2                0.25      0.08     0.10     0.40        778 1.00\n",
       "newNT_cent:Block1    28.64     15.27    -1.00    60.70       2000 1.00\n",
       "newNT_cent:Block2    56.19     15.14    26.96    85.03       1615 1.00\n",
       "\n",
       "Samples were drawn using sampling(NUTS). For each parameter, Eff.Sample \n",
       "is a crude measure of effective sample size, and Rhat is the potential \n",
       "scale reduction factor on split chains (at convergence, Rhat = 1)."
      ]
     },
     "metadata": {},
     "output_type": "display_data"
    }
   ],
   "source": [
    "summary(answer_newNT)"
   ]
  },
  {
   "cell_type": "markdown",
   "metadata": {},
   "source": [
    "### Conserved neural typicality"
   ]
  },
  {
   "cell_type": "code",
   "execution_count": 13,
   "metadata": {},
   "outputs": [],
   "source": [
    "answer_conNT <- brm(Answer ~ conNT_cent*Block + (conNT_cent*Block|sub) + (1|item_id) + (1|task),\n",
    "                    data = df,\n",
    "                    family = bernoulli,\n",
    "                    file = \"answer_conNT\",\n",
    "                    chains = 2, cores = 2)"
   ]
  },
  {
   "cell_type": "code",
   "execution_count": 14,
   "metadata": {},
   "outputs": [
    {
     "name": "stderr",
     "output_type": "stream",
     "text": [
      "Warning message:\n",
      "“There were 143 divergent transitions after warmup. Increasing adapt_delta above 0.8 may help.\n",
      "See http://mc-stan.org/misc/warnings.html#divergent-transitions-after-warmup”"
     ]
    },
    {
     "data": {
      "text/plain": [
       " Family: bernoulli \n",
       "  Links: mu = logit \n",
       "Formula: Answer ~ conNT_cent * Block + (conNT_cent * Block | sub) + (1 | item_id) + (1 | task) \n",
       "   Data: df (Number of observations: 11683) \n",
       "Samples: 2 chains, each with iter = 2000; warmup = 1000; thin = 1;\n",
       "         total post-warmup samples = 2000\n",
       "\n",
       "Group-Level Effects: \n",
       "~item_id (Number of levels: 64) \n",
       "              Estimate Est.Error l-95% CI u-95% CI Eff.Sample Rhat\n",
       "sd(Intercept)     0.97      0.09     0.81     1.18        302 1.00\n",
       "\n",
       "~sub (Number of levels: 32) \n",
       "                                         Estimate Est.Error l-95% CI u-95% CI\n",
       "sd(Intercept)                                0.54      0.09     0.40     0.74\n",
       "sd(conNT_cent)                               1.33      0.72     0.07     2.75\n",
       "sd(Block1)                                   0.25      0.08     0.10     0.41\n",
       "sd(Block2)                                   0.30      0.08     0.16     0.46\n",
       "sd(conNT_cent:Block1)                        1.24      0.92     0.06     3.37\n",
       "sd(conNT_cent:Block2)                        1.65      1.03     0.10     3.85\n",
       "cor(Intercept,conNT_cent)                    0.06      0.31    -0.54     0.62\n",
       "cor(Intercept,Block1)                       -0.15      0.25    -0.59     0.39\n",
       "cor(conNT_cent,Block1)                       0.14      0.32    -0.51     0.71\n",
       "cor(Intercept,Block2)                        0.04      0.23    -0.38     0.50\n",
       "cor(conNT_cent,Block2)                       0.22      0.33    -0.46     0.79\n",
       "cor(Block1,Block2)                           0.60      0.22     0.04     0.91\n",
       "cor(Intercept,conNT_cent:Block1)            -0.05      0.34    -0.68     0.62\n",
       "cor(conNT_cent,conNT_cent:Block1)           -0.01      0.37    -0.70     0.72\n",
       "cor(Block1,conNT_cent:Block1)                0.05      0.37    -0.67     0.71\n",
       "cor(Block2,conNT_cent:Block1)                0.08      0.37    -0.65     0.74\n",
       "cor(Intercept,conNT_cent:Block2)            -0.26      0.33    -0.78     0.47\n",
       "cor(conNT_cent,conNT_cent:Block2)           -0.06      0.37    -0.71     0.68\n",
       "cor(Block1,conNT_cent:Block2)                0.00      0.35    -0.68     0.66\n",
       "cor(Block2,conNT_cent:Block2)               -0.10      0.34    -0.72     0.59\n",
       "cor(conNT_cent:Block1,conNT_cent:Block2)     0.07      0.37    -0.68     0.74\n",
       "                                         Eff.Sample Rhat\n",
       "sd(Intercept)                                   376 1.01\n",
       "sd(conNT_cent)                                  359 1.00\n",
       "sd(Block1)                                      568 1.00\n",
       "sd(Block2)                                      580 1.01\n",
       "sd(conNT_cent:Block1)                           662 1.00\n",
       "sd(conNT_cent:Block2)                           603 1.00\n",
       "cor(Intercept,conNT_cent)                      1398 1.00\n",
       "cor(Intercept,Block1)                          1245 1.00\n",
       "cor(conNT_cent,Block1)                          475 1.00\n",
       "cor(Intercept,Block2)                           973 1.00\n",
       "cor(conNT_cent,Block2)                          358 1.00\n",
       "cor(Block1,Block2)                              681 1.00\n",
       "cor(Intercept,conNT_cent:Block1)               2000 1.00\n",
       "cor(conNT_cent,conNT_cent:Block1)              2000 1.00\n",
       "cor(Block1,conNT_cent:Block1)                  1268 1.00\n",
       "cor(Block2,conNT_cent:Block1)                  1372 1.00\n",
       "cor(Intercept,conNT_cent:Block2)               1191 1.00\n",
       "cor(conNT_cent,conNT_cent:Block2)              1190 1.00\n",
       "cor(Block1,conNT_cent:Block2)                  1555 1.00\n",
       "cor(Block2,conNT_cent:Block2)                  1750 1.00\n",
       "cor(conNT_cent:Block1,conNT_cent:Block2)        931 1.00\n",
       "\n",
       "~task (Number of levels: 2) \n",
       "              Estimate Est.Error l-95% CI u-95% CI Eff.Sample Rhat\n",
       "sd(Intercept)     0.82      0.79     0.07     3.07        620 1.00\n",
       "\n",
       "Population-Level Effects: \n",
       "                  Estimate Est.Error l-95% CI u-95% CI Eff.Sample Rhat\n",
       "Intercept             0.15      0.52    -1.07     1.26        499 1.00\n",
       "conNT_cent            4.61      2.23     0.38     9.14        208 1.01\n",
       "Block1                0.13      0.07    -0.00     0.26        943 1.00\n",
       "Block2                0.26      0.07     0.12     0.42        937 1.00\n",
       "conNT_cent:Block1    -2.75      0.99    -4.72    -0.79       1045 1.00\n",
       "conNT_cent:Block2    -1.04      1.05    -3.00     1.06       1449 1.00\n",
       "\n",
       "Samples were drawn using sampling(NUTS). For each parameter, Eff.Sample \n",
       "is a crude measure of effective sample size, and Rhat is the potential \n",
       "scale reduction factor on split chains (at convergence, Rhat = 1)."
      ]
     },
     "metadata": {},
     "output_type": "display_data"
    }
   ],
   "source": [
    "summary(answer_conNT)"
   ]
  },
  {
   "cell_type": "markdown",
   "metadata": {},
   "source": [
    "### Newfound *AND* conserved typicality"
   ]
  },
  {
   "cell_type": "code",
   "execution_count": 15,
   "metadata": {},
   "outputs": [],
   "source": [
    "answer_bothNT <- brm(Answer ~ conNT_cent*newNT_cent*Block + (conNT_cent*newNT_cent*Block|sub) + (1|item_id) + (1|task),\n",
    "                    data = df,\n",
    "                    family = bernoulli,\n",
    "                    file = \"answer_bothNT\",\n",
    "                    chains = 2, cores = 2)"
   ]
  },
  {
   "cell_type": "code",
   "execution_count": 16,
   "metadata": {
    "scrolled": true
   },
   "outputs": [],
   "source": [
    "#summary(answer_bothNT)"
   ]
  },
  {
   "cell_type": "markdown",
   "metadata": {},
   "source": [
    "# Model comparison"
   ]
  },
  {
   "cell_type": "code",
   "execution_count": 22,
   "metadata": {
    "scrolled": false
   },
   "outputs": [],
   "source": [
    "# WAIC\n",
    "waic_modcomp <- waic(answer_conNT, answer_newNT, answer_bothNT, answer_nullmodel)"
   ]
  },
  {
   "cell_type": "code",
   "execution_count": 23,
   "metadata": {},
   "outputs": [
    {
     "name": "stdout",
     "output_type": "stream",
     "text": [
      "                                     WAIC    SE\n",
      "answer_conNT                     13555.06 94.24\n",
      "answer_newNT                     13545.20 94.20\n",
      "answer_bothNT                    13537.82 94.64\n",
      "answer_nullmodel                 13557.19 94.08\n",
      "answer_conNT - answer_newNT          9.86 10.53\n",
      "answer_conNT - answer_bothNT        17.25 10.35\n",
      "answer_conNT - answer_nullmodel     -2.13  7.69\n",
      "answer_newNT - answer_bothNT         7.38  9.30\n",
      "answer_newNT - answer_nullmodel    -11.99  8.66\n",
      "answer_bothNT - answer_nullmodel   -19.38 13.06\n"
     ]
    }
   ],
   "source": [
    "print(waic_modcomp)"
   ]
  },
  {
   "cell_type": "code",
   "execution_count": 56,
   "metadata": {},
   "outputs": [],
   "source": [
    "loo_modcomp <- loo(answer_conNT, answer_newNT, answer_bothNT, answer_nullmodel)"
   ]
  },
  {
   "cell_type": "code",
   "execution_count": 57,
   "metadata": {},
   "outputs": [
    {
     "name": "stdout",
     "output_type": "stream",
     "text": [
      "                                    LOOIC    SE\n",
      "answer_conNT                     13556.08 94.24\n",
      "answer_newNT                     13546.16 94.21\n",
      "answer_bothNT                    13539.24 94.66\n",
      "answer_nullmodel                 13558.01 94.09\n",
      "answer_conNT - answer_newNT          9.92 10.53\n",
      "answer_conNT - answer_bothNT        16.83 10.36\n",
      "answer_conNT - answer_nullmodel     -1.94  7.69\n",
      "answer_newNT - answer_bothNT         6.92  9.31\n",
      "answer_newNT - answer_nullmodel    -11.85  8.66\n",
      "answer_bothNT - answer_nullmodel   -18.77 13.07\n"
     ]
    }
   ],
   "source": [
    "print(loo_modcomp)"
   ]
  },
  {
   "cell_type": "code",
   "execution_count": 42,
   "metadata": {},
   "outputs": [],
   "source": [
    "# retrieve individual fit measures\n",
    "\n",
    "#waic_modcomp$answer_conNT$estimates"
   ]
  },
  {
   "cell_type": "markdown",
   "metadata": {},
   "source": [
    "According to both WAIC and LOO, the order of model fit is:\n",
    "\n",
    "- both NT\n",
    "- new NT\n",
    "- con NT\n",
    "- null model"
   ]
  },
  {
   "cell_type": "markdown",
   "metadata": {},
   "source": [
    "# Visualization"
   ]
  },
  {
   "cell_type": "markdown",
   "metadata": {},
   "source": [
    "### Posteriors"
   ]
  },
  {
   "cell_type": "code",
   "execution_count": 47,
   "metadata": {
    "scrolled": false
   },
   "outputs": [],
   "source": [
    "# all posteriors\n",
    "#plot(answer_newNT, ask = FALSE)"
   ]
  },
  {
   "cell_type": "code",
   "execution_count": 59,
   "metadata": {
    "scrolled": false
   },
   "outputs": [],
   "source": [
    "# Only regression weights\n",
    "#plot(answer_bothNT, pars=\"^b\")"
   ]
  },
  {
   "cell_type": "markdown",
   "metadata": {},
   "source": [
    "### Model predictions"
   ]
  },
  {
   "cell_type": "code",
   "execution_count": 45,
   "metadata": {},
   "outputs": [],
   "source": [
    "# check distribution of predictions\n",
    "#pp_check(answer_newNT)"
   ]
  },
  {
   "cell_type": "code",
   "execution_count": 60,
   "metadata": {
    "scrolled": false
   },
   "outputs": [],
   "source": [
    "# Prediction by marginalized effects\n",
    "#plot(marginal_effects(answer_newNT), ask = FALSE)"
   ]
  },
  {
   "cell_type": "markdown",
   "metadata": {},
   "source": [
    "**Conclusions:**\n",
    "- the posterior standard deviation for the interaction parameters have most of the mass close to zero.\n",
    "            sd_sub__Block.Q:ED\n",
    "            sd_sub__Block.L:ED\n",
    "- This could indicate that letting them freely varying is not necessary or may even indicate overfitting. We should set up model(s) with these factors as only fixed effects and compare via LOO."
   ]
  },
  {
   "cell_type": "markdown",
   "metadata": {},
   "source": [
    "# TODO\n",
    "\n",
    "## Interpretability\n",
    "\n",
    "- Effect coding for categorical predictors (Block)\n",
    "\n",
    "## Hypothesis testing\n",
    "\n",
    "- Assess contrasts\n",
    "- Reduce model complexity and compare with LOO\n",
    "\n",
    "## Outlier evaluation\n",
    "\n",
    "- Compare models based on data including and excluding outliers."
   ]
  },
  {
   "cell_type": "code",
   "execution_count": null,
   "metadata": {},
   "outputs": [],
   "source": []
  }
 ],
 "metadata": {
  "kernelspec": {
   "display_name": "R",
   "language": "R",
   "name": "ir"
  },
  "language_info": {
   "codemirror_mode": "r",
   "file_extension": ".r",
   "mimetype": "text/x-r-source",
   "name": "R",
   "pygments_lexer": "r",
   "version": "3.4.3"
  }
 },
 "nbformat": 4,
 "nbformat_minor": 2
}
